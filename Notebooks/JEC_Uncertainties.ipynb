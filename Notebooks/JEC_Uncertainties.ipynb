{
 "cells": [
  {
   "cell_type": "code",
   "execution_count": 53,
   "metadata": {},
   "outputs": [],
   "source": [
    "import ROOT\n",
    "import PlotTools\n",
    "ROOT.enableJSVis()"
   ]
  },
  {
   "cell_type": "code",
   "execution_count": 69,
   "metadata": {},
   "outputs": [],
   "source": [
    "f1 = TFile('../data/BTagCSV/mjj_B-FH.root','read')\n",
    "cr1 = f1.Get('mjjcr3')\n",
    "cr1_up = f1.Get('mjjcr3_jup')\n",
    "cr1_down = f1.Get('mjjcr3_jdown')"
   ]
  },
  {
   "cell_type": "code",
   "execution_count": 74,
   "metadata": {},
   "outputs": [
    {
     "name": "stderr",
     "output_type": "stream",
     "text": [
      "Warning in <TCanvas::Constructor>: Deleting canvas with same name: c\n",
      "Warning in <TH1F::Sumw2>: Sum of squares of weights structure already created\n"
     ]
    }
   ],
   "source": [
    "line = TLine(0,1,1200,1);\n",
    "line.SetLineStyle(2)\n",
    "\n",
    "h, h_up, h_down,leg = PlotTools.make_plots(cr1,cr1_up,cr1_down, 'Control Region 3')\n",
    "canvas, pad1, pad2 = PlotTools.createCanvasPads()\n",
    "pad1.cd()\n",
    "h.Draw()\n",
    "h_up.Draw('same')\n",
    "h_down.Draw('same')\n",
    "leg.Draw('same')\n",
    "\n",
    "h3 = PlotTools.createRatio(h, h_up, 'JEC/JEC +1#sigma')\n",
    "pad2.cd()\n",
    "h3.Draw(\"ep\")\n",
    "line.Draw(\"same\")"
   ]
  },
  {
   "cell_type": "code",
   "execution_count": 75,
   "metadata": {},
   "outputs": [
    {
     "name": "stderr",
     "output_type": "stream",
     "text": [
      "Info in <TCanvas::Print>: png file ../plots/CR3_3.png has been created\n"
     ]
    },
    {
     "data": {
      "text/html": [
       "\n",
       "<div id=\"root_plot_23\"\n",
       "     style=\"width: 796px; height: 772px\">\n",
       "</div>\n",
       "\n",
       "<script>\n",
       " requirejs.config({\n",
       "     paths: {\n",
       "       'JSRootCore' : 'https://root.cern.ch/js/notebook//scripts/JSRootCore',\n",
       "     }\n",
       "   });\n",
       " require(['JSRootCore'],\n",
       "     function(Core) {\n",
       "       var obj = Core.JSONR_unref({\"_typename\":\"TCanvas\",\"fUniqueID\":0,\"fBits\":53673992,\"fLineColor\":1,\"fLineStyle\":1,\"fLineWidth\":1,\"fFillColor\":0,\"fFillStyle\":1001,\"fLeftMargin\":0.1,\"fRightMargin\":0.1,\"fBottomMargin\":0.1,\"fTopMargin\":0.1,\"fXfile\":2,\"fYfile\":2,\"fAfile\":1,\"fXstat\":0.99,\"fYstat\":0.99,\"fAstat\":2,\"fFrameFillColor\":0,\"fFrameLineColor\":1,\"fFrameFillStyle\":1001,\"fFrameLineStyle\":1,\"fFrameLineWidth\":1,\"fFrameBorderSize\":1,\"fFrameBorderMode\":0,\"fX1\":0,\"fY1\":0,\"fX2\":1,\"fY2\":1,\"fXtoAbsPixelk\":5e-5,\"fXtoPixelk\":5e-5,\"fXtoPixel\":796,\"fYtoAbsPixelk\":772.00005,\"fYtoPixelk\":772.00005,\"fYtoPixel\":-772,\"fUtoAbsPixelk\":5e-5,\"fUtoPixelk\":5e-5,\"fUtoPixel\":796,\"fVtoAbsPixelk\":772.00005,\"fVtoPixelk\":772,\"fVtoPixel\":-772,\"fAbsPixeltoXk\":0,\"fPixeltoXk\":0,\"fPixeltoX\":0.00125628140703518,\"fAbsPixeltoYk\":1,\"fPixeltoYk\":0,\"fPixeltoY\":-0.00129533678756477,\"fXlowNDC\":0,\"fYlowNDC\":0,\"fXUpNDC\":0,\"fYUpNDC\":0,\"fWNDC\":1,\"fHNDC\":1,\"fAbsXlowNDC\":0,\"fAbsYlowNDC\":0,\"fAbsWNDC\":1,\"fAbsHNDC\":1,\"fUxmin\":0,\"fUymin\":0,\"fUxmax\":1,\"fUymax\":1,\"fTheta\":30,\"fPhi\":30,\"fAspectRatio\":0,\"fNumber\":0,\"fTickx\":0,\"fTicky\":0,\"fLogx\":0,\"fLogy\":0,\"fLogz\":0,\"fPadPaint\":0,\"fCrosshair\":0,\"fCrosshairPos\":0,\"fBorderSize\":2,\"fBorderMode\":0,\"fModified\":false,\"fGridx\":false,\"fGridy\":false,\"fAbsCoord\":false,\"fEditable\":true,\"fFixedAspectRatio\":false,\"fPrimitives\":{\"_typename\":\"TList\",\"name\":\"TList\",\"arr\":[{\"_typename\":\"TPad\",\"fUniqueID\":0,\"fBits\":50331657,\"fLineColor\":1,\"fLineStyle\":1,\"fLineWidth\":1,\"fFillColor\":0,\"fFillStyle\":1001,\"fLeftMargin\":0.1,\"fRightMargin\":0.1,\"fBottomMargin\":0,\"fTopMargin\":0.1,\"fXfile\":2,\"fYfile\":2,\"fAfile\":1,\"fXstat\":0.99,\"fYstat\":0.99,\"fAstat\":2,\"fFrameFillColor\":0,\"fFrameLineColor\":1,\"fFrameFillStyle\":1001,\"fFrameLineStyle\":1,\"fFrameLineWidth\":1,\"fFrameBorderSize\":1,\"fFrameBorderMode\":0,\"fX1\":-150.000011175872,\"fY1\":0,\"fX2\":1350.00001117587,\"fY2\":51996.7158367611,\"fXtoAbsPixelk\":79.6000547445299,\"fXtoPixelk\":79.6000547445299,\"fXtoPixel\":0.530666658759117,\"fYtoAbsPixelk\":540.40005,\"fYtoPixelk\":540.40005,\"fYtoPixel\":-0.010392964080588,\"fUtoAbsPixelk\":5e-5,\"fUtoPixelk\":5e-5,\"fUtoPixel\":796,\"fVtoAbsPixelk\":540.40005,\"fVtoPixelk\":540.4,\"fVtoPixel\":-540.4,\"fAbsPixeltoXk\":-150.000011175872,\"fPixeltoXk\":-150.000011175872,\"fPixeltoX\":1.88442213863284,\"fAbsPixeltoYk\":51996.7158367611,\"fPixeltoYk\":0,\"fPixeltoY\":-96.2189412227259,\"fXlowNDC\":0,\"fYlowNDC\":0.3,\"fXUpNDC\":0,\"fYUpNDC\":0,\"fWNDC\":1,\"fHNDC\":0.7,\"fAbsXlowNDC\":0,\"fAbsYlowNDC\":0.3,\"fAbsWNDC\":1,\"fAbsHNDC\":0.7,\"fUxmin\":0,\"fUymin\":0,\"fUxmax\":1200,\"fUymax\":46797.0440593821,\"fTheta\":30,\"fPhi\":30,\"fAspectRatio\":0,\"fNumber\":0,\"fTickx\":0,\"fTicky\":0,\"fLogx\":0,\"fLogy\":0,\"fLogz\":0,\"fPadPaint\":0,\"fCrosshair\":0,\"fCrosshairPos\":0,\"fBorderSize\":2,\"fBorderMode\":0,\"fModified\":false,\"fGridx\":true,\"fGridy\":false,\"fAbsCoord\":false,\"fEditable\":true,\"fFixedAspectRatio\":false,\"fPrimitives\":{\"_typename\":\"TList\",\"name\":\"TList\",\"arr\":[{\"_typename\":\"TFrame\",\"fUniqueID\":0,\"fBits\":50331656,\"fLineColor\":1,\"fLineStyle\":1,\"fLineWidth\":1,\"fFillColor\":0,\"fFillStyle\":1001,\"fX1\":0,\"fY1\":0,\"fX2\":1200,\"fY2\":46797.0440593821,\"fBorderSize\":1,\"fBorderMode\":0},{\"_typename\":\"TH1F\",\"fUniqueID\":0,\"fBits\":50332168,\"fName\":\"mjjcr3\",\"fTitle\":\"Control Region 3\",\"fLineColor\":602,\"fLineStyle\":1,\"fLineWidth\":1,\"fFillColor\":0,\"fFillStyle\":1001,\"fMarkerColor\":1,\"fMarkerStyle\":21,\"fMarkerSize\":1,\"fNcells\":122,\"fXaxis\":{\"_typename\":\"TAxis\",\"fUniqueID\":0,\"fBits\":50331656,\"fName\":\"xaxis\",\"fTitle\":\"m_{jj}[GeV]\",\"fNdivisions\":510,\"fAxisColor\":1,\"fLabelColor\":1,\"fLabelFont\":42,\"fLabelOffset\":0.005,\"fLabelSize\":0.02,\"fTickLength\":0.03,\"fTitleOffset\":1.2,\"fTitleSize\":0.035,\"fTitleColor\":1,\"fTitleFont\":42,\"fNbins\":120,\"fXmin\":0,\"fXmax\":1200,\"fXbins\":[],\"fFirst\":0,\"fLast\":0,\"fBits2\":0,\"fTimeDisplay\":false,\"fTimeFormat\":\"\",\"fLabels\":null,\"fModLabs\":null},\"fYaxis\":{\"_typename\":\"TAxis\",\"fUniqueID\":0,\"fBits\":50331656,\"fName\":\"yaxis\",\"fTitle\":\"Events\",\"fNdivisions\":510,\"fAxisColor\":1,\"fLabelColor\":1,\"fLabelFont\":42,\"fLabelOffset\":0.005,\"fLabelSize\":0.02,\"fTickLength\":0.03,\"fTitleOffset\":1.2,\"fTitleSize\":0.035,\"fTitleColor\":1,\"fTitleFont\":42,\"fNbins\":1,\"fXmin\":0,\"fXmax\":1,\"fXbins\":[],\"fFirst\":0,\"fLast\":0,\"fBits2\":0,\"fTimeDisplay\":false,\"fTimeFormat\":\"\",\"fLabels\":null,\"fModLabs\":null},\"fZaxis\":{\"_typename\":\"TAxis\",\"fUniqueID\":0,\"fBits\":50331648,\"fName\":\"zaxis\",\"fTitle\":\"\",\"fNdivisions\":510,\"fAxisColor\":1,\"fLabelColor\":1,\"fLabelFont\":42,\"fLabelOffset\":0.005,\"fLabelSize\":0.035,\"fTickLength\":0.03,\"fTitleOffset\":1,\"fTitleSize\":0.035,\"fTitleColor\":1,\"fTitleFont\":42,\"fNbins\":1,\"fXmin\":0,\"fXmax\":1,\"fXbins\":[],\"fFirst\":0,\"fLast\":0,\"fBits2\":0,\"fTimeDisplay\":false,\"fTimeFormat\":\"\",\"fLabels\":null,\"fModLabs\":null},\"fBarOffset\":0,\"fBarWidth\":1000,\"fEntries\":785906,\"fTsumw\":785827,\"fTsumw2\":785827,\"fTsumwx\":172447568.207667,\"fTsumwx2\":48096822662.6196,\"fMaximum\":-1111,\"fMinimum\":-1111,\"fNormFactor\":0,\"fContour\":[],\"fSumw2\":[0,0,0,38,1821,8422,13698,14499,13765,13390,13263,14924,17048,21215,26188,31211,36436,40332,42966,44358,42910,40075,36817,33135,29798,26837,23505,20447,17997,15946,14353,12398,11018,9844,8804,7728,6978,6526,5802,5113,4696,4156,3849,3424,3155,2909,2673,2508,2226,2054,1789,1736,1561,1491,1417,1248,1099,1080,1001,886,822,787,707,664,602,562,521,497,422,401,434,338,328,291,300,284,253,219,197,203,182,178,157,166,127,130,114,116,97,91,82,95,66,82,63,50,66,47,40,53,50,34,31,33,31,17,32,18,18,14,19,27,18,16,14,13,10,10,14,6,5,79],\"fOption\":\"\",\"fFunctions\":{\"_typename\":\"TList\",\"name\":\"TList\",\"arr\":[],\"opt\":[]},\"fBufferSize\":0,\"fBuffer\":[],\"fBinStatErrOpt\":0,\"fStatOverflows\":2,\"fArray\":[0,0,0,38,1821,8422,13698,14499,13765,13390,13263,14924,17048,21215,26188,31211,36436,40332,42966,44358,42910,40075,36817,33135,29798,26837,23505,20447,17997,15946,14353,12398,11018,9844,8804,7728,6978,6526,5802,5113,4696,4156,3849,3424,3155,2909,2673,2508,2226,2054,1789,1736,1561,1491,1417,1248,1099,1080,1001,886,822,787,707,664,602,562,521,497,422,401,434,338,328,291,300,284,253,219,197,203,182,178,157,166,127,130,114,116,97,91,82,95,66,82,63,50,66,47,40,53,50,34,31,33,31,17,32,18,18,14,19,27,18,16,14,13,10,10,14,6,5,79]},{\"_typename\":\"TH1F\",\"fUniqueID\":0,\"fBits\":50331656,\"fName\":\"mjjcr3_jup\",\"fTitle\":\"mjj from two leading jets in event for control region 3 +1#sigma JEC\",\"fLineColor\":632,\"fLineStyle\":1,\"fLineWidth\":1,\"fFillColor\":0,\"fFillStyle\":1001,\"fMarkerColor\":632,\"fMarkerStyle\":21,\"fMarkerSize\":1,\"fNcells\":122,\"fXaxis\":{\"_typename\":\"TAxis\",\"fUniqueID\":0,\"fBits\":50331648,\"fName\":\"xaxis\",\"fTitle\":\"\",\"fNdivisions\":510,\"fAxisColor\":1,\"fLabelColor\":1,\"fLabelFont\":42,\"fLabelOffset\":0.005,\"fLabelSize\":0.035,\"fTickLength\":0.03,\"fTitleOffset\":1,\"fTitleSize\":0.035,\"fTitleColor\":1,\"fTitleFont\":42,\"fNbins\":120,\"fXmin\":0,\"fXmax\":1200,\"fXbins\":[],\"fFirst\":0,\"fLast\":0,\"fBits2\":0,\"fTimeDisplay\":false,\"fTimeFormat\":\"\",\"fLabels\":null,\"fModLabs\":null},\"fYaxis\":{\"_typename\":\"TAxis\",\"fUniqueID\":0,\"fBits\":50331648,\"fName\":\"yaxis\",\"fTitle\":\"\",\"fNdivisions\":510,\"fAxisColor\":1,\"fLabelColor\":1,\"fLabelFont\":42,\"fLabelOffset\":0.005,\"fLabelSize\":0.035,\"fTickLength\":0.03,\"fTitleOffset\":1,\"fTitleSize\":0.035,\"fTitleColor\":1,\"fTitleFont\":42,\"fNbins\":1,\"fXmin\":0,\"fXmax\":1,\"fXbins\":[],\"fFirst\":0,\"fLast\":0,\"fBits2\":0,\"fTimeDisplay\":false,\"fTimeFormat\":\"\",\"fLabels\":null,\"fModLabs\":null},\"fZaxis\":{\"_typename\":\"TAxis\",\"fUniqueID\":0,\"fBits\":50331648,\"fName\":\"zaxis\",\"fTitle\":\"\",\"fNdivisions\":510,\"fAxisColor\":1,\"fLabelColor\":1,\"fLabelFont\":42,\"fLabelOffset\":0.005,\"fLabelSize\":0.035,\"fTickLength\":0.03,\"fTitleOffset\":1,\"fTitleSize\":0.035,\"fTitleColor\":1,\"fTitleFont\":42,\"fNbins\":1,\"fXmin\":0,\"fXmax\":1,\"fXbins\":[],\"fFirst\":0,\"fLast\":0,\"fBits2\":0,\"fTimeDisplay\":false,\"fTimeFormat\":\"\",\"fLabels\":null,\"fModLabs\":null},\"fBarOffset\":0,\"fBarWidth\":1000,\"fEntries\":791201,\"fTsumw\":790837,\"fTsumw2\":790837,\"fTsumwx\":188549422.873983,\"fTsumwx2\":58242457187.1792,\"fMaximum\":-1111,\"fMinimum\":-1111,\"fNormFactor\":0,\"fContour\":[],\"fSumw2\":[0,0,0,14,1143,6362,11822,13551,13165,12840,12361,13223,14666,17396,20764,24999,29411,33650,36406,39033,39783,39305,37856,35253,32318,29322,26492,23816,21641,18977,16804,14926,13400,12058,10749,9559,8614,7758,7012,6523,5794,5467,4897,4366,4116,3694,3403,3024,2996,2678,2451,2333,2137,1971,1831,1708,1594,1486,1376,1330,1184,1197,1063,1010,910,894,769,778,712,689,630,577,520,493,455,493,437,421,352,346,336,342,299,284,239,240,232,235,224,203,168,195,164,140,133,157,124,119,127,107,95,103,74,78,95,75,64,69,64,54,52,55,50,53,42,43,25,35,41,24,24,364],\"fOption\":\"\",\"fFunctions\":{\"_typename\":\"TList\",\"name\":\"TList\",\"arr\":[],\"opt\":[]},\"fBufferSize\":0,\"fBuffer\":[],\"fBinStatErrOpt\":0,\"fStatOverflows\":2,\"fArray\":[0,0,0,14,1143,6362,11822,13551,13165,12840,12361,13223,14666,17396,20764,24999,29411,33650,36406,39033,39783,39305,37856,35253,32318,29322,26492,23816,21641,18977,16804,14926,13400,12058,10749,9559,8614,7758,7012,6523,5794,5467,4897,4366,4116,3694,3403,3024,2996,2678,2451,2333,2137,1971,1831,1708,1594,1486,1376,1330,1184,1197,1063,1010,910,894,769,778,712,689,630,577,520,493,455,493,437,421,352,346,336,342,299,284,239,240,232,235,224,203,168,195,164,140,133,157,124,119,127,107,95,103,74,78,95,75,64,69,64,54,52,55,50,53,42,43,25,35,41,24,24,364]},{\"_typename\":\"TH1F\",\"fUniqueID\":0,\"fBits\":50331656,\"fName\":\"mjjcr3_jdown\",\"fTitle\":\"mjj from two leading jets in event for control region 3 -1#sigma JEC\",\"fLineColor\":416,\"fLineStyle\":1,\"fLineWidth\":1,\"fFillColor\":0,\"fFillStyle\":1001,\"fMarkerColor\":416,\"fMarkerStyle\":21,\"fMarkerSize\":1,\"fNcells\":122,\"fXaxis\":{\"_typename\":\"TAxis\",\"fUniqueID\":0,\"fBits\":50331648,\"fName\":\"xaxis\",\"fTitle\":\"\",\"fNdivisions\":510,\"fAxisColor\":1,\"fLabelColor\":1,\"fLabelFont\":42,\"fLabelOffset\":0.005,\"fLabelSize\":0.035,\"fTickLength\":0.03,\"fTitleOffset\":1,\"fTitleSize\":0.035,\"fTitleColor\":1,\"fTitleFont\":42,\"fNbins\":120,\"fXmin\":0,\"fXmax\":1200,\"fXbins\":[],\"fFirst\":0,\"fLast\":0,\"fBits2\":0,\"fTimeDisplay\":false,\"fTimeFormat\":\"\",\"fLabels\":null,\"fModLabs\":null},\"fYaxis\":{\"_typename\":\"TAxis\",\"fUniqueID\":0,\"fBits\":50331648,\"fName\":\"yaxis\",\"fTitle\":\"\",\"fNdivisions\":510,\"fAxisColor\":1,\"fLabelColor\":1,\"fLabelFont\":42,\"fLabelOffset\":0.005,\"fLabelSize\":0.035,\"fTickLength\":0.03,\"fTitleOffset\":1,\"fTitleSize\":0.035,\"fTitleColor\":1,\"fTitleFont\":42,\"fNbins\":1,\"fXmin\":0,\"fXmax\":1,\"fXbins\":[],\"fFirst\":0,\"fLast\":0,\"fBits2\":0,\"fTimeDisplay\":false,\"fTimeFormat\":\"\",\"fLabels\":null,\"fModLabs\":null},\"fZaxis\":{\"_typename\":\"TAxis\",\"fUniqueID\":0,\"fBits\":50331648,\"fName\":\"zaxis\",\"fTitle\":\"\",\"fNdivisions\":510,\"fAxisColor\":1,\"fLabelColor\":1,\"fLabelFont\":42,\"fLabelOffset\":0.005,\"fLabelSize\":0.035,\"fTickLength\":0.03,\"fTitleOffset\":1,\"fTitleSize\":0.035,\"fTitleColor\":1,\"fTitleFont\":42,\"fNbins\":1,\"fXmin\":0,\"fXmax\":1,\"fXbins\":[],\"fFirst\":0,\"fLast\":0,\"fBits2\":0,\"fTimeDisplay\":false,\"fTimeFormat\":\"\",\"fLabels\":null,\"fModLabs\":null},\"fBarOffset\":0,\"fBarWidth\":1000,\"fEntries\":787120,\"fTsumw\":786841,\"fTsumw2\":786841,\"fTsumwx\":182895919.640529,\"fTsumwx2\":55047179699.2787,\"fMaximum\":-1111,\"fMinimum\":-1111,\"fNormFactor\":0,\"fContour\":[],\"fSumw2\":[0,0,0,24,1386,7099,12586,13928,13402,12938,12852,13882,15651,18771,22803,27182,31611,35724,38046,40365,40522,39327,37187,34118,31120,28302,25077,22967,20182,17774,15649,14112,12570,11277,9969,8913,8060,7297,6607,5985,5565,4984,4480,4194,3712,3447,3157,2924,2675,2510,2272,2162,2003,1824,1670,1549,1461,1402,1267,1248,1116,1032,976,919,814,800,714,741,622,583,547,477,514,475,442,394,364,364,351,324,303,253,244,258,232,233,208,182,208,161,135,159,149,135,129,118,108,104,94,77,86,96,73,57,73,62,57,54,55,47,58,40,33,36,30,33,28,28,20,25,20,279],\"fOption\":\"\",\"fFunctions\":{\"_typename\":\"TList\",\"name\":\"TList\",\"arr\":[],\"opt\":[]},\"fBufferSize\":0,\"fBuffer\":[],\"fBinStatErrOpt\":0,\"fStatOverflows\":2,\"fArray\":[0,0,0,24,1386,7099,12586,13928,13402,12938,12852,13882,15651,18771,22803,27182,31611,35724,38046,40365,40522,39327,37187,34118,31120,28302,25077,22967,20182,17774,15649,14112,12570,11277,9969,8913,8060,7297,6607,5985,5565,4984,4480,4194,3712,3447,3157,2924,2675,2510,2272,2162,2003,1824,1670,1549,1461,1402,1267,1248,1116,1032,976,919,814,800,714,741,622,583,547,477,514,475,442,394,364,364,351,324,303,253,244,258,232,233,208,182,208,161,135,159,149,135,129,118,108,104,94,77,86,96,73,57,73,62,57,54,55,47,58,40,33,36,30,33,28,28,20,25,20,279]},{\"_typename\":\"TLegend\",\"fUniqueID\":0,\"fBits\":50331656,\"fLineColor\":1,\"fLineStyle\":1,\"fLineWidth\":1,\"fFillColor\":0,\"fFillStyle\":0,\"fX1\":645.000000670552,\"fY1\":27558.2593934834,\"fX2\":1155.00000827014,\"fY2\":42637.3069861441,\"fX1NDC\":0.53,\"fY1NDC\":0.53,\"fX2NDC\":0.87,\"fY2NDC\":0.82,\"fBorderSize\":0,\"fInit\":1,\"fShadowColor\":1,\"fCornerRadius\":0,\"fOption\":\"brNDC\",\"fName\":\"TPave\",\"fTextAngle\":0,\"fTextSize\":0.035,\"fTextAlign\":12,\"fTextColor\":1,\"fTextFont\":42,\"fPrimitives\":{\"_typename\":\"TList\",\"name\":\"TList\",\"arr\":[{\"_typename\":\"TLegendEntry\",\"fUniqueID\":0,\"fBits\":50331656,\"fTextAngle\":0,\"fTextSize\":0,\"fTextAlign\":0,\"fTextColor\":0,\"fTextFont\":42,\"fLineColor\":602,\"fLineStyle\":1,\"fLineWidth\":1,\"fFillColor\":0,\"fFillStyle\":0,\"fMarkerColor\":1,\"fMarkerStyle\":21,\"fMarkerSize\":1,\"fObject\":{\"$ref\":5},\"fLabel\":\"JEC\",\"fOption\":\"APL\"},{\"_typename\":\"TLegendEntry\",\"fUniqueID\":0,\"fBits\":50331656,\"fTextAngle\":0,\"fTextSize\":0,\"fTextAlign\":0,\"fTextColor\":0,\"fTextFont\":42,\"fLineColor\":632,\"fLineStyle\":1,\"fLineWidth\":1,\"fFillColor\":0,\"fFillStyle\":0,\"fMarkerColor\":632,\"fMarkerStyle\":21,\"fMarkerSize\":1,\"fObject\":{\"$ref\":10},\"fLabel\":\"JEC +1#sigma\",\"fOption\":\"APL\"},{\"_typename\":\"TLegendEntry\",\"fUniqueID\":0,\"fBits\":50331656,\"fTextAngle\":0,\"fTextSize\":0,\"fTextAlign\":0,\"fTextColor\":0,\"fTextFont\":42,\"fLineColor\":416,\"fLineStyle\":1,\"fLineWidth\":1,\"fFillColor\":0,\"fFillStyle\":0,\"fMarkerColor\":416,\"fMarkerStyle\":21,\"fMarkerSize\":1,\"fObject\":{\"$ref\":15},\"fLabel\":\"JEC -1#sigma\",\"fOption\":\"APL\"}],\"opt\":[\"APL\",\"APL\",\"APL\"]},\"fEntrySeparation\":0.1,\"fMargin\":0.25,\"fNColumns\":1,\"fColumnSeparation\":0},{\"_typename\":\"TPaveText\",\"fUniqueID\":0,\"fBits\":50331657,\"fLineColor\":1,\"fLineStyle\":1,\"fLineWidth\":1,\"fFillColor\":0,\"fFillStyle\":0,\"fX1\":373.002509180288,\"fY1\":48503.7760804334,\"fX2\":826.997490819712,\"fY2\":51736.732505517,\"fX1NDC\":0.348668341708543,\"fY1NDC\":0.932823838965263,\"fX2NDC\":0.651331658291457,\"fY2NDC\":0.995000004768372,\"fBorderSize\":0,\"fInit\":1,\"fShadowColor\":1,\"fCornerRadius\":0,\"fOption\":\"blNDC\",\"fName\":\"title\",\"fTextAngle\":0,\"fTextSize\":0,\"fTextAlign\":22,\"fTextColor\":1,\"fTextFont\":42,\"fLabel\":\"\",\"fLongest\":16,\"fMargin\":0.05,\"fLines\":{\"_typename\":\"TList\",\"name\":\"TList\",\"arr\":[{\"_typename\":\"TLatex\",\"fUniqueID\":0,\"fBits\":50331648,\"fName\":\"\",\"fTitle\":\"Control Region 3\",\"fTextAngle\":0,\"fTextSize\":0,\"fTextAlign\":0,\"fTextColor\":0,\"fTextFont\":0,\"fX\":0,\"fY\":0,\"fLineColor\":1,\"fLineStyle\":1,\"fLineWidth\":2,\"fLimitFactorSize\":3,\"fOriginSize\":0.0528497397899628}],\"opt\":[\"\"]}}],\"opt\":[\"\",\"\",\"same\",\"same\",\"same\",\"blNDC\"]},\"fExecs\":{\"_typename\":\"TList\",\"name\":\"TList\",\"arr\":[],\"opt\":[]},\"fName\":\"pad1\",\"fTitle\":\"pad1\",\"fNumPaletteColor\":0,\"fNextPaletteColor\":0},{\"_typename\":\"TPad\",\"fUniqueID\":0,\"fBits\":50331657,\"fLineColor\":1,\"fLineStyle\":1,\"fLineWidth\":1,\"fFillColor\":0,\"fFillStyle\":1001,\"fLeftMargin\":0.1,\"fRightMargin\":0.1,\"fBottomMargin\":0.2,\"fTopMargin\":0,\"fXfile\":2,\"fYfile\":2,\"fAfile\":1,\"fXstat\":0.99,\"fYstat\":0.99,\"fAstat\":2,\"fFrameFillColor\":0,\"fFrameLineColor\":1,\"fFrameFillStyle\":1001,\"fFrameLineStyle\":1,\"fFrameLineWidth\":1,\"fFrameBorderSize\":1,\"fFrameBorderMode\":0,\"fX1\":-150.000011175872,\"fY1\":0.6625,\"fX2\":1350.00001117587,\"fY2\":1.35,\"fXtoAbsPixelk\":79.6000547445299,\"fXtoPixelk\":79.6000547445299,\"fXtoPixel\":0.530666658759117,\"fYtoAbsPixelk\":919.381868181818,\"fYtoPixelk\":378.981868181818,\"fYtoPixel\":-280.727272727273,\"fUtoAbsPixelk\":5e-5,\"fUtoPixelk\":5e-5,\"fUtoPixel\":796,\"fVtoAbsPixelk\":733.40005,\"fVtoPixelk\":193,\"fVtoPixel\":-193,\"fAbsPixeltoXk\":-150.000011175872,\"fPixeltoXk\":-150.000011175872,\"fPixeltoX\":1.88442213863284,\"fAbsPixeltoYk\":3.275,\"fPixeltoYk\":0.6625,\"fPixeltoY\":-0.00356217616580311,\"fXlowNDC\":0,\"fYlowNDC\":0.05,\"fXUpNDC\":0,\"fYUpNDC\":0,\"fWNDC\":1,\"fHNDC\":0.25,\"fAbsXlowNDC\":0,\"fAbsYlowNDC\":0.05,\"fAbsWNDC\":1,\"fAbsHNDC\":0.25,\"fUxmin\":0,\"fUymin\":0.8,\"fUxmax\":1200,\"fUymax\":1.35,\"fTheta\":30,\"fPhi\":30,\"fAspectRatio\":0,\"fNumber\":0,\"fTickx\":0,\"fTicky\":0,\"fLogx\":0,\"fLogy\":0,\"fLogz\":0,\"fPadPaint\":0,\"fCrosshair\":0,\"fCrosshairPos\":0,\"fBorderSize\":2,\"fBorderMode\":0,\"fModified\":false,\"fGridx\":true,\"fGridy\":false,\"fAbsCoord\":false,\"fEditable\":true,\"fFixedAspectRatio\":false,\"fPrimitives\":{\"_typename\":\"TList\",\"name\":\"TList\",\"arr\":[{\"_typename\":\"TFrame\",\"fUniqueID\":0,\"fBits\":50331656,\"fLineColor\":1,\"fLineStyle\":1,\"fLineWidth\":1,\"fFillColor\":0,\"fFillStyle\":1001,\"fX1\":0,\"fY1\":0.8,\"fX2\":1200,\"fY2\":1.35,\"fBorderSize\":1,\"fBorderMode\":0},{\"_typename\":\"TH1F\",\"fUniqueID\":0,\"fBits\":50332168,\"fName\":\"h3\",\"fTitle\":\"\",\"fLineColor\":1,\"fLineStyle\":1,\"fLineWidth\":1,\"fFillColor\":0,\"fFillStyle\":1001,\"fMarkerColor\":1,\"fMarkerStyle\":21,\"fMarkerSize\":1,\"fNcells\":122,\"fXaxis\":{\"_typename\":\"TAxis\",\"fUniqueID\":0,\"fBits\":50331656,\"fName\":\"xaxis\",\"fTitle\":\"m_{jj}[GeV]\",\"fNdivisions\":510,\"fAxisColor\":1,\"fLabelColor\":1,\"fLabelFont\":43,\"fLabelOffset\":0.005,\"fLabelSize\":15,\"fTickLength\":0.03,\"fTitleOffset\":4,\"fTitleSize\":20,\"fTitleColor\":1,\"fTitleFont\":43,\"fNbins\":120,\"fXmin\":0,\"fXmax\":1200,\"fXbins\":[],\"fFirst\":0,\"fLast\":0,\"fBits2\":0,\"fTimeDisplay\":false,\"fTimeFormat\":\"\",\"fLabels\":null,\"fModLabs\":null},\"fYaxis\":{\"_typename\":\"TAxis\",\"fUniqueID\":0,\"fBits\":50331656,\"fName\":\"yaxis\",\"fTitle\":\"JEC\\/JEC +1#sigma\",\"fNdivisions\":505,\"fAxisColor\":1,\"fLabelColor\":1,\"fLabelFont\":43,\"fLabelOffset\":0.005,\"fLabelSize\":15,\"fTickLength\":0.03,\"fTitleOffset\":1.55,\"fTitleSize\":18,\"fTitleColor\":1,\"fTitleFont\":43,\"fNbins\":1,\"fXmin\":0,\"fXmax\":1,\"fXbins\":[],\"fFirst\":0,\"fLast\":0,\"fBits2\":0,\"fTimeDisplay\":false,\"fTimeFormat\":\"\",\"fLabels\":null,\"fModLabs\":null},\"fZaxis\":{\"_typename\":\"TAxis\",\"fUniqueID\":0,\"fBits\":50331648,\"fName\":\"zaxis\",\"fTitle\":\"\",\"fNdivisions\":510,\"fAxisColor\":1,\"fLabelColor\":1,\"fLabelFont\":42,\"fLabelOffset\":0.005,\"fLabelSize\":0.035,\"fTickLength\":0.03,\"fTitleOffset\":1,\"fTitleSize\":0.035,\"fTitleColor\":1,\"fTitleFont\":42,\"fNbins\":1,\"fXmin\":0,\"fXmax\":1,\"fXbins\":[],\"fFirst\":0,\"fLast\":0,\"fBits2\":0,\"fTimeDisplay\":false,\"fTimeFormat\":\"\",\"fLabels\":null,\"fModLabs\":null},\"fBarOffset\":0,\"fBarWidth\":1000,\"fEntries\":6711.26226539864,\"fTsumw\":83.5982394218445,\"fTsumw2\":1.04133400812893,\"fTsumwx\":39368.2779897749,\"fTsumwx2\":27401149.8420537,\"fMaximum\":1.35,\"fMinimum\":0.8,\"fNormFactor\":0,\"fContour\":[],\"fSumw2\":[0,0,0,0.720116618075802,0.00361451019392755,4.83533086431191e-4,2.11575300748096e-4,1.6343944527754e-4,1.62461320469295e-4,1.65914291338103e-4,1.79940066235059e-4,1.81688466628827e-4,1.7139155402186e-4,1.55598672994804e-4,1.37348325216612e-4,1.12293174481938e-4,9.43055632234494e-5,7.83106124532007e-5,7.0676226448562e-5,6.22007102250648e-5,5.6355287938663e-5,5.23891345073426e-5,5.06766418612299e-5,5.17223959948303e-5,5.48349140731774e-5,5.97822923231903e-5,6.32062409330491e-5,6.69983300143147e-5,7.03849610946298e-5,8.14855555709571e-5,9.42454300612716e-5,1.01874525003098e-4,1.11814586568162e-4,1.22978598975246e-4,1.38608302702173e-4,1.52949957478562e-4,1.70222979898664e-4,1.99640011026264e-4,2.15643673704037e-4,2.1435685164158e-4,2.53260875483901e-4,2.44759074872697e-4,2.86659983837784e-4,3.20494085675869e-4,3.28978419611448e-4,3.81060861704738e-4,4.12126818680417e-4,5.01723384337078e-4,4.32251590935409e-4,5.06073337622297e-4,5.15164897695863e-4,5.56279677642264e-4,5.91502035385105e-4,6.74131831178921e-4,7.49757532988926e-4,7.40381257171793e-4,7.30750455357985e-4,8.44547302763835e-4,9.13288433550859e-4,8.34542685505669e-4,9.93453717110783e-4,9.1040356347691e-4,0.00104182047062494,0.0010788458906669,0.00120788087651993,0.00114521000665255,0.00147791145130999,0.0013456365737699,0.00132582292625633,0.00133632842028435,0.00184675680971977,0.00160994246159239,0.0019781520254893,0.00190400591765413,0.00240455113055041,0.00184161397116252,0.00209182476847303,0.00187835554528523,0.00247976530950648,0.00269054392119152,0.00248532572751323,0.00231390235332069,0.0026782488684724,0.00326111100245592,0.00340479605834169,0.00347945601851852,0.00315876265939563,0.00313733951051308,0.00277033769702077,0.00319816310631842,0.00432340594968146,0.00371550430722028,0.00344144019964887,0.00663411078717201,0.00524857850998688,0.00267449255056923,0.00657707025611762,0.00462983018219646,0.00326110888442249,0.00692220599603442,0.00845604315497886,0.00426272984926702,0.00803259431820425,0.00771885905022,0.00455576614666861,0.00370725925925926,0.01171875,0.00476699268513191,0.0056304931640625,0.00604582634760961,0.00959404870277651,0.0133072877535687,0.009792,0.00741551750774129,0.0105820105820106,0.00915642647817173,0.0224,0.0104956268221574,0.0111722116626282,0.0130208333333333,0.0104890046296296,7.25649109373901e-4],\"fOption\":\"\",\"fFunctions\":{\"_typename\":\"TList\",\"name\":\"TList\",\"arr\":[],\"opt\":[]},\"fBufferSize\":0,\"fBuffer\":[],\"fBinStatErrOpt\":0,\"fStatOverflows\":2,\"fArray\":[0,0,0,2.714286,1.593176,1.323798,1.158687,1.069958,1.045575,1.042835,1.072971,1.128639,1.162416,1.219533,1.261221,1.24849,1.238856,1.198574,1.18019,1.136423,1.078601,1.01959,0.9725539,0.93992,0.9220249,0.9152514,0.887249,0.8585405,0.8316159,0.8402804,0.8541419,0.8306311,0.8222388,0.8163875,0.8190529,0.8084528,0.8100766,0.8411962,0.8274387,0.7838418,0.8104936,0.7601975,0.7859914,0.7842419,0.7665209,0.7874932,0.7854834,0.8293651,0.7429907,0.7669903,0.7299061,0.7441063,0.7304633,0.7564688,0.7738941,0.7306792,0.6894605,0.7267833,0.7274709,0.6661654,0.6942568,0.657477,0.6650988,0.6574258,0.6615385,0.6286353,0.6775032,0.6388175,0.5926966,0.5820029,0.6888889,0.5857885,0.6307693,0.5902637,0.6593407,0.5760649,0.5789474,0.52019,0.5596591,0.5867052,0.5416667,0.5204678,0.5250836,0.584507,0.5313808,0.5416667,0.4913793,0.493617,0.4330357,0.4482759,0.4880952,0.4871795,0.402439,0.5857143,0.4736842,0.3184713,0.5322581,0.394958,0.3149606,0.4953271,0.5263158,0.3300971,0.4189189,0.4230769,0.3263158,0.2266667,0.5,0.2608696,0.28125,0.2592593,0.3653846,0.4909091,0.36,0.3018868,0.3333333,0.3023256,0.4,0.2857143,0.3414634,0.25,0.2083333,0.217033]},{\"_typename\":\"TLine\",\"fUniqueID\":0,\"fBits\":50331656,\"fLineColor\":1,\"fLineStyle\":2,\"fLineWidth\":1,\"fX1\":0,\"fY1\":1,\"fX2\":1200,\"fY2\":1}],\"opt\":[\"\",\"ep\",\"same\"]},\"fExecs\":{\"_typename\":\"TList\",\"name\":\"TList\",\"arr\":[],\"opt\":[]},\"fName\":\"pad2\",\"fTitle\":\"pad2\",\"fNumPaletteColor\":0,\"fNextPaletteColor\":0}],\"opt\":[\"\",\"\"]},\"fExecs\":null,\"fName\":\"c\",\"fTitle\":\"canvas\",\"fNumPaletteColor\":0,\"fNextPaletteColor\":0,\"fDISPLAY\":\"$DISPLAY\",\"fDoubleBuffer\":0,\"fRetained\":true,\"fXsizeUser\":0,\"fYsizeUser\":0,\"fXsizeReal\":20,\"fYsizeReal\":20,\"fWindowTopX\":0,\"fWindowTopY\":0,\"fWindowWidth\":0,\"fWindowHeight\":0,\"fCw\":796,\"fCh\":772,\"fCatt\":{\"_typename\":\"TAttCanvas\",\"fXBetween\":2,\"fYBetween\":2,\"fTitleFromTop\":1.2,\"fXdate\":0.2,\"fYdate\":0.3,\"fAdate\":1},\"kMoveOpaque\":true,\"kResizeOpaque\":true,\"fHighLightColor\":2,\"fBatch\":true,\"kShowEventStatus\":false,\"kAutoExec\":true,\"kMenuBar\":true});\n",
       "       Core.draw(\"root_plot_23\", obj, \"\");\n",
       "     }\n",
       " );\n",
       "</script>\n"
      ],
      "text/plain": [
       "<IPython.core.display.HTML object>"
      ]
     },
     "metadata": {},
     "output_type": "display_data"
    }
   ],
   "source": [
    "canvas.Draw()\n",
    "canvas.SaveAs('../plots/CR3_3.png')"
   ]
  },
  {
   "cell_type": "code",
   "execution_count": null,
   "metadata": {},
   "outputs": [],
   "source": []
  },
  {
   "cell_type": "code",
   "execution_count": null,
   "metadata": {},
   "outputs": [],
   "source": []
  }
 ],
 "metadata": {
  "kernelspec": {
   "display_name": "Python 3",
   "language": "python",
   "name": "python3"
  },
  "language_info": {
   "codemirror_mode": {
    "name": "ipython",
    "version": 3
   },
   "file_extension": ".py",
   "mimetype": "text/x-python",
   "name": "python",
   "nbconvert_exporter": "python",
   "pygments_lexer": "ipython3",
   "version": "3.7.2"
  }
 },
 "nbformat": 4,
 "nbformat_minor": 2
}
