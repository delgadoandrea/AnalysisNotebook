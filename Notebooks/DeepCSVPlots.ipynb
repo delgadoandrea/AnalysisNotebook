{
 "cells": [
  {
   "cell_type": "code",
   "execution_count": 1,
   "metadata": {},
   "outputs": [
    {
     "name": "stdout",
     "output_type": "stream",
     "text": [
      "Welcome to JupyROOT 6.18/00\n"
     ]
    }
   ],
   "source": [
    "import ROOT\n",
    "import PlotTools\n",
    "from ROOT import TFile, TCanvas, kRed, THStack, kYellow, kGreen, kBlack, TLegend"
   ]
  },
  {
   "cell_type": "code",
   "execution_count": 3,
   "metadata": {},
   "outputs": [],
   "source": [
    "file = TFile('../data/mjj_DenisSel_Zprime_m500_dbs0_gb1.root','read')"
   ]
  },
  {
   "cell_type": "code",
   "execution_count": 6,
   "metadata": {},
   "outputs": [
    {
     "name": "stdout",
     "output_type": "stream",
     "text": [
      "TFile**\t\t../data/mjj_DenisSel_Zprime_m500_dbs0_gb1.root\t\n",
      " TFile*\t\t../data/mjj_DenisSel_Zprime_m500_dbs0_gb1.root\t\n",
      "  KEY: TH1F\tmjjcr0p;1\tmjj from two leading jets in event for control region 0'\n",
      "  KEY: TH1F\tmjjcr0p_dcr;1\tmjj from two leading jets in event for control region 0' after DeepCSVReWeight\n",
      "  KEY: TH1F\tmjjcr1;1\tmjj from two leading jets in event for control region 1\n",
      "  KEY: TH1F\tmjjcr1_dcr;1\tmjj from two leading jets in event for control region 1 after DeepCSVReWeight\n",
      "  KEY: TH1F\tmjjcr1p;1\tmjj from two leading jets in event for control region 1'\n",
      "  KEY: TH1F\tmjjcr1p_dcr;1\tmjj from two leading jets in event for control region 1' after DeepCSVReWeight\n",
      "  KEY: TH1F\tmjjcr2;1\tmjj from two leading jets in event for control region 2\n",
      "  KEY: TH1F\tmjjcr2_dcr;1\tmjj from two leading jets in event for control region 2 after DeepCSVReWeight\n",
      "  KEY: TH1F\tmjjcr2p;1\tmjj from two leading jets in event for control region 2'\n",
      "  KEY: TH1F\tmjjcr2p_dcr;1\tmjj from two leading jets in event for control region 2' after DeepCSVReWeight\n",
      "  KEY: TH1F\tmjjcr3;1\tmjj from two leading jets in event for control region 3\n",
      "  KEY: TH1F\tmjjcr3_dcr;1\tmjj from two leading jets in event for control region 3 after DeepCSVReWeight\n",
      "  KEY: TH1F\tmjjcr3p;1\tmjj from two leading jets in event for control region 3'\n",
      "  KEY: TH1F\tmjjcr3p_dcr;1\tmjj from two leading jets in event for control region 3' after DeepCSVReWeight\n",
      "  KEY: TH1F\tmjjsr;1\tmjj from two leading jets in event for signal region \n",
      "  KEY: TH1F\tmjjsr_dcr;1\tmjj from two leading jets in event for signal region after DeepCSVReWeight \n"
     ]
    }
   ],
   "source": [
    "file.ls()"
   ]
  },
  {
   "cell_type": "code",
   "execution_count": 20,
   "metadata": {},
   "outputs": [
    {
     "name": "stderr",
     "output_type": "stream",
     "text": [
      "Warning in <TCanvas::Constructor>: Deleting canvas with same name: \n"
     ]
    },
    {
     "data": {
      "image/png": "[encoded data removed]",
      "text/plain": [
       "<IPython.core.display.Image object>"
      ]
     },
     "metadata": {},
     "output_type": "display_data"
    }
   ],
   "source": [
    "c1 = file.Get('mjjcr1')\n",
    "c1d = file.Get('mjjcr1_dcr')\n",
    "c = TCanvas(\"\",\"\",700,700)\n",
    "\n",
    "c1.SetLineColor(kBlack)\n",
    "c1.SetMarkerColor(kBlack)\n",
    "c1.SetStats(0)\n",
    "c1.SetTitle('')\n",
    "c1.GetXaxis().SetTitle('m_{jj} [GeV]')\n",
    "#c1.GetXaxis().SetRangeUser(0,60)\n",
    "#c1.GetYaxis().SetRangeUser(0,1.0)\n",
    "c1.GetYaxis().SetTitle('Events')\n",
    "c1.GetYaxis().SetLabelSize(0.02)\n",
    "c1.GetYaxis().SetTitleOffset(1.2)\n",
    "c1.GetXaxis().SetLabelSize(0.02)\n",
    "c1.GetXaxis().SetTitleOffset(1.2)\n",
    "c1.SetMarkerStyle(21)\n",
    "c1.Draw()\n",
    "c1d.SetLineColor(kRed)\n",
    "c1d.SetMarkerColor(kRed)\n",
    "c1d.SetMarkerStyle(22)\n",
    "c1d.Draw(\"same\")\n",
    "\n",
    "leg = TLegend(.5,.63,.63,.8)\n",
    "leg.SetBorderSize(0)\n",
    "leg.SetFillColor(0)\n",
    "leg.SetFillStyle(0)\n",
    "leg.SetTextFont(42)\n",
    "leg.SetTextSize(0.035)\n",
    "leg.AddEntry(c1,\"CR1 Nominal\",\"APL\")\n",
    "leg.AddEntry(c1d,\"CR1 + DeepDSV reweight\",\"APL\")\n",
    "leg.Draw(\"same\")\n",
    "\n",
    "#outfile = '../plots/PUdist_Zpm500.png' \n",
    "#c.SaveAs(outfile)\n",
    "c.Draw()"
   ]
  },
  {
   "cell_type": "code",
   "execution_count": null,
   "metadata": {},
   "outputs": [],
   "source": []
  }
 ],
 "metadata": {
  "kernelspec": {
   "display_name": "Python (myenv)",
   "language": "python",
   "name": "myenv"
  },
  "language_info": {
   "codemirror_mode": {
    "name": "ipython",
    "version": 3
   },
   "file_extension": ".py",
   "mimetype": "text/x-python",
   "name": "python",
   "nbconvert_exporter": "python",
   "pygments_lexer": "ipython3",
   "version": "3.7.4"
  }
 },
 "nbformat": 4,
 "nbformat_minor": 2
}
