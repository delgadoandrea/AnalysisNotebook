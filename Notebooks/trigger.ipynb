{
 "cells": [
  {
   "cell_type": "code",
   "execution_count": 1,
   "metadata": {},
   "outputs": [
    {
     "name": "stdout",
     "output_type": "stream",
     "text": [
      "Welcome to JupyROOT 6.18/00\n"
     ]
    }
   ],
   "source": [
    "import ROOT\n",
    "import PlotTools\n",
    "from ROOT import TFile, TCanvas, kRed, THStack, kYellow, kGreen, kBlack, TLegend, TGraphAsymmErrors\n",
    "ROOT.enableJSVis()\n",
    "#from rootpy.io import root_open\n",
    "ROOT.gROOT.SetBatch(True)"
   ]
  },
  {
   "cell_type": "code",
   "execution_count": 2,
   "metadata": {},
   "outputs": [
    {
     "data": {
      "text/plain": [
       "True"
      ]
     },
     "execution_count": 2,
     "metadata": {},
     "output_type": "execute_result"
    }
   ],
   "source": [
    "file = ROOT.TFile.Open('../data/trigger/triggerClosureAll.root','read')\n",
    "#file = ROOT.TFile.Open('../data/trigger/weightHistosAllQuad45.root','read')\n",
    "file.cd()"
   ]
  },
  {
   "cell_type": "code",
   "execution_count": 3,
   "metadata": {},
   "outputs": [],
   "source": [
    "w_names = ['weightmjjc1']\n",
    "t_names = ['trigmjjc1']\n",
    "titles = ['2T region']\n",
    "xtitle = ['m_{jj}[GeV]']\n",
    "\n",
    "#names = ['L1Quad45_caloT','Quad45Calo_caloT', 'Quad45LeadCSV3_min_PF', 'Quad45PF_PfT']\n",
    "#titles = ['Turn on L1', 'Turn on hltQuadCentralJet45', 'Turn on hltBTagCaloCSVp087Triple', 'Turn on hltQuadPFCentralJetLooseID45']\n",
    "#xtitle = ['#sum_{i=1}^{4}(p_{i}^{T})', 'p_{T,4}^{calo}','CSV_{3}', 'p_{T,4}^{PF}']\n"
   ]
  },
  {
   "cell_type": "code",
   "execution_count": 4,
   "metadata": {},
   "outputs": [],
   "source": [
    "class HistogramNotFoundError(KeyError):\n",
    "     pass\n",
    "def get_histogram(file,name):\n",
    "    hist = file.Get(name)\n",
    "    if not hist:\n",
    "        raise HistogramNotFoundError(name)\n",
    "    return hist"
   ]
  },
  {
   "cell_type": "code",
   "execution_count": 5,
   "metadata": {},
   "outputs": [],
   "source": [
    "histogram_w = get_histogram(file,w_names[0])\n",
    "histogram_t = get_histogram(file,t_names[0])"
   ]
  },
  {
   "cell_type": "code",
   "execution_count": 6,
   "metadata": {},
   "outputs": [
    {
     "name": "stderr",
     "output_type": "stream",
     "text": [
      "Info in <TCanvas::Print>: png file ../plots/closure_di90.png has been created\n"
     ]
    },
    {
     "data": {
      "text/html": [
       "\n",
       "<div id=\"root_plot_1\"\n",
       "     style=\"width: 696px; height: 672px\">\n",
       "</div>\n",
       "\n",
       "<script>\n",
       " requirejs.config({\n",
       "     paths: {\n",
       "       'JSRootCore' : 'https://root.cern.ch/js/notebook//scripts/JSRootCore',\n",
       "     }\n",
       "   });\n",
       " require(['JSRootCore'],\n",
       "     function(Core) {\n",
       "       var obj = Core.JSONR_unref({\"_typename\":\"TCanvas\",\"fUniqueID\":0,\"fBits\":53673992,\"fLineColor\":1,\"fLineStyle\":1,\"fLineWidth\":1,\"fFillColor\":0,\"fFillStyle\":1001,\"fLeftMargin\":0.1,\"fRightMargin\":0.1,\"fBottomMargin\":0.1,\"fTopMargin\":0.1,\"fXfile\":2,\"fYfile\":2,\"fAfile\":1,\"fXstat\":0.99,\"fYstat\":0.99,\"fAstat\":2,\"fFrameFillColor\":0,\"fFrameLineColor\":1,\"fFrameFillStyle\":1001,\"fFrameLineStyle\":1,\"fFrameLineWidth\":1,\"fFrameBorderSize\":1,\"fFrameBorderMode\":0,\"fX1\":-150.000011175872,\"fY1\":-3.0339299646045,\"fX2\":1350.00001117587,\"fY2\":27.3053678730774,\"fXtoAbsPixelk\":69.6000541484835,\"fXtoPixelk\":69.6000541484835,\"fXtoPixel\":0.463999993085861,\"fYtoAbsPixelk\":604.800045994568,\"fYtoPixelk\":604.800045994568,\"fYtoPixel\":-22.1494908549059,\"fUtoAbsPixelk\":5e-5,\"fUtoPixelk\":5e-5,\"fUtoPixel\":696,\"fVtoAbsPixelk\":672.00005,\"fVtoPixelk\":672,\"fVtoPixel\":-672,\"fAbsPixeltoXk\":-150.000011175872,\"fPixeltoXk\":-150.000011175872,\"fPixeltoX\":2.15517244590768,\"fAbsPixeltoYk\":27.3053678730774,\"fPixeltoYk\":-3.0339299646045,\"fPixeltoY\":-0.0451477646394076,\"fXlowNDC\":0,\"fYlowNDC\":0,\"fXUpNDC\":0,\"fYUpNDC\":0,\"fWNDC\":1,\"fHNDC\":1,\"fAbsXlowNDC\":0,\"fAbsYlowNDC\":0,\"fAbsWNDC\":1,\"fAbsHNDC\":1,\"fUxmin\":0,\"fUymin\":0,\"fUxmax\":1200,\"fUymax\":24.2714379084729,\"fTheta\":30,\"fPhi\":30,\"fAspectRatio\":0,\"fNumber\":0,\"fTickx\":0,\"fTicky\":0,\"fLogx\":0,\"fLogy\":0,\"fLogz\":0,\"fPadPaint\":0,\"fCrosshair\":0,\"fCrosshairPos\":0,\"fBorderSize\":2,\"fBorderMode\":0,\"fModified\":false,\"fGridx\":true,\"fGridy\":true,\"fAbsCoord\":false,\"fEditable\":true,\"fFixedAspectRatio\":false,\"fPrimitives\":{\"_typename\":\"TList\",\"name\":\"TList\",\"arr\":[{\"_typename\":\"TFrame\",\"fUniqueID\":0,\"fBits\":50331656,\"fLineColor\":1,\"fLineStyle\":1,\"fLineWidth\":1,\"fFillColor\":0,\"fFillStyle\":1001,\"fX1\":0,\"fY1\":0,\"fX2\":1200,\"fY2\":24.2714379084729,\"fBorderSize\":1,\"fBorderMode\":0},{\"_typename\":\"TH1D\",\"fUniqueID\":0,\"fBits\":50332168,\"fName\":\"weightmjjc1\",\"fTitle\":\"2T region\",\"fLineColor\":632,\"fLineStyle\":1,\"fLineWidth\":1,\"fFillColor\":0,\"fFillStyle\":1001,\"fMarkerColor\":632,\"fMarkerStyle\":20,\"fMarkerSize\":1,\"fNcells\":122,\"fXaxis\":{\"_typename\":\"TAxis\",\"fUniqueID\":0,\"fBits\":50331656,\"fName\":\"xaxis\",\"fTitle\":\"m_{jj}[GeV]\",\"fNdivisions\":510,\"fAxisColor\":1,\"fLabelColor\":1,\"fLabelFont\":42,\"fLabelOffset\":0.005,\"fLabelSize\":0.02,\"fTickLength\":0.03,\"fTitleOffset\":1.2,\"fTitleSize\":0.03,\"fTitleColor\":1,\"fTitleFont\":42,\"fNbins\":120,\"fXmin\":0,\"fXmax\":1200,\"fXbins\":[],\"fFirst\":0,\"fLast\":0,\"fBits2\":0,\"fTimeDisplay\":false,\"fTimeFormat\":\"\",\"fLabels\":null,\"fModLabs\":null},\"fYaxis\":{\"_typename\":\"TAxis\",\"fUniqueID\":0,\"fBits\":50331656,\"fName\":\"yaxis\",\"fTitle\":\"A.U.\",\"fNdivisions\":510,\"fAxisColor\":1,\"fLabelColor\":1,\"fLabelFont\":42,\"fLabelOffset\":0.005,\"fLabelSize\":0.02,\"fTickLength\":0.03,\"fTitleOffset\":1.2,\"fTitleSize\":0.035,\"fTitleColor\":1,\"fTitleFont\":42,\"fNbins\":1,\"fXmin\":0,\"fXmax\":1,\"fXbins\":[],\"fFirst\":0,\"fLast\":0,\"fBits2\":0,\"fTimeDisplay\":false,\"fTimeFormat\":\"\",\"fLabels\":null,\"fModLabs\":null},\"fZaxis\":{\"_typename\":\"TAxis\",\"fUniqueID\":0,\"fBits\":50331648,\"fName\":\"zaxis\",\"fTitle\":\"\",\"fNdivisions\":510,\"fAxisColor\":1,\"fLabelColor\":1,\"fLabelFont\":42,\"fLabelOffset\":0.005,\"fLabelSize\":0.035,\"fTickLength\":0.03,\"fTitleOffset\":1,\"fTitleSize\":0.035,\"fTitleColor\":1,\"fTitleFont\":42,\"fNbins\":1,\"fXmin\":0,\"fXmax\":1,\"fXbins\":[],\"fFirst\":0,\"fLast\":0,\"fBits2\":0,\"fTimeDisplay\":false,\"fTimeFormat\":\"\",\"fLabels\":null,\"fModLabs\":null},\"fBarOffset\":0,\"fBarWidth\":1000,\"fEntries\":4730,\"fTsumw\":491.739235825167,\"fTsumw2\":235.853333517491,\"fTsumwx\":188916.994797008,\"fTsumwx2\":92204190.4509018,\"fMaximum\":-1111,\"fMinimum\":-1111,\"fNormFactor\":0,\"fContour\":[],\"fSumw2\":[0,0,0,0,0,0,0,0.939282893569231,0.468850247691986,1.50430685149526,1.04665124732054,3.56131582114159,1.06440451737416,1.63033670640911,0.891683535365264,0.821625123794554,1.12169601185114,1.14703655333484,2.70412662267564,4.62224334319931,1.95269766962585,4.49860909344902,5.74587857615782,4.35399411818863,6.19960694911089,6.27027227627454,8.0577042240998,9.36478355151171,8.05932976965634,6.84974810069471,7.91141978102672,6.83478670071952,8.90162811770481,4.65098769194247,9.09125582924015,4.51982074402945,8.54289282429196,7.74319515045354,5.81200497393986,5.48169538983709,2.94044779199545,6.92045749134062,0.695332538072192,3.09889673932464,2.61719132099572,2.75281227377831,4.44584727109286,4.33563351498821,2.84114010266072,2.21335870175895,1.42633101631987,1.53983175961669,2.68899745224534,3.50782101119562,0.579882189910866,1.09839747448654,1.89018966982557,1.73861372368677,1.81015815335283,1.81238790033517,0.48054799860729,1.05424418469324,1.48163564662371,0.72355822044165,0.513600060966316,0.473765815233315,0.36153125356739,0.345262401245125,0.841162722882964,0.613222860224351,1.04069832544551,0.560907794792788,0.675004367969224,1.98539609930818,0.891427502940283,0.611296554105481,1.09164679576381,0.413601754942875,0.38832423969535,0.338998928129191,0.158030787989636,0.924398804382801,0.455056951650653,0.743393218304876,0.369012792212413,1.021724330336,0.380298401748521,0.923550529434713,0.336923106233806,0.65548373899727,1.70008319959259,0.237092287761012,0,0.00895866145065962,1.81047991329235,1.11017884838867,0,0.694444444444445,0.25,0.987692424935223,0.258328830966366,0.413265306122449,0.00591715976331361,0,0.408907877283727,0.442383686241986,1.01746958691317,0.0517962436136412,0.502944426907768,0.25,0.0831610087767284,0,0,0,0,0.0109439603870939,0.618306669588721,0.042868594832258,0.0669602378386448,0.70784485536076,0,2.83643983516036],\"fOption\":\"\",\"fFunctions\":{\"_typename\":\"TList\",\"name\":\"TList\",\"arr\":[],\"opt\":[]},\"fBufferSize\":0,\"fBuffer\":[],\"fBinStatErrOpt\":0,\"fStatOverflows\":2,\"fArray\":[0,0,0,0,0,0,0,1.62385009030918,1.21489406855099,2.79195989358313,2.11610004055656,5.20164722494481,2.732713769593,3.49087581819217,2.10385531045592,1.99500085640472,2.77075739730465,2.71644155040922,6.02909399685125,7.40584859732384,6.48588766515593,9.39365499189496,12.0759127496764,10.727429615604,14.2183481934702,14.2158703525213,16.852520949986,20.0554617662674,16.8893532462652,15.7544316239722,16.7748552191762,14.7353549349311,18.7579751886634,11.1849085230431,18.6429344667408,10.1801386912537,16.2329324398549,15.7076400605087,11.0798740684222,11.6355676445465,7.86950328264226,12.3082496781777,3.37651993626664,7.07825450605962,5.53067464359983,5.05912059012959,7.27673674332027,8.42252745161896,6.70667299594423,4.08691195203256,2.89480143718003,3.35522146655352,5.11918793913664,6.18504948325838,1.67737440303718,3.30821137019208,3.80345029046207,3.47537057245095,3.72152068844828,3.9369440445712,1.7533301854899,1.75927250643434,3.03190345435863,2.01950273110551,0.993827160493827,1.21172498435873,0.847946560488819,0.906906208973093,1.95829803704506,1.3527820750043,1.93488455988456,1.25622227030941,1.82087764178746,2.84504126229616,1.66772887606221,1.61844055594056,2.40592602443642,1.1006920920714,1.14876147515036,0.8164767331434,0.397530864197531,1.89259259259259,1.16566493393979,1.51891803263545,0.694935726744006,2.06698059964727,0.736182726654303,1.7606953677324,0.796913580246914,1.01056361938715,2.18236961241076,0.688271604938272,0,0.0946502057613169,2.3159670781893,1.87650228444746,0,0.833333333333333,0.5,0.993827160493827,0.692601416677722,0.642857142857143,0.0769230769230769,0,1.0540850716617,0.890939153439153,1.13217256490349,0.310525266047354,0.989829005250461,0.5,0.288376505243975,0,0,0,0,0.10461338531514,0.786324786324786,0.207047325102881,0.258766763396393,0.841335162322817,0,4.72754654627284]},{\"_typename\":\"TH1D\",\"fUniqueID\":0,\"fBits\":50331656,\"fName\":\"trigmjjc1\",\"fTitle\":\"Triggered Events vs mjj in 2T\",\"fLineColor\":1,\"fLineStyle\":1,\"fLineWidth\":1,\"fFillColor\":0,\"fFillStyle\":1001,\"fMarkerColor\":1,\"fMarkerStyle\":1,\"fMarkerSize\":1,\"fNcells\":122,\"fXaxis\":{\"_typename\":\"TAxis\",\"fUniqueID\":0,\"fBits\":50331648,\"fName\":\"xaxis\",\"fTitle\":\"\",\"fNdivisions\":510,\"fAxisColor\":1,\"fLabelColor\":1,\"fLabelFont\":42,\"fLabelOffset\":0.005,\"fLabelSize\":0.035,\"fTickLength\":0.03,\"fTitleOffset\":1,\"fTitleSize\":0.035,\"fTitleColor\":1,\"fTitleFont\":42,\"fNbins\":120,\"fXmin\":0,\"fXmax\":1200,\"fXbins\":[],\"fFirst\":0,\"fLast\":0,\"fBits2\":0,\"fTimeDisplay\":false,\"fTimeFormat\":\"\",\"fLabels\":null,\"fModLabs\":null},\"fYaxis\":{\"_typename\":\"TAxis\",\"fUniqueID\":0,\"fBits\":50331648,\"fName\":\"yaxis\",\"fTitle\":\"\",\"fNdivisions\":510,\"fAxisColor\":1,\"fLabelColor\":1,\"fLabelFont\":42,\"fLabelOffset\":0.005,\"fLabelSize\":0.035,\"fTickLength\":0.03,\"fTitleOffset\":0,\"fTitleSize\":0.035,\"fTitleColor\":1,\"fTitleFont\":42,\"fNbins\":1,\"fXmin\":0,\"fXmax\":1,\"fXbins\":[],\"fFirst\":0,\"fLast\":0,\"fBits2\":0,\"fTimeDisplay\":false,\"fTimeFormat\":\"\",\"fLabels\":null,\"fModLabs\":null},\"fZaxis\":{\"_typename\":\"TAxis\",\"fUniqueID\":0,\"fBits\":50331648,\"fName\":\"zaxis\",\"fTitle\":\"\",\"fNdivisions\":510,\"fAxisColor\":1,\"fLabelColor\":1,\"fLabelFont\":42,\"fLabelOffset\":0.005,\"fLabelSize\":0.035,\"fTickLength\":0.03,\"fTitleOffset\":1,\"fTitleSize\":0.035,\"fTitleColor\":1,\"fTitleFont\":42,\"fNbins\":1,\"fXmin\":0,\"fXmax\":1,\"fXbins\":[],\"fFirst\":0,\"fLast\":0,\"fBits2\":0,\"fTimeDisplay\":false,\"fTimeFormat\":\"\",\"fLabels\":null,\"fModLabs\":null},\"fBarOffset\":0,\"fBarWidth\":1000,\"fEntries\":508,\"fTsumw\":504,\"fTsumw2\":504,\"fTsumwx\":194940.583336241,\"fTsumwx2\":95250916.949904,\"fMaximum\":-1111,\"fMinimum\":-1111,\"fNormFactor\":0,\"fContour\":[],\"fSumw2\":[],\"fOption\":\"\",\"fFunctions\":{\"_typename\":\"TList\",\"name\":\"TList\",\"arr\":[],\"opt\":[]},\"fBufferSize\":0,\"fBuffer\":[],\"fBinStatErrOpt\":0,\"fStatOverflows\":2,\"fArray\":[0,0,0,0,0,0,0,2,1,3,2,6,2,3,3,1,0,2,7,5,9,5,14,12,14,18,11,22,15,16,19,20,20,13,19,10,17,16,13,13,8,11,5,7,3,6,9,10,8,5,3,2,6,7,0,0,4,2,3,4,2,0,4,2,1,1,1,1,5,0,3,0,3,3,2,1,3,3,1,1,0,4,1,0,1,2,0,2,1,2,3,0,0,0,3,2,0,0,0,1,1,1,1,0,1,1,1,0,1,0,0,0,0,0,0,0,1,0,0,1,0,4]},{\"_typename\":\"TPaveText\",\"fUniqueID\":0,\"fBits\":50331657,\"fLineColor\":1,\"fLineStyle\":1,\"fLineWidth\":1,\"fFillColor\":0,\"fFillStyle\":0,\"fX1\":416.896548995684,\"fY1\":25.3116427312702,\"fX2\":783.103451004316,\"fY2\":27.153671528558,\"fX1NDC\":0.377931034482759,\"fY1NDC\":0.934285719054086,\"fX2NDC\":0.622068965517241,\"fY2NDC\":0.995000004768372,\"fBorderSize\":0,\"fInit\":1,\"fShadowColor\":1,\"fCornerRadius\":0,\"fOption\":\"blNDC\",\"fName\":\"title\",\"fTextAngle\":0,\"fTextSize\":0,\"fTextAlign\":22,\"fTextColor\":1,\"fTextFont\":42,\"fLabel\":\"\",\"fLongest\":9,\"fMargin\":0.05,\"fLines\":{\"_typename\":\"TList\",\"name\":\"TList\",\"arr\":[{\"_typename\":\"TLatex\",\"fUniqueID\":0,\"fBits\":50331648,\"fName\":\"\",\"fTitle\":\"2T region\",\"fTextAngle\":0,\"fTextSize\":0,\"fTextAlign\":0,\"fTextColor\":0,\"fTextFont\":0,\"fX\":0,\"fY\":0,\"fLineColor\":1,\"fLineStyle\":1,\"fLineWidth\":2,\"fLimitFactorSize\":3,\"fOriginSize\":0.0516071431338787}],\"opt\":[\"\"]}},{\"_typename\":\"TLegend\",\"fUniqueID\":0,\"fBits\":50331656,\"fLineColor\":1,\"fLineStyle\":1,\"fLineWidth\":1,\"fFillColor\":0,\"fFillStyle\":0,\"fX1\":795.000002905727,\"fY1\":16.0798276731351,\"fX2\":1305.00001050532,\"fY2\":24.8782240460628,\"fX1NDC\":0.63,\"fY1NDC\":0.63,\"fX2NDC\":0.97,\"fY2NDC\":0.92,\"fBorderSize\":0,\"fInit\":1,\"fShadowColor\":1,\"fCornerRadius\":0,\"fOption\":\"brNDC\",\"fName\":\"TPave\",\"fTextAngle\":0,\"fTextSize\":0.035,\"fTextAlign\":12,\"fTextColor\":1,\"fTextFont\":42,\"fPrimitives\":{\"_typename\":\"TList\",\"name\":\"TList\",\"arr\":[{\"_typename\":\"TLegendEntry\",\"fUniqueID\":0,\"fBits\":50331656,\"fTextAngle\":0,\"fTextSize\":0,\"fTextAlign\":0,\"fTextColor\":0,\"fTextFont\":42,\"fLineColor\":632,\"fLineStyle\":1,\"fLineWidth\":1,\"fFillColor\":0,\"fFillStyle\":0,\"fMarkerColor\":632,\"fMarkerStyle\":20,\"fMarkerSize\":1,\"fObject\":{\"$ref\":3},\"fLabel\":\"Weighted\",\"fOption\":\"APL\"},{\"_typename\":\"TLegendEntry\",\"fUniqueID\":0,\"fBits\":50331656,\"fTextAngle\":0,\"fTextSize\":0,\"fTextAlign\":0,\"fTextColor\":0,\"fTextFont\":42,\"fLineColor\":1,\"fLineStyle\":1,\"fLineWidth\":1,\"fFillColor\":0,\"fFillStyle\":0,\"fMarkerColor\":1,\"fMarkerStyle\":1,\"fMarkerSize\":1,\"fObject\":{\"$ref\":8},\"fLabel\":\"Triggered\",\"fOption\":\"APL\"}],\"opt\":[\"APL\",\"APL\"]},\"fEntrySeparation\":0.1,\"fMargin\":0.25,\"fNColumns\":1,\"fColumnSeparation\":0}],\"opt\":[\"\",\"\",\"same\",\"blNDC\",\"same\"]},\"fExecs\":null,\"fName\":\"\",\"fTitle\":\"\",\"fNumPaletteColor\":0,\"fNextPaletteColor\":0,\"fDISPLAY\":\"$DISPLAY\",\"fDoubleBuffer\":0,\"fRetained\":true,\"fXsizeUser\":0,\"fYsizeUser\":0,\"fXsizeReal\":20,\"fYsizeReal\":20,\"fWindowTopX\":0,\"fWindowTopY\":0,\"fWindowWidth\":0,\"fWindowHeight\":0,\"fCw\":696,\"fCh\":672,\"fCatt\":{\"_typename\":\"TAttCanvas\",\"fXBetween\":2,\"fYBetween\":2,\"fTitleFromTop\":1.2,\"fXdate\":0.2,\"fYdate\":0.3,\"fAdate\":1},\"kMoveOpaque\":true,\"kResizeOpaque\":true,\"fHighLightColor\":2,\"fBatch\":true,\"kShowEventStatus\":false,\"kAutoExec\":true,\"kMenuBar\":true});\n",
       "       Core.draw(\"root_plot_1\", obj, \"\");\n",
       "     }\n",
       " );\n",
       "</script>\n"
      ],
      "text/plain": [
       "<IPython.core.display.HTML object>"
      ]
     },
     "metadata": {},
     "output_type": "display_data"
    }
   ],
   "source": [
    "#histogram = get_histogram(file,names[0])\n",
    "c1 = ROOT.TCanvas(\"\",\"\",700,700)\n",
    "histogram_w.SetStats(0)\n",
    "histogram_w.SetTitle(titles[0])\n",
    "histogram_w.GetYaxis().SetTitle('A.U.')\n",
    "histogram_w.GetXaxis().SetTitle(xtitle[0])\n",
    "histogram_w.GetYaxis().SetLabelSize(0.02)\n",
    "histogram_w.GetYaxis().SetTitleOffset(1.2)\n",
    "histogram_w.GetXaxis().SetLabelSize(0.02)\n",
    "histogram_w.GetXaxis().SetTitleOffset(1.2)\n",
    "histogram_w.GetXaxis().SetTitleSize(0.03)\n",
    "histogram_w.SetLineColor(kRed)\n",
    "histogram_w.SetMarkerColor(kRed)\n",
    "histogram_w.SetMarkerStyle(20)\n",
    "histogram_w.Draw()\n",
    "histogram_t.SetLineColor(kBlack)\n",
    "histogram_t.Draw('same')\n",
    "ROOT.gPad.Update()\n",
    "    #graph.Draw()\n",
    "    \n",
    "leg = TLegend(.63,.63,.97,.92)\n",
    "leg.SetBorderSize(0)\n",
    "leg.SetFillColor(0)\n",
    "leg.SetFillStyle(0)\n",
    "leg.SetTextFont(42)\n",
    "leg.SetTextSize(0.035)\n",
    "leg.AddEntry(histogram_w,\"Weighted\",\"APL\")\n",
    "leg.AddEntry(histogram_t,\"Triggered\",\"APL\")\n",
    "leg.Draw(\"same\")\n",
    "c1.SetGridx()\n",
    "c1.SetGridy()\n",
    "c1.Draw()\n",
    "\n",
    "#print(histogram.GetName())\n",
    "outfile = '../plots/closure_di90.png' \n",
    "c1.SaveAs(outfile)"
   ]
  },
  {
   "cell_type": "code",
   "execution_count": null,
   "metadata": {},
   "outputs": [],
   "source": []
  }
 ],
 "metadata": {
  "kernelspec": {
   "display_name": "Python 3",
   "language": "python",
   "name": "python3"
  },
  "language_info": {
   "codemirror_mode": {
    "name": "ipython",
    "version": 3
   },
   "file_extension": ".py",
   "mimetype": "text/x-python",
   "name": "python",
   "nbconvert_exporter": "python",
   "pygments_lexer": "ipython3",
   "version": "3.7.4"
  }
 },
 "nbformat": 4,
 "nbformat_minor": 2
}
