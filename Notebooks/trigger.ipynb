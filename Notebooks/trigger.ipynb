{
 "cells": [
  {
   "cell_type": "code",
   "execution_count": 1,
   "metadata": {},
   "outputs": [
    {
     "name": "stdout",
     "output_type": "stream",
     "text": [
      "Welcome to JupyROOT 6.18/00\n"
     ]
    }
   ],
   "source": [
    "import ROOT\n",
    "import PlotTools\n",
    "from ROOT import TLine, TFile, TCanvas, kRed, THStack, kYellow, kGreen, kBlack, TLegend, TGraphAsymmErrors\n",
    "ROOT.enableJSVis()\n",
    "#from rootpy.io import root_open\n",
    "ROOT.gROOT.SetBatch(True)"
   ]
  },
  {
   "cell_type": "code",
   "execution_count": 17,
   "metadata": {},
   "outputs": [
    {
     "data": {
      "text/plain": [
       "True"
      ]
     },
     "execution_count": 17,
     "metadata": {},
     "output_type": "execute_result"
    }
   ],
   "source": [
    "#file = ROOT.TFile.Open('../data/trigger/triggerClosureAll.root','read')\n",
    "file = ROOT.TFile.Open('../data/trigger/triggerClosureAllQuad45.root','read')\n",
    "file.cd()"
   ]
  },
  {
   "cell_type": "code",
   "execution_count": 18,
   "metadata": {},
   "outputs": [],
   "source": [
    "w_names = ['weightmjjc1']\n",
    "t_names = ['trigmjjc1']\n",
    "titles = ['2T region']\n",
    "xtitle = ['m_{jj}[GeV]']\n",
    "\n",
    "#names = ['L1Quad45_caloT','Quad45Calo_caloT', 'Quad45LeadCSV3_min_PF', 'Quad45PF_PfT']\n",
    "#titles = ['Turn on L1', 'Turn on hltQuadCentralJet45', 'Turn on hltBTagCaloCSVp087Triple', 'Turn on hltQuadPFCentralJetLooseID45']\n",
    "#xtitle = ['#sum_{i=1}^{4}(p_{i}^{T})', 'p_{T,4}^{calo}','CSV_{3}', 'p_{T,4}^{PF}']\n"
   ]
  },
  {
   "cell_type": "code",
   "execution_count": 19,
   "metadata": {},
   "outputs": [],
   "source": [
    "class HistogramNotFoundError(KeyError):\n",
    "     pass\n",
    "def get_histogram(file,name):\n",
    "    hist = file.Get(name)\n",
    "    if not hist:\n",
    "        raise HistogramNotFoundError(name)\n",
    "    return hist"
   ]
  },
  {
   "cell_type": "code",
   "execution_count": 20,
   "metadata": {},
   "outputs": [],
   "source": [
    "histogram_w = get_histogram(file,w_names[0])\n",
    "histogram_t = get_histogram(file,t_names[0])"
   ]
  },
  {
   "cell_type": "code",
   "execution_count": 21,
   "metadata": {},
   "outputs": [
    {
     "name": "stderr",
     "output_type": "stream",
     "text": [
      "Warning in <TCanvas::Constructor>: Deleting canvas with same name: \n",
      "Info in <TCanvas::Print>: png file ../plots/closure_di90.png has been created\n"
     ]
    },
    {
     "data": {
      "text/html": [
       "\n",
       "<div id=\"root_plot_3\"\n",
       "     style=\"width: 696px; height: 672px\">\n",
       "</div>\n",
       "\n",
       "<script>\n",
       " requirejs.config({\n",
       "     paths: {\n",
       "       'JSRootCore' : 'https://root.cern.ch/js/notebook//scripts/JSRootCore',\n",
       "     }\n",
       "   });\n",
       " require(['JSRootCore'],\n",
       "     function(Core) {\n",
       "       var obj = Core.JSONR_unref({\"_typename\":\"TCanvas\",\"fUniqueID\":0,\"fBits\":53673992,\"fLineColor\":1,\"fLineStyle\":1,\"fLineWidth\":1,\"fFillColor\":0,\"fFillStyle\":1001,\"fLeftMargin\":0.1,\"fRightMargin\":0.1,\"fBottomMargin\":0.1,\"fTopMargin\":0.1,\"fXfile\":2,\"fYfile\":2,\"fAfile\":1,\"fXstat\":0.99,\"fYstat\":0.99,\"fAstat\":2,\"fFrameFillColor\":0,\"fFrameLineColor\":1,\"fFrameFillStyle\":1001,\"fFrameLineStyle\":1,\"fFrameLineWidth\":1,\"fFrameBorderSize\":1,\"fFrameBorderMode\":0,\"fX1\":-150.000011175872,\"fY1\":-20.3537627102151,\"fX2\":1350.00001117587,\"fY2\":183.183852260148,\"fXtoAbsPixelk\":69.6000541484835,\"fXtoPixelk\":69.6000541484835,\"fXtoPixel\":0.463999993085861,\"fYtoAbsPixelk\":604.800045994568,\"fYtoPixelk\":604.800045994568,\"fYtoPixel\":-3.30160103378361,\"fUtoAbsPixelk\":5e-5,\"fUtoPixelk\":5e-5,\"fUtoPixel\":696,\"fVtoAbsPixelk\":672.00005,\"fVtoPixelk\":672,\"fVtoPixel\":-672,\"fAbsPixeltoXk\":-150.000011175872,\"fPixeltoXk\":-150.000011175872,\"fPixeltoX\":2.15517244590768,\"fAbsPixeltoYk\":183.183852260148,\"fPixeltoYk\":-20.3537627102151,\"fPixeltoY\":-0.302883355610659,\"fXlowNDC\":0,\"fYlowNDC\":0,\"fXUpNDC\":0,\"fYUpNDC\":0,\"fWNDC\":1,\"fHNDC\":1,\"fAbsXlowNDC\":0,\"fAbsYlowNDC\":0,\"fAbsWNDC\":1,\"fAbsHNDC\":1,\"fUxmin\":0,\"fUymin\":0,\"fUxmax\":1200,\"fUymax\":162.830089549933,\"fTheta\":30,\"fPhi\":30,\"fAspectRatio\":0,\"fNumber\":0,\"fTickx\":0,\"fTicky\":0,\"fLogx\":0,\"fLogy\":0,\"fLogz\":0,\"fPadPaint\":0,\"fCrosshair\":0,\"fCrosshairPos\":0,\"fBorderSize\":2,\"fBorderMode\":0,\"fModified\":false,\"fGridx\":true,\"fGridy\":true,\"fAbsCoord\":false,\"fEditable\":true,\"fFixedAspectRatio\":false,\"fPrimitives\":{\"_typename\":\"TList\",\"name\":\"TList\",\"arr\":[{\"_typename\":\"TFrame\",\"fUniqueID\":0,\"fBits\":50331656,\"fLineColor\":1,\"fLineStyle\":1,\"fLineWidth\":1,\"fFillColor\":0,\"fFillStyle\":1001,\"fX1\":0,\"fY1\":0,\"fX2\":1200,\"fY2\":162.830089549933,\"fBorderSize\":1,\"fBorderMode\":0},{\"_typename\":\"TH1D\",\"fUniqueID\":0,\"fBits\":50332168,\"fName\":\"weightmjjc1\",\"fTitle\":\"2T region\",\"fLineColor\":632,\"fLineStyle\":1,\"fLineWidth\":1,\"fFillColor\":0,\"fFillStyle\":1001,\"fMarkerColor\":632,\"fMarkerStyle\":20,\"fMarkerSize\":1,\"fNcells\":122,\"fXaxis\":{\"_typename\":\"TAxis\",\"fUniqueID\":0,\"fBits\":50331656,\"fName\":\"xaxis\",\"fTitle\":\"m_{jj}[GeV]\",\"fNdivisions\":510,\"fAxisColor\":1,\"fLabelColor\":1,\"fLabelFont\":42,\"fLabelOffset\":0.005,\"fLabelSize\":0.02,\"fTickLength\":0.03,\"fTitleOffset\":1.2,\"fTitleSize\":0.03,\"fTitleColor\":1,\"fTitleFont\":42,\"fNbins\":120,\"fXmin\":0,\"fXmax\":1200,\"fXbins\":[],\"fFirst\":0,\"fLast\":0,\"fBits2\":0,\"fTimeDisplay\":false,\"fTimeFormat\":\"\",\"fLabels\":null,\"fModLabs\":null},\"fYaxis\":{\"_typename\":\"TAxis\",\"fUniqueID\":0,\"fBits\":50331656,\"fName\":\"yaxis\",\"fTitle\":\"A.U.\",\"fNdivisions\":510,\"fAxisColor\":1,\"fLabelColor\":1,\"fLabelFont\":42,\"fLabelOffset\":0.005,\"fLabelSize\":0.02,\"fTickLength\":0.03,\"fTitleOffset\":1.2,\"fTitleSize\":0.035,\"fTitleColor\":1,\"fTitleFont\":42,\"fNbins\":1,\"fXmin\":0,\"fXmax\":1,\"fXbins\":[],\"fFirst\":0,\"fLast\":0,\"fBits2\":0,\"fTimeDisplay\":false,\"fTimeFormat\":\"\",\"fLabels\":null,\"fModLabs\":null},\"fZaxis\":{\"_typename\":\"TAxis\",\"fUniqueID\":0,\"fBits\":50331648,\"fName\":\"zaxis\",\"fTitle\":\"\",\"fNdivisions\":510,\"fAxisColor\":1,\"fLabelColor\":1,\"fLabelFont\":42,\"fLabelOffset\":0.005,\"fLabelSize\":0.035,\"fTickLength\":0.03,\"fTitleOffset\":1,\"fTitleSize\":0.035,\"fTitleColor\":1,\"fTitleFont\":42,\"fNbins\":1,\"fXmin\":0,\"fXmax\":1,\"fXbins\":[],\"fFirst\":0,\"fLast\":0,\"fBits2\":0,\"fTimeDisplay\":false,\"fTimeFormat\":\"\",\"fLabels\":null,\"fModLabs\":null},\"fBarOffset\":0,\"fBarWidth\":1000,\"fEntries\":32445,\"fTsumw\":4373.90545452169,\"fTsumw2\":1967.04183004329,\"fTsumwx\":1394643.58075979,\"fTsumwx2\":584722518.065257,\"fMaximum\":-1111,\"fMinimum\":-1111,\"fNormFactor\":0,\"fContour\":[],\"fSumw2\":[0,0,0,2.93562147178334e-4,0.4424313389225,2.84100264053772,5.02331179352064,8.03782824602844,10.2472953657802,20.4293340804507,23.360351531139,20.8830841368616,35.4284797502931,29.0176523806853,39.9538752386564,43.9486759011526,44.0866301191775,48.1840151637094,50.264792902446,54.165551689875,56.665380733386,54.3691875873975,55.7340292259275,61.3753619227884,53.5409050264613,60.4758533971333,57.6480863338005,58.2423767287072,57.7129965592712,51.9626814696497,51.7944297744779,48.8382317931346,53.8408129493903,37.3073297054426,41.6953820906487,44.6771041421987,45.7192981828445,40.1235590894449,33.4619235259707,31.8525024463346,22.4124556676419,27.2417191435129,29.9001870741735,23.7517095313154,26.8902648096176,19.7391390471549,21.9855428860099,18.6943863054264,16.542934294704,14.4423613357986,20.7304625067782,18.2765627195883,13.5407363493956,12.5075417771701,11.526634880372,14.0252965819093,9.39110366715486,13.1258761675863,12.0356875582621,14.9037268966741,10.3970444788174,8.40575667834321,5.18370190348432,8.60538777660522,8.98785967231808,5.12362384374358,8.59382499842628,3.09638478801538,4.33279540551146,4.97731032772983,7.08878354461816,4.28619309121813,4.34128562260143,3.21870674974044,3.51349734837992,4.86695451930327,5.67556751875873,4.64661571244419,4.67230188861857,3.27184986479334,2.32551211170016,2.65172663243746,1.75166095162465,2.42519125802238,0.786482733311647,1.30222990521516,2.67294678337931,3.3460358360532,0.940590526072126,2.78479326044235,2.9568632920738,0.773295187247947,0.941956129679536,3.3951743206211,2.88894191609533,1.30907374018213,1.15107307410543,2.98680915608148,1.04040229096371,0.96414876614331,1.02816163910827,1.19920169675456,1.56716790312376,1.07216393995615,1.9298802165131,1.20839926456894,0.666243403309376,0.795971407870785,0.446073637329468,0.269983679682334,1.06403497013145,0.793347944967323,0.770510867622314,1.28687590709525,0.985587464813869,0.541139747110733,1.311023027656,0.50068938183786,0.460260269201328,0.858896019425461,0.589496324245797,14.6947733744794],\"fOption\":\"\",\"fFunctions\":{\"_typename\":\"TList\",\"name\":\"TList\",\"arr\":[],\"opt\":[]},\"fBufferSize\":0,\"fBuffer\":[],\"fBinStatErrOpt\":0,\"fStatOverflows\":2,\"fArray\":[0,0,0,0.017133655394525,1.2478046242068,6.78709078398216,10.8344893071849,18.4533853226547,26.1536461703354,41.4260531744282,45.4692883045731,47.1443242241786,76.219672645939,70.3645686321556,87.8610371944786,102.850411748046,106.63988555114,116.522160955489,124.29690190885,126.712241582441,133.387754109688,132.365613712315,134.341574916889,147.242032855038,128.229437235387,140.220072208033,133.273823736016,130.248231181131,127.181043787817,114.40967958437,116.522669578236,112.273965940447,116.602194204839,87.7897486053951,88.4928192987369,95.5883022015882,97.08237704971,88.3709453619245,73.208286018828,72.4216371248688,54.9730625975764,57.0692873159227,61.9011747070544,49.1968230045962,55.238811941204,44.4785889443481,43.610118447253,38.5905417452271,36.2208905169608,31.4951223878121,38.6348028584608,35.639690435812,28.8686171542734,26.5835152690194,23.2074102801561,28.4924557016808,21.0409979630804,26.4448685520088,22.0033397589411,28.3084960811427,19.9947309026313,16.8687317753382,12.4000409764825,14.8460445355705,18.8481739757393,11.0436777206625,16.3675152275321,6.76315307438773,9.73396905311797,10.5662750843562,14.2159087121096,8.59460348860028,9.56593955573519,6.95914517995376,8.86216808284415,9.60482956224749,10.4450985449102,8.1364544277461,9.08415628313459,5.36497010435003,4.21415500870489,5.49011174813256,4.53225949950227,5.06932138246087,2.22243500912691,2.86302832901087,5.47958752141086,6.69045054073262,1.86416512059369,4.95994399613234,5.285432245406,2.10972270203404,2.29719309021751,6.39350001919997,5.57146722771687,3.19787734470089,2.26002057236438,4.58079078821754,2.00288627916547,1.47541797464438,2.05398401104807,2.50817232278038,3.49520269386838,1.6961038961039,3.6085935077788,1.90343375145822,1.68531689703376,2.06626364148976,0.944297082228117,0.930417359509893,1.73463239128605,1.52729247285858,1.70110576889883,2.24093159819411,1.5869743600836,0.920373266808314,1.97792348710317,1.02811424067636,0.85964035964036,1.28031789638932,1.08009069025903,28.395441570391]},{\"_typename\":\"TH1D\",\"fUniqueID\":0,\"fBits\":50331656,\"fName\":\"trigmjjc1\",\"fTitle\":\"Triggered Events vs mjj in 2T\",\"fLineColor\":1,\"fLineStyle\":1,\"fLineWidth\":1,\"fFillColor\":0,\"fFillStyle\":1001,\"fMarkerColor\":1,\"fMarkerStyle\":1,\"fMarkerSize\":1,\"fNcells\":122,\"fXaxis\":{\"_typename\":\"TAxis\",\"fUniqueID\":0,\"fBits\":50331648,\"fName\":\"xaxis\",\"fTitle\":\"\",\"fNdivisions\":510,\"fAxisColor\":1,\"fLabelColor\":1,\"fLabelFont\":42,\"fLabelOffset\":0.005,\"fLabelSize\":0.035,\"fTickLength\":0.03,\"fTitleOffset\":1,\"fTitleSize\":0.035,\"fTitleColor\":1,\"fTitleFont\":42,\"fNbins\":120,\"fXmin\":0,\"fXmax\":1200,\"fXbins\":[],\"fFirst\":0,\"fLast\":0,\"fBits2\":0,\"fTimeDisplay\":false,\"fTimeFormat\":\"\",\"fLabels\":null,\"fModLabs\":null},\"fYaxis\":{\"_typename\":\"TAxis\",\"fUniqueID\":0,\"fBits\":50331648,\"fName\":\"yaxis\",\"fTitle\":\"\",\"fNdivisions\":510,\"fAxisColor\":1,\"fLabelColor\":1,\"fLabelFont\":42,\"fLabelOffset\":0.005,\"fLabelSize\":0.035,\"fTickLength\":0.03,\"fTitleOffset\":0,\"fTitleSize\":0.035,\"fTitleColor\":1,\"fTitleFont\":42,\"fNbins\":1,\"fXmin\":0,\"fXmax\":1,\"fXbins\":[],\"fFirst\":0,\"fLast\":0,\"fBits2\":0,\"fTimeDisplay\":false,\"fTimeFormat\":\"\",\"fLabels\":null,\"fModLabs\":null},\"fZaxis\":{\"_typename\":\"TAxis\",\"fUniqueID\":0,\"fBits\":50331648,\"fName\":\"zaxis\",\"fTitle\":\"\",\"fNdivisions\":510,\"fAxisColor\":1,\"fLabelColor\":1,\"fLabelFont\":42,\"fLabelOffset\":0.005,\"fLabelSize\":0.035,\"fTickLength\":0.03,\"fTitleOffset\":1,\"fTitleSize\":0.035,\"fTitleColor\":1,\"fTitleFont\":42,\"fNbins\":1,\"fXmin\":0,\"fXmax\":1,\"fXbins\":[],\"fFirst\":0,\"fLast\":0,\"fBits2\":0,\"fTimeDisplay\":false,\"fTimeFormat\":\"\",\"fLabels\":null,\"fModLabs\":null},\"fBarOffset\":0,\"fBarWidth\":1000,\"fEntries\":4605,\"fTsumw\":4577,\"fTsumw2\":4577,\"fTsumwx\":1493374.9072218,\"fTsumwx2\":641869154.404083,\"fMaximum\":-1111,\"fMinimum\":-1111,\"fNormFactor\":0,\"fContour\":[],\"fSumw2\":[],\"fOption\":\"\",\"fFunctions\":{\"_typename\":\"TList\",\"name\":\"TList\",\"arr\":[],\"opt\":[]},\"fBufferSize\":0,\"fBuffer\":[],\"fBinStatErrOpt\":0,\"fStatOverflows\":2,\"fArray\":[0,0,0,0,1,6,14,20,23,40,51,48,75,75,90,90,101,103,138,126,128,138,126,155,130,147,144,132,132,124,128,112,122,89,107,100,100,99,85,73,55,68,74,50,57,43,46,44,34,29,42,49,31,31,28,25,21,24,29,37,24,16,17,17,21,12,16,8,13,8,13,6,9,8,12,6,12,12,11,4,5,8,5,5,3,5,7,6,3,4,8,2,4,8,7,4,4,5,3,2,4,2,6,2,6,1,2,1,1,1,2,3,1,3,2,1,3,1,1,1,1,28]},{\"_typename\":\"TPaveText\",\"fUniqueID\":0,\"fBits\":50331657,\"fLineColor\":1,\"fLineStyle\":1,\"fLineWidth\":1,\"fFillColor\":0,\"fFillStyle\":0,\"fX1\":416.896548995684,\"fY1\":169.808524246924,\"fX2\":783.103451004316,\"fY2\":182.166165155839,\"fX1NDC\":0.377931034482759,\"fY1NDC\":0.934285719054086,\"fX2NDC\":0.622068965517241,\"fY2NDC\":0.995000004768372,\"fBorderSize\":0,\"fInit\":1,\"fShadowColor\":1,\"fCornerRadius\":0,\"fOption\":\"blNDC\",\"fName\":\"title\",\"fTextAngle\":0,\"fTextSize\":0,\"fTextAlign\":22,\"fTextColor\":1,\"fTextFont\":42,\"fLabel\":\"\",\"fLongest\":9,\"fMargin\":0.05,\"fLines\":{\"_typename\":\"TList\",\"name\":\"TList\",\"arr\":[{\"_typename\":\"TLatex\",\"fUniqueID\":0,\"fBits\":50331648,\"fName\":\"\",\"fTitle\":\"2T region\",\"fTextAngle\":0,\"fTextSize\":0,\"fTextAlign\":0,\"fTextColor\":0,\"fTextFont\":0,\"fX\":0,\"fY\":0,\"fLineColor\":1,\"fLineStyle\":1,\"fLineWidth\":2,\"fLimitFactorSize\":3,\"fOriginSize\":0.0516071431338787}],\"opt\":[\"\"]}},{\"_typename\":\"TLegend\",\"fUniqueID\":0,\"fBits\":50331656,\"fLineColor\":1,\"fLineStyle\":1,\"fLineWidth\":1,\"fFillColor\":0,\"fFillStyle\":0,\"fX1\":795.000002905727,\"fY1\":107.874934721114,\"fX2\":1305.00001050532,\"fY2\":166.900843062519,\"fX1NDC\":0.63,\"fY1NDC\":0.63,\"fX2NDC\":0.97,\"fY2NDC\":0.92,\"fBorderSize\":0,\"fInit\":1,\"fShadowColor\":1,\"fCornerRadius\":0,\"fOption\":\"brNDC\",\"fName\":\"TPave\",\"fTextAngle\":0,\"fTextSize\":0.035,\"fTextAlign\":12,\"fTextColor\":1,\"fTextFont\":42,\"fPrimitives\":{\"_typename\":\"TList\",\"name\":\"TList\",\"arr\":[{\"_typename\":\"TLegendEntry\",\"fUniqueID\":0,\"fBits\":50331656,\"fTextAngle\":0,\"fTextSize\":0,\"fTextAlign\":0,\"fTextColor\":0,\"fTextFont\":42,\"fLineColor\":632,\"fLineStyle\":1,\"fLineWidth\":1,\"fFillColor\":0,\"fFillStyle\":0,\"fMarkerColor\":632,\"fMarkerStyle\":20,\"fMarkerSize\":1,\"fObject\":{\"$ref\":3},\"fLabel\":\"Weighted\",\"fOption\":\"APL\"},{\"_typename\":\"TLegendEntry\",\"fUniqueID\":0,\"fBits\":50331656,\"fTextAngle\":0,\"fTextSize\":0,\"fTextAlign\":0,\"fTextColor\":0,\"fTextFont\":42,\"fLineColor\":1,\"fLineStyle\":1,\"fLineWidth\":1,\"fFillColor\":0,\"fFillStyle\":0,\"fMarkerColor\":1,\"fMarkerStyle\":1,\"fMarkerSize\":1,\"fObject\":{\"$ref\":8},\"fLabel\":\"Triggered\",\"fOption\":\"APL\"}],\"opt\":[\"APL\",\"APL\"]},\"fEntrySeparation\":0.1,\"fMargin\":0.25,\"fNColumns\":1,\"fColumnSeparation\":0}],\"opt\":[\"\",\"\",\"same\",\"blNDC\",\"same\"]},\"fExecs\":null,\"fName\":\"\",\"fTitle\":\"\",\"fNumPaletteColor\":0,\"fNextPaletteColor\":0,\"fDISPLAY\":\"$DISPLAY\",\"fDoubleBuffer\":0,\"fRetained\":true,\"fXsizeUser\":0,\"fYsizeUser\":0,\"fXsizeReal\":20,\"fYsizeReal\":20,\"fWindowTopX\":0,\"fWindowTopY\":0,\"fWindowWidth\":0,\"fWindowHeight\":0,\"fCw\":696,\"fCh\":672,\"fCatt\":{\"_typename\":\"TAttCanvas\",\"fXBetween\":2,\"fYBetween\":2,\"fTitleFromTop\":1.2,\"fXdate\":0.2,\"fYdate\":0.3,\"fAdate\":1},\"kMoveOpaque\":true,\"kResizeOpaque\":true,\"fHighLightColor\":2,\"fBatch\":true,\"kShowEventStatus\":false,\"kAutoExec\":true,\"kMenuBar\":true});\n",
       "       Core.draw(\"root_plot_3\", obj, \"\");\n",
       "     }\n",
       " );\n",
       "</script>\n"
      ],
      "text/plain": [
       "<IPython.core.display.HTML object>"
      ]
     },
     "metadata": {},
     "output_type": "display_data"
    }
   ],
   "source": [
    "#histogram = get_histogram(file,names[0])\n",
    "c1 = ROOT.TCanvas(\"\",\"\",700,700)\n",
    "histogram_w.SetStats(0)\n",
    "histogram_w.SetTitle(titles[0])\n",
    "histogram_w.GetYaxis().SetTitle('A.U.')\n",
    "histogram_w.GetXaxis().SetTitle(xtitle[0])\n",
    "histogram_w.GetYaxis().SetLabelSize(0.02)\n",
    "histogram_w.GetYaxis().SetTitleOffset(1.2)\n",
    "histogram_w.GetXaxis().SetLabelSize(0.02)\n",
    "histogram_w.GetXaxis().SetTitleOffset(1.2)\n",
    "histogram_w.GetXaxis().SetTitleSize(0.03)\n",
    "histogram_w.SetLineColor(kRed)\n",
    "histogram_w.SetMarkerColor(kRed)\n",
    "histogram_w.SetMarkerStyle(20)\n",
    "histogram_w.Draw()\n",
    "histogram_t.SetLineColor(kBlack)\n",
    "histogram_t.Draw('same')\n",
    "ROOT.gPad.Update()\n",
    "    #graph.Draw()\n",
    "    \n",
    "leg = TLegend(.63,.63,.97,.92)\n",
    "leg.SetBorderSize(0)\n",
    "leg.SetFillColor(0)\n",
    "leg.SetFillStyle(0)\n",
    "leg.SetTextFont(42)\n",
    "leg.SetTextSize(0.035)\n",
    "leg.AddEntry(histogram_w,\"Weighted\",\"APL\")\n",
    "leg.AddEntry(histogram_t,\"Triggered\",\"APL\")\n",
    "leg.Draw(\"same\")\n",
    "c1.SetGridx()\n",
    "c1.SetGridy()\n",
    "c1.Draw()\n",
    "\n",
    "#print(histogram.GetName())\n",
    "outfile = '../plots/closure_di90.png' \n",
    "c1.SaveAs(outfile)"
   ]
  },
  {
   "cell_type": "code",
   "execution_count": 22,
   "metadata": {},
   "outputs": [
    {
     "name": "stderr",
     "output_type": "stream",
     "text": [
      "Warning in <TCanvas::Constructor>: Deleting canvas with same name: c\n",
      "Warning in <TH1D::Sumw2>: Sum of squares of weights structure already created\n"
     ]
    }
   ],
   "source": [
    "line = TLine(0,1,1200,1)\n",
    "line.SetLineStyle(2)\n",
    "\n",
    "canvas, pad1, pad2 = PlotTools.createCanvasPads()\n",
    "pad1.cd()\n",
    "pad1.SetGridx()\n",
    "pad1.SetGridy()\n",
    "histogram_w.Draw()\n",
    "histogram_w.SetTitle(\"\")\n",
    "histogram_t.Draw(\"same\")\n",
    "leg = TLegend(.63,.63,.97,.92)\n",
    "leg.SetBorderSize(0)\n",
    "leg.SetFillColor(0)\n",
    "leg.SetFillStyle(0)\n",
    "leg.SetTextFont(42)\n",
    "leg.SetTextSize(0.035)\n",
    "leg.AddEntry(histogram_w,\"Weighted\",\"APL\")\n",
    "leg.AddEntry(histogram_t,\"Triggered\",\"APL\")\n",
    "leg.Draw(\"same\")\n",
    "\n",
    "h3 = PlotTools.createRatio(histogram_w, histogram_t, \"Weighted/Triggered\")\n",
    "pad2.cd()\n",
    "h3.GetYaxis().SetRangeUser(0.2,1.8)\n",
    "h3.Draw(\"ep\")\n",
    "line.Draw(\"same\")"
   ]
  },
  {
   "cell_type": "code",
   "execution_count": 23,
   "metadata": {},
   "outputs": [
    {
     "name": "stderr",
     "output_type": "stream",
     "text": [
      "Info in <TCanvas::Print>: png file ../plots/triggerClosure_Quad45.png has been created\n"
     ]
    },
    {
     "data": {
      "text/html": [
       "\n",
       "<div id=\"root_plot_4\"\n",
       "     style=\"width: 796px; height: 772px\">\n",
       "</div>\n",
       "\n",
       "<script>\n",
       " requirejs.config({\n",
       "     paths: {\n",
       "       'JSRootCore' : 'https://root.cern.ch/js/notebook//scripts/JSRootCore',\n",
       "     }\n",
       "   });\n",
       " require(['JSRootCore'],\n",
       "     function(Core) {\n",
       "       var obj = Core.JSONR_unref({\"_typename\":\"TCanvas\",\"fUniqueID\":0,\"fBits\":53673992,\"fLineColor\":1,\"fLineStyle\":1,\"fLineWidth\":1,\"fFillColor\":0,\"fFillStyle\":1001,\"fLeftMargin\":0.1,\"fRightMargin\":0.1,\"fBottomMargin\":0.1,\"fTopMargin\":0.1,\"fXfile\":2,\"fYfile\":2,\"fAfile\":1,\"fXstat\":0.99,\"fYstat\":0.99,\"fAstat\":2,\"fFrameFillColor\":0,\"fFrameLineColor\":1,\"fFrameFillStyle\":1001,\"fFrameLineStyle\":1,\"fFrameLineWidth\":1,\"fFrameBorderSize\":1,\"fFrameBorderMode\":0,\"fX1\":0,\"fY1\":0,\"fX2\":1,\"fY2\":1,\"fXtoAbsPixelk\":5e-5,\"fXtoPixelk\":5e-5,\"fXtoPixel\":796,\"fYtoAbsPixelk\":772.00005,\"fYtoPixelk\":772.00005,\"fYtoPixel\":-772,\"fUtoAbsPixelk\":5e-5,\"fUtoPixelk\":5e-5,\"fUtoPixel\":796,\"fVtoAbsPixelk\":772.00005,\"fVtoPixelk\":772,\"fVtoPixel\":-772,\"fAbsPixeltoXk\":0,\"fPixeltoXk\":0,\"fPixeltoX\":0.00125628140703518,\"fAbsPixeltoYk\":1,\"fPixeltoYk\":0,\"fPixeltoY\":-0.00129533678756477,\"fXlowNDC\":0,\"fYlowNDC\":0,\"fXUpNDC\":0,\"fYUpNDC\":0,\"fWNDC\":1,\"fHNDC\":1,\"fAbsXlowNDC\":0,\"fAbsYlowNDC\":0,\"fAbsWNDC\":1,\"fAbsHNDC\":1,\"fUxmin\":0,\"fUymin\":0,\"fUxmax\":1,\"fUymax\":1,\"fTheta\":30,\"fPhi\":30,\"fAspectRatio\":0,\"fNumber\":0,\"fTickx\":0,\"fTicky\":0,\"fLogx\":0,\"fLogy\":0,\"fLogz\":0,\"fPadPaint\":0,\"fCrosshair\":0,\"fCrosshairPos\":0,\"fBorderSize\":2,\"fBorderMode\":0,\"fModified\":false,\"fGridx\":false,\"fGridy\":false,\"fAbsCoord\":false,\"fEditable\":true,\"fFixedAspectRatio\":false,\"fPrimitives\":{\"_typename\":\"TList\",\"name\":\"TList\",\"arr\":[{\"_typename\":\"TPad\",\"fUniqueID\":0,\"fBits\":50331657,\"fLineColor\":1,\"fLineStyle\":1,\"fLineWidth\":1,\"fFillColor\":0,\"fFillStyle\":1001,\"fLeftMargin\":0.1,\"fRightMargin\":0.1,\"fBottomMargin\":0,\"fTopMargin\":0.1,\"fXfile\":2,\"fYfile\":2,\"fAfile\":1,\"fXstat\":0.99,\"fYstat\":0.99,\"fAstat\":2,\"fFrameFillColor\":0,\"fFrameLineColor\":1,\"fFrameFillStyle\":1001,\"fFrameLineStyle\":1,\"fFrameLineWidth\":1,\"fFrameBorderSize\":1,\"fFrameBorderMode\":0,\"fX1\":-150.000011175872,\"fY1\":0,\"fX2\":1350.00001117587,\"fY2\":180.922322471023,\"fXtoAbsPixelk\":79.6000547445299,\"fXtoPixelk\":79.6000547445299,\"fXtoPixel\":0.530666658759117,\"fYtoAbsPixelk\":540.40005,\"fYtoPixelk\":540.40005,\"fYtoPixel\":-2.98691721739616,\"fUtoAbsPixelk\":5e-5,\"fUtoPixelk\":5e-5,\"fUtoPixel\":796,\"fVtoAbsPixelk\":540.40005,\"fVtoPixelk\":540.4,\"fVtoPixel\":-540.4,\"fAbsPixeltoXk\":-150.000011175872,\"fPixeltoXk\":-150.000011175872,\"fPixeltoX\":1.88442213863284,\"fAbsPixeltoYk\":180.922322471023,\"fPixeltoYk\":0,\"fPixeltoY\":-0.334793342840532,\"fXlowNDC\":0,\"fYlowNDC\":0.3,\"fXUpNDC\":0,\"fYUpNDC\":0,\"fWNDC\":1,\"fHNDC\":0.7,\"fAbsXlowNDC\":0,\"fAbsYlowNDC\":0.3,\"fAbsWNDC\":1,\"fAbsHNDC\":0.7,\"fUxmin\":0,\"fUymin\":0,\"fUxmax\":1200,\"fUymax\":162.830089549933,\"fTheta\":30,\"fPhi\":30,\"fAspectRatio\":0,\"fNumber\":0,\"fTickx\":0,\"fTicky\":0,\"fLogx\":0,\"fLogy\":0,\"fLogz\":0,\"fPadPaint\":0,\"fCrosshair\":0,\"fCrosshairPos\":0,\"fBorderSize\":2,\"fBorderMode\":0,\"fModified\":false,\"fGridx\":true,\"fGridy\":true,\"fAbsCoord\":false,\"fEditable\":true,\"fFixedAspectRatio\":false,\"fPrimitives\":{\"_typename\":\"TList\",\"name\":\"TList\",\"arr\":[{\"_typename\":\"TFrame\",\"fUniqueID\":0,\"fBits\":50331656,\"fLineColor\":1,\"fLineStyle\":1,\"fLineWidth\":1,\"fFillColor\":0,\"fFillStyle\":1001,\"fX1\":0,\"fY1\":0,\"fX2\":1200,\"fY2\":162.830089549933,\"fBorderSize\":1,\"fBorderMode\":0},{\"_typename\":\"TH1D\",\"fUniqueID\":0,\"fBits\":50332168,\"fName\":\"weightmjjc1\",\"fTitle\":\"\",\"fLineColor\":632,\"fLineStyle\":1,\"fLineWidth\":1,\"fFillColor\":0,\"fFillStyle\":1001,\"fMarkerColor\":632,\"fMarkerStyle\":20,\"fMarkerSize\":1,\"fNcells\":122,\"fXaxis\":{\"_typename\":\"TAxis\",\"fUniqueID\":0,\"fBits\":50331656,\"fName\":\"xaxis\",\"fTitle\":\"m_{jj}[GeV]\",\"fNdivisions\":510,\"fAxisColor\":1,\"fLabelColor\":1,\"fLabelFont\":42,\"fLabelOffset\":0.005,\"fLabelSize\":0.02,\"fTickLength\":0.03,\"fTitleOffset\":1.2,\"fTitleSize\":0.03,\"fTitleColor\":1,\"fTitleFont\":42,\"fNbins\":120,\"fXmin\":0,\"fXmax\":1200,\"fXbins\":[],\"fFirst\":0,\"fLast\":0,\"fBits2\":0,\"fTimeDisplay\":false,\"fTimeFormat\":\"\",\"fLabels\":null,\"fModLabs\":null},\"fYaxis\":{\"_typename\":\"TAxis\",\"fUniqueID\":0,\"fBits\":50331656,\"fName\":\"yaxis\",\"fTitle\":\"A.U.\",\"fNdivisions\":510,\"fAxisColor\":1,\"fLabelColor\":1,\"fLabelFont\":42,\"fLabelOffset\":0.005,\"fLabelSize\":0.02,\"fTickLength\":0.03,\"fTitleOffset\":1.2,\"fTitleSize\":0.035,\"fTitleColor\":1,\"fTitleFont\":42,\"fNbins\":1,\"fXmin\":0,\"fXmax\":1,\"fXbins\":[],\"fFirst\":0,\"fLast\":0,\"fBits2\":0,\"fTimeDisplay\":false,\"fTimeFormat\":\"\",\"fLabels\":null,\"fModLabs\":null},\"fZaxis\":{\"_typename\":\"TAxis\",\"fUniqueID\":0,\"fBits\":50331648,\"fName\":\"zaxis\",\"fTitle\":\"\",\"fNdivisions\":510,\"fAxisColor\":1,\"fLabelColor\":1,\"fLabelFont\":42,\"fLabelOffset\":0.005,\"fLabelSize\":0.035,\"fTickLength\":0.03,\"fTitleOffset\":1,\"fTitleSize\":0.035,\"fTitleColor\":1,\"fTitleFont\":42,\"fNbins\":1,\"fXmin\":0,\"fXmax\":1,\"fXbins\":[],\"fFirst\":0,\"fLast\":0,\"fBits2\":0,\"fTimeDisplay\":false,\"fTimeFormat\":\"\",\"fLabels\":null,\"fModLabs\":null},\"fBarOffset\":0,\"fBarWidth\":1000,\"fEntries\":32445,\"fTsumw\":4373.90545452169,\"fTsumw2\":1967.04183004329,\"fTsumwx\":1394643.58075979,\"fTsumwx2\":584722518.065257,\"fMaximum\":-1111,\"fMinimum\":-1111,\"fNormFactor\":0,\"fContour\":[],\"fSumw2\":[0,0,0,2.93562147178334e-4,0.4424313389225,2.84100264053772,5.02331179352064,8.03782824602844,10.2472953657802,20.4293340804507,23.360351531139,20.8830841368616,35.4284797502931,29.0176523806853,39.9538752386564,43.9486759011526,44.0866301191775,48.1840151637094,50.264792902446,54.165551689875,56.665380733386,54.3691875873975,55.7340292259275,61.3753619227884,53.5409050264613,60.4758533971333,57.6480863338005,58.2423767287072,57.7129965592712,51.9626814696497,51.7944297744779,48.8382317931346,53.8408129493903,37.3073297054426,41.6953820906487,44.6771041421987,45.7192981828445,40.1235590894449,33.4619235259707,31.8525024463346,22.4124556676419,27.2417191435129,29.9001870741735,23.7517095313154,26.8902648096176,19.7391390471549,21.9855428860099,18.6943863054264,16.542934294704,14.4423613357986,20.7304625067782,18.2765627195883,13.5407363493956,12.5075417771701,11.526634880372,14.0252965819093,9.39110366715486,13.1258761675863,12.0356875582621,14.9037268966741,10.3970444788174,8.40575667834321,5.18370190348432,8.60538777660522,8.98785967231808,5.12362384374358,8.59382499842628,3.09638478801538,4.33279540551146,4.97731032772983,7.08878354461816,4.28619309121813,4.34128562260143,3.21870674974044,3.51349734837992,4.86695451930327,5.67556751875873,4.64661571244419,4.67230188861857,3.27184986479334,2.32551211170016,2.65172663243746,1.75166095162465,2.42519125802238,0.786482733311647,1.30222990521516,2.67294678337931,3.3460358360532,0.940590526072126,2.78479326044235,2.9568632920738,0.773295187247947,0.941956129679536,3.3951743206211,2.88894191609533,1.30907374018213,1.15107307410543,2.98680915608148,1.04040229096371,0.96414876614331,1.02816163910827,1.19920169675456,1.56716790312376,1.07216393995615,1.9298802165131,1.20839926456894,0.666243403309376,0.795971407870785,0.446073637329468,0.269983679682334,1.06403497013145,0.793347944967323,0.770510867622314,1.28687590709525,0.985587464813869,0.541139747110733,1.311023027656,0.50068938183786,0.460260269201328,0.858896019425461,0.589496324245797,14.6947733744794],\"fOption\":\"\",\"fFunctions\":{\"_typename\":\"TList\",\"name\":\"TList\",\"arr\":[],\"opt\":[]},\"fBufferSize\":0,\"fBuffer\":[],\"fBinStatErrOpt\":0,\"fStatOverflows\":2,\"fArray\":[0,0,0,0.017133655394525,1.2478046242068,6.78709078398216,10.8344893071849,18.4533853226547,26.1536461703354,41.4260531744282,45.4692883045731,47.1443242241786,76.219672645939,70.3645686321556,87.8610371944786,102.850411748046,106.63988555114,116.522160955489,124.29690190885,126.712241582441,133.387754109688,132.365613712315,134.341574916889,147.242032855038,128.229437235387,140.220072208033,133.273823736016,130.248231181131,127.181043787817,114.40967958437,116.522669578236,112.273965940447,116.602194204839,87.7897486053951,88.4928192987369,95.5883022015882,97.08237704971,88.3709453619245,73.208286018828,72.4216371248688,54.9730625975764,57.0692873159227,61.9011747070544,49.1968230045962,55.238811941204,44.4785889443481,43.610118447253,38.5905417452271,36.2208905169608,31.4951223878121,38.6348028584608,35.639690435812,28.8686171542734,26.5835152690194,23.2074102801561,28.4924557016808,21.0409979630804,26.4448685520088,22.0033397589411,28.3084960811427,19.9947309026313,16.8687317753382,12.4000409764825,14.8460445355705,18.8481739757393,11.0436777206625,16.3675152275321,6.76315307438773,9.73396905311797,10.5662750843562,14.2159087121096,8.59460348860028,9.56593955573519,6.95914517995376,8.86216808284415,9.60482956224749,10.4450985449102,8.1364544277461,9.08415628313459,5.36497010435003,4.21415500870489,5.49011174813256,4.53225949950227,5.06932138246087,2.22243500912691,2.86302832901087,5.47958752141086,6.69045054073262,1.86416512059369,4.95994399613234,5.285432245406,2.10972270203404,2.29719309021751,6.39350001919997,5.57146722771687,3.19787734470089,2.26002057236438,4.58079078821754,2.00288627916547,1.47541797464438,2.05398401104807,2.50817232278038,3.49520269386838,1.6961038961039,3.6085935077788,1.90343375145822,1.68531689703376,2.06626364148976,0.944297082228117,0.930417359509893,1.73463239128605,1.52729247285858,1.70110576889883,2.24093159819411,1.5869743600836,0.920373266808314,1.97792348710317,1.02811424067636,0.85964035964036,1.28031789638932,1.08009069025903,28.395441570391]},{\"_typename\":\"TH1D\",\"fUniqueID\":0,\"fBits\":50331656,\"fName\":\"trigmjjc1\",\"fTitle\":\"Triggered Events vs mjj in 2T\",\"fLineColor\":1,\"fLineStyle\":1,\"fLineWidth\":1,\"fFillColor\":0,\"fFillStyle\":1001,\"fMarkerColor\":1,\"fMarkerStyle\":1,\"fMarkerSize\":1,\"fNcells\":122,\"fXaxis\":{\"_typename\":\"TAxis\",\"fUniqueID\":0,\"fBits\":50331648,\"fName\":\"xaxis\",\"fTitle\":\"\",\"fNdivisions\":510,\"fAxisColor\":1,\"fLabelColor\":1,\"fLabelFont\":42,\"fLabelOffset\":0.005,\"fLabelSize\":0.035,\"fTickLength\":0.03,\"fTitleOffset\":1,\"fTitleSize\":0.035,\"fTitleColor\":1,\"fTitleFont\":42,\"fNbins\":120,\"fXmin\":0,\"fXmax\":1200,\"fXbins\":[],\"fFirst\":0,\"fLast\":0,\"fBits2\":0,\"fTimeDisplay\":false,\"fTimeFormat\":\"\",\"fLabels\":null,\"fModLabs\":null},\"fYaxis\":{\"_typename\":\"TAxis\",\"fUniqueID\":0,\"fBits\":50331648,\"fName\":\"yaxis\",\"fTitle\":\"\",\"fNdivisions\":510,\"fAxisColor\":1,\"fLabelColor\":1,\"fLabelFont\":42,\"fLabelOffset\":0.005,\"fLabelSize\":0.035,\"fTickLength\":0.03,\"fTitleOffset\":0,\"fTitleSize\":0.035,\"fTitleColor\":1,\"fTitleFont\":42,\"fNbins\":1,\"fXmin\":0,\"fXmax\":1,\"fXbins\":[],\"fFirst\":0,\"fLast\":0,\"fBits2\":0,\"fTimeDisplay\":false,\"fTimeFormat\":\"\",\"fLabels\":null,\"fModLabs\":null},\"fZaxis\":{\"_typename\":\"TAxis\",\"fUniqueID\":0,\"fBits\":50331648,\"fName\":\"zaxis\",\"fTitle\":\"\",\"fNdivisions\":510,\"fAxisColor\":1,\"fLabelColor\":1,\"fLabelFont\":42,\"fLabelOffset\":0.005,\"fLabelSize\":0.035,\"fTickLength\":0.03,\"fTitleOffset\":1,\"fTitleSize\":0.035,\"fTitleColor\":1,\"fTitleFont\":42,\"fNbins\":1,\"fXmin\":0,\"fXmax\":1,\"fXbins\":[],\"fFirst\":0,\"fLast\":0,\"fBits2\":0,\"fTimeDisplay\":false,\"fTimeFormat\":\"\",\"fLabels\":null,\"fModLabs\":null},\"fBarOffset\":0,\"fBarWidth\":1000,\"fEntries\":4605,\"fTsumw\":4577,\"fTsumw2\":4577,\"fTsumwx\":1493374.9072218,\"fTsumwx2\":641869154.404083,\"fMaximum\":-1111,\"fMinimum\":-1111,\"fNormFactor\":0,\"fContour\":[],\"fSumw2\":[],\"fOption\":\"\",\"fFunctions\":{\"_typename\":\"TList\",\"name\":\"TList\",\"arr\":[],\"opt\":[]},\"fBufferSize\":0,\"fBuffer\":[],\"fBinStatErrOpt\":0,\"fStatOverflows\":2,\"fArray\":[0,0,0,0,1,6,14,20,23,40,51,48,75,75,90,90,101,103,138,126,128,138,126,155,130,147,144,132,132,124,128,112,122,89,107,100,100,99,85,73,55,68,74,50,57,43,46,44,34,29,42,49,31,31,28,25,21,24,29,37,24,16,17,17,21,12,16,8,13,8,13,6,9,8,12,6,12,12,11,4,5,8,5,5,3,5,7,6,3,4,8,2,4,8,7,4,4,5,3,2,4,2,6,2,6,1,2,1,1,1,2,3,1,3,2,1,3,1,1,1,1,28]},{\"_typename\":\"TLegend\",\"fUniqueID\":0,\"fBits\":50331656,\"fLineColor\":1,\"fLineStyle\":1,\"fLineWidth\":1,\"fFillColor\":0,\"fFillStyle\":0,\"fX1\":795.000002905727,\"fY1\":113.981063156745,\"fX2\":1305.00001050532,\"fY2\":166.448536673341,\"fX1NDC\":0.63,\"fY1NDC\":0.63,\"fX2NDC\":0.97,\"fY2NDC\":0.92,\"fBorderSize\":0,\"fInit\":1,\"fShadowColor\":1,\"fCornerRadius\":0,\"fOption\":\"brNDC\",\"fName\":\"TPave\",\"fTextAngle\":0,\"fTextSize\":0.035,\"fTextAlign\":12,\"fTextColor\":1,\"fTextFont\":42,\"fPrimitives\":{\"_typename\":\"TList\",\"name\":\"TList\",\"arr\":[{\"_typename\":\"TLegendEntry\",\"fUniqueID\":0,\"fBits\":50331656,\"fTextAngle\":0,\"fTextSize\":0,\"fTextAlign\":0,\"fTextColor\":0,\"fTextFont\":42,\"fLineColor\":632,\"fLineStyle\":1,\"fLineWidth\":1,\"fFillColor\":0,\"fFillStyle\":0,\"fMarkerColor\":632,\"fMarkerStyle\":20,\"fMarkerSize\":1,\"fObject\":{\"$ref\":5},\"fLabel\":\"Weighted\",\"fOption\":\"APL\"},{\"_typename\":\"TLegendEntry\",\"fUniqueID\":0,\"fBits\":50331656,\"fTextAngle\":0,\"fTextSize\":0,\"fTextAlign\":0,\"fTextColor\":0,\"fTextFont\":42,\"fLineColor\":1,\"fLineStyle\":1,\"fLineWidth\":1,\"fFillColor\":0,\"fFillStyle\":0,\"fMarkerColor\":1,\"fMarkerStyle\":1,\"fMarkerSize\":1,\"fObject\":{\"$ref\":10},\"fLabel\":\"Triggered\",\"fOption\":\"APL\"}],\"opt\":[\"APL\",\"APL\"]},\"fEntrySeparation\":0.1,\"fMargin\":0.25,\"fNColumns\":1,\"fColumnSeparation\":0}],\"opt\":[\"\",\"\",\"same\",\"same\"]},\"fExecs\":{\"_typename\":\"TList\",\"name\":\"TList\",\"arr\":[],\"opt\":[]},\"fName\":\"pad1\",\"fTitle\":\"pad1\",\"fNumPaletteColor\":0,\"fNextPaletteColor\":0},{\"_typename\":\"TPad\",\"fUniqueID\":0,\"fBits\":50331657,\"fLineColor\":1,\"fLineStyle\":1,\"fLineWidth\":1,\"fFillColor\":0,\"fFillStyle\":1001,\"fLeftMargin\":0.1,\"fRightMargin\":0.1,\"fBottomMargin\":0.2,\"fTopMargin\":0,\"fXfile\":2,\"fYfile\":2,\"fAfile\":1,\"fXstat\":0.99,\"fYstat\":0.99,\"fAstat\":2,\"fFrameFillColor\":0,\"fFrameLineColor\":1,\"fFrameFillStyle\":1001,\"fFrameLineStyle\":1,\"fFrameLineWidth\":1,\"fFrameBorderSize\":1,\"fFrameBorderMode\":0,\"fX1\":-150.000011175872,\"fY1\":-0.2,\"fX2\":1350.00001117587,\"fY2\":1.8,\"fXtoAbsPixelk\":79.6000547445299,\"fXtoPixelk\":79.6000547445299,\"fXtoPixel\":0.530666658759117,\"fYtoAbsPixelk\":714.10005,\"fYtoPixelk\":173.70005,\"fYtoPixel\":-96.5,\"fUtoAbsPixelk\":5e-5,\"fUtoPixelk\":5e-5,\"fUtoPixel\":796,\"fVtoAbsPixelk\":733.40005,\"fVtoPixelk\":193,\"fVtoPixel\":-193,\"fAbsPixeltoXk\":-150.000011175872,\"fPixeltoXk\":-150.000011175872,\"fPixeltoX\":1.88442213863284,\"fAbsPixeltoYk\":7.4,\"fPixeltoYk\":-0.2,\"fPixeltoY\":-0.0103626943005181,\"fXlowNDC\":0,\"fYlowNDC\":0.05,\"fXUpNDC\":0,\"fYUpNDC\":0,\"fWNDC\":1,\"fHNDC\":0.25,\"fAbsXlowNDC\":0,\"fAbsYlowNDC\":0.05,\"fAbsWNDC\":1,\"fAbsHNDC\":0.25,\"fUxmin\":0,\"fUymin\":0.2,\"fUxmax\":1200,\"fUymax\":1.8,\"fTheta\":30,\"fPhi\":30,\"fAspectRatio\":0,\"fNumber\":0,\"fTickx\":0,\"fTicky\":0,\"fLogx\":0,\"fLogy\":0,\"fLogz\":0,\"fPadPaint\":0,\"fCrosshair\":0,\"fCrosshairPos\":0,\"fBorderSize\":2,\"fBorderMode\":0,\"fModified\":false,\"fGridx\":true,\"fGridy\":false,\"fAbsCoord\":false,\"fEditable\":true,\"fFixedAspectRatio\":false,\"fPrimitives\":{\"_typename\":\"TList\",\"name\":\"TList\",\"arr\":[{\"_typename\":\"TFrame\",\"fUniqueID\":0,\"fBits\":50331656,\"fLineColor\":1,\"fLineStyle\":1,\"fLineWidth\":1,\"fFillColor\":0,\"fFillStyle\":1001,\"fX1\":0,\"fY1\":0.2,\"fX2\":1200,\"fY2\":1.8,\"fBorderSize\":1,\"fBorderMode\":0},{\"_typename\":\"TH1D\",\"fUniqueID\":0,\"fBits\":50332168,\"fName\":\"h3\",\"fTitle\":\"\",\"fLineColor\":1,\"fLineStyle\":1,\"fLineWidth\":1,\"fFillColor\":0,\"fFillStyle\":1001,\"fMarkerColor\":1,\"fMarkerStyle\":21,\"fMarkerSize\":1,\"fNcells\":122,\"fXaxis\":{\"_typename\":\"TAxis\",\"fUniqueID\":0,\"fBits\":50331656,\"fName\":\"xaxis\",\"fTitle\":\"m_{jj}[GeV]\",\"fNdivisions\":510,\"fAxisColor\":1,\"fLabelColor\":1,\"fLabelFont\":43,\"fLabelOffset\":0.005,\"fLabelSize\":15,\"fTickLength\":0.03,\"fTitleOffset\":4,\"fTitleSize\":20,\"fTitleColor\":1,\"fTitleFont\":43,\"fNbins\":120,\"fXmin\":0,\"fXmax\":1200,\"fXbins\":[],\"fFirst\":0,\"fLast\":0,\"fBits2\":0,\"fTimeDisplay\":false,\"fTimeFormat\":\"\",\"fLabels\":null,\"fModLabs\":null},\"fYaxis\":{\"_typename\":\"TAxis\",\"fUniqueID\":0,\"fBits\":50331656,\"fName\":\"yaxis\",\"fTitle\":\"Weighted\\/Triggered\",\"fNdivisions\":505,\"fAxisColor\":1,\"fLabelColor\":1,\"fLabelFont\":43,\"fLabelOffset\":0.005,\"fLabelSize\":15,\"fTickLength\":0.03,\"fTitleOffset\":1.55,\"fTitleSize\":18,\"fTitleColor\":1,\"fTitleFont\":43,\"fNbins\":1,\"fXmin\":0,\"fXmax\":1,\"fXbins\":[],\"fFirst\":0,\"fLast\":0,\"fBits2\":0,\"fTimeDisplay\":false,\"fTimeFormat\":\"\",\"fLabels\":null,\"fModLabs\":null},\"fZaxis\":{\"_typename\":\"TAxis\",\"fUniqueID\":0,\"fBits\":50331648,\"fName\":\"zaxis\",\"fTitle\":\"\",\"fNdivisions\":510,\"fAxisColor\":1,\"fLabelColor\":1,\"fLabelFont\":42,\"fLabelOffset\":0.005,\"fLabelSize\":0.035,\"fTickLength\":0.03,\"fTitleOffset\":1,\"fTitleSize\":0.035,\"fTitleColor\":1,\"fTitleFont\":42,\"fNbins\":1,\"fXmin\":0,\"fXmax\":1,\"fXbins\":[],\"fFirst\":0,\"fLast\":0,\"fBits2\":0,\"fTimeDisplay\":false,\"fTimeFormat\":\"\",\"fLabels\":null,\"fModLabs\":null},\"fBarOffset\":0,\"fBarWidth\":1000,\"fEntries\":296.40333685662,\"fTsumw\":110.856027835669,\"fTsumw2\":41.4605956796204,\"fTsumwx\":67352.8916247446,\"fTsumwx2\":53917697.9245625,\"fMaximum\":1.8,\"fMinimum\":0.2,\"fNormFactor\":0,\"fContour\":[],\"fSumw2\":[0,0,0,0,1.99944771911438,0.29217878311686,0.0684083541023298,0.0626604993483672,0.0755897921768753,0.0395826757004466,0.0245669773089722,0.0291610183840045,0.0200689172848026,0.0168948063936966,0.0155218252789693,0.0199363347432733,0.015359409369104,0.0169670627298483,0.00851813087490594,0.0114382754441021,0.0119426067735195,0.00952165830331082,0.0125327170660001,0.00837659624378271,0.01065230142337,0.00898832437209005,0.00872852517806054,0.0107186688919162,0.0103449845583862,0.0102447820256299,0.009635553139101,0.0128656595845679,0.0111048121170982,0.0156423790322452,0.0100342477375393,0.013604833932002,0.0139969177519065,0.0121422946267236,0.0133583824816154,0.0194596282487105,0.0255730889441163,0.0162494289910258,0.0149161186741212,0.0288633029624907,0.0247529411955306,0.0355582257349409,0.0299290848580165,0.0271386986949295,0.0476901250728067,0.0578445698044784,0.0318989231346076,0.0184084786748747,0.0420650492843904,0.0367365002568044,0.0392369564760344,0.0743969565734384,0.0691001805736536,0.0733761646958257,0.0341622001614252,0.0267073785472334,0.0469703654051113,0.102306205703564,0.0492334517764458,0.0746380277945106,0.0587408179827682,0.106161055395127,0.0989738170650188,0.137717417601022,0.0687649038683238,0.295829398008057,0.133930926987287,0.461038739229485,0.179120398062266,0.14488155397187,0.0698495320076045,0.562289250165014,0.102550285785873,0.0705794439838654,0.100613986589946,0.654223494995984,0.235093303967147,0.100303007942349,0.234397447431615,0.302591804550295,0.270320947026958,0.117664645910357,0.142088941365763,0.300177515992169,0.233217895372388,0.558440898227167,0.100763086635484,0.749690031746716,0.141326884569707,0.132887181758748,0.149457260881022,0.241604913632496,0.151749770061436,0.287341520206609,0.26417630815409,0.513144466523794,0.130179638657409,1.08616647428383,0.100090043009108,0.627637038286389,0.113894575941953,4.83145931075924,0.521597481255781,5.06541684401332,1.337770616834,1.1356601425597,0.642127434145206,0.174543190094535,3.6642717046032,0.328977857372984,0.561207818648813,1.38822669736614,0.290564829770459,1.5577082737194,1.19924181712393,2.49810993524025,1.75609222343003,0.0554735220691925],\"fOption\":\"\",\"fFunctions\":{\"_typename\":\"TList\",\"name\":\"TList\",\"arr\":[],\"opt\":[]},\"fBufferSize\":0,\"fBuffer\":[],\"fBinStatErrOpt\":0,\"fStatOverflows\":2,\"fArray\":[0,0,0,0,1.2478046242068,1.13118179733036,0.77389209337035,0.922669266132736,1.13711505088415,1.03565132936071,0.891554672638688,0.982173421337054,1.01626230194585,0.938194248428741,0.976233746605318,1.14278235275606,1.05584045100139,1.13128311607271,0.900702187745289,1.00565271097175,1.04209182898194,0.959171113857356,1.06620297553087,0.949948599064762,0.986380286426052,0.953878042231517,0.925512664833444,0.986729024099475,0.963492755968313,0.922658706325561,0.910333356079969,1.00244612446828,0.955755690203595,0.98640166972354,0.827035694380719,0.955883022015882,0.9708237704971,0.892635811736611,0.861273953162682,0.992077220888613,0.999510229046843,0.839254225234157,0.83650236090614,0.983936460091925,0.969101963880772,1.03438578940344,0.948046053201152,0.877057766936979,1.06532030932238,1.086038703028,0.91987625853478,0.72734062113902,0.931245714653981,0.85753275061353,0.828836081434145,1.13969822806723,1.00195228395621,1.10186952300037,0.758735853756589,0.765094488679532,0.833113787609638,1.05429573595864,0.729414175087205,0.873296737386498,0.897532094082825,0.920306476721872,1.02296970172076,0.845394134298466,0.748766850239844,1.32078438554452,1.09353143939304,1.43243391476671,1.06288217285947,0.869893147494221,0.738514006903679,1.60080492704125,0.870424878742514,0.678037868978842,0.825832389375872,1.34124252608751,0.842831001740979,0.68626396851657,0.906451899900454,1.01386427649217,0.74081166970897,0.572605665802174,0.782798217344409,1.1150750901221,0.621388373531231,1.23998599903309,0.660679030675751,1.05486135101702,0.574298272554378,0.799187502399996,0.795923889673839,0.799469336175223,0.565005143091094,0.916158157643508,0.667628759721823,0.737708987322191,0.513496002762017,1.25408616139019,0.582533782311396,0.848051948051948,0.601432251296467,1.90343375145822,0.84265844851688,2.06626364148976,0.944297082228117,0.930417359509893,0.867316195643024,0.509097490952861,1.70110576889883,0.746977199398037,0.793487180041802,0.920373266808314,0.659307829034392,1.02811424067636,0.85964035964036,1.28031789638932,1.08009069025903,1.01412291322825]},{\"_typename\":\"TLine\",\"fUniqueID\":0,\"fBits\":50331656,\"fLineColor\":1,\"fLineStyle\":2,\"fLineWidth\":1,\"fX1\":0,\"fY1\":1,\"fX2\":1200,\"fY2\":1}],\"opt\":[\"\",\"ep\",\"same\"]},\"fExecs\":{\"_typename\":\"TList\",\"name\":\"TList\",\"arr\":[],\"opt\":[]},\"fName\":\"pad2\",\"fTitle\":\"pad2\",\"fNumPaletteColor\":0,\"fNextPaletteColor\":0}],\"opt\":[\"\",\"\"]},\"fExecs\":null,\"fName\":\"c\",\"fTitle\":\"canvas\",\"fNumPaletteColor\":0,\"fNextPaletteColor\":0,\"fDISPLAY\":\"$DISPLAY\",\"fDoubleBuffer\":0,\"fRetained\":true,\"fXsizeUser\":0,\"fYsizeUser\":0,\"fXsizeReal\":20,\"fYsizeReal\":20,\"fWindowTopX\":0,\"fWindowTopY\":0,\"fWindowWidth\":0,\"fWindowHeight\":0,\"fCw\":796,\"fCh\":772,\"fCatt\":{\"_typename\":\"TAttCanvas\",\"fXBetween\":2,\"fYBetween\":2,\"fTitleFromTop\":1.2,\"fXdate\":0.2,\"fYdate\":0.3,\"fAdate\":1},\"kMoveOpaque\":true,\"kResizeOpaque\":true,\"fHighLightColor\":2,\"fBatch\":true,\"kShowEventStatus\":false,\"kAutoExec\":true,\"kMenuBar\":true});\n",
       "       Core.draw(\"root_plot_4\", obj, \"\");\n",
       "     }\n",
       " );\n",
       "</script>\n"
      ],
      "text/plain": [
       "<IPython.core.display.HTML object>"
      ]
     },
     "metadata": {},
     "output_type": "display_data"
    }
   ],
   "source": [
    "canvas.Draw()\n",
    "#canvas.SaveAs('../plots/triggerClosure_Di90Di30.png')\n",
    "canvas.SaveAs('../plots/triggerClosure_Quad45.png')"
   ]
  },
  {
   "cell_type": "code",
   "execution_count": null,
   "metadata": {},
   "outputs": [],
   "source": []
  }
 ],
 "metadata": {
  "kernelspec": {
   "display_name": "Python 3",
   "language": "python",
   "name": "python3"
  },
  "language_info": {
   "codemirror_mode": {
    "name": "ipython",
    "version": 3
   },
   "file_extension": ".py",
   "mimetype": "text/x-python",
   "name": "python",
   "nbconvert_exporter": "python",
   "pygments_lexer": "ipython3",
   "version": "3.7.4"
  }
 },
 "nbformat": 4,
 "nbformat_minor": 2
}
