{
 "cells": [
  {
   "cell_type": "code",
   "execution_count": 1,
   "metadata": {},
   "outputs": [
    {
     "name": "stdout",
     "output_type": "stream",
     "text": [
      "Welcome to JupyROOT 6.18/00\n"
     ]
    }
   ],
   "source": [
    "import ROOT"
   ]
  },
  {
   "cell_type": "code",
   "execution_count": 2,
   "metadata": {},
   "outputs": [
    {
     "name": "stdout",
     "output_type": "stream",
     "text": [
      "[0.11558942879518871, 0.9070290394145712, 0.9247722352766873, 0.9527936173843209, 0.9626577162708928, 0.8803293349105478, 0.9650424761239432, 0.8654268205428176]\n"
     ]
    }
   ],
   "source": [
    "bins = ['100to200', '200to300', '300to500', '500to700', '700to1000', '1000to1500', '1500to2000', '2000toInf']\n",
    "names = ['mjjsr','mjjcr0p','mjjcr1','mjjcr1p','mjjcr2','mjjcr2p','mjjcr3','mjjcr3p']\n",
    "events = [9512256,16981775,15754319,17684365,15045621,4270254,3832009,1723623]\n",
    "xsec = [28060000,1710000,347500,32060,6829,1207,120,25.25]\n",
    "real_ev = [82293477,18722416,17035891,18560541,15629253,4850746,3970819,1991645]\n",
    "weight = [x/y for x, y in zip(xsec, real_ev)]\n",
    "ev_weight = [x/y for x, y in zip(events, real_ev)]\n",
    "lumi = 35.9\n",
    "print(ev_weight)"
   ]
  },
  {
   "cell_type": "code",
   "execution_count": 3,
   "metadata": {},
   "outputs": [],
   "source": [
    "file0 = ROOT.TFile.Open('../data/MC/mjj_DenisSel_QCD_HT200to300.root','read')\n",
    "myfile = ROOT.TFile( '../data/MC/mjj_QCDHT200toInf_cr1.root', 'RECREATE' )\n",
    "\n",
    "#for n in range(0, len(names)):\n",
    "for n in range(2, 3):\n",
    "    histo = file0.Get(names[n])\n",
    "    histo.Scale(ev_weight[1]*weight[1]*lumi*1000)\n",
    "    for f in range(2,len(bins)):\n",
    "        filename = '../data/MC/mjj_DenisSel_QCD_HT%s.root' %bins[f]\n",
    "        file = ROOT.TFile.Open(filename, 'read')\n",
    "        hq = file.Get(names[n])\n",
    "        hq.Scale(ev_weight[f]*weight[f]*lumi*1000)\n",
    "        histo.Add(hq)\n",
    "        hq.Delete()\n",
    "    myfile.cd()\n",
    "    histo.Write()\n",
    "    histo.Delete()\n",
    "myfile.Close()"
   ]
  },
  {
   "cell_type": "code",
   "execution_count": null,
   "metadata": {},
   "outputs": [],
   "source": [
    "ct = ROOT.TCanvas('','',500,500)\n",
    "hqt2.Draw()\n",
    "ct.Draw()"
   ]
  },
  {
   "cell_type": "code",
   "execution_count": null,
   "metadata": {},
   "outputs": [],
   "source": [
    "hqt2.Delete()"
   ]
  },
  {
   "cell_type": "code",
   "execution_count": null,
   "metadata": {},
   "outputs": [],
   "source": []
  }
 ],
 "metadata": {
  "kernelspec": {
   "display_name": "Python 3",
   "language": "python",
   "name": "python3"
  },
  "language_info": {
   "codemirror_mode": {
    "name": "ipython",
    "version": 3
   },
   "file_extension": ".py",
   "mimetype": "text/x-python",
   "name": "python",
   "nbconvert_exporter": "python",
   "pygments_lexer": "ipython3",
   "version": "3.7.4"
  }
 },
 "nbformat": 4,
 "nbformat_minor": 2
}
