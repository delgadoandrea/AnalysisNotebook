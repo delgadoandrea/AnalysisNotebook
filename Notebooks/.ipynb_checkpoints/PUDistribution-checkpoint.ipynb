{
 "cells": [
  {
   "cell_type": "code",
   "execution_count": 1,
   "metadata": {},
   "outputs": [
    {
     "ename": "ModuleNotFoundError",
     "evalue": "No module named 'ROOT'",
     "output_type": "error",
     "traceback": [
      "\u001b[0;31m---------------------------------------------------------------------------\u001b[0m",
      "\u001b[0;31mModuleNotFoundError\u001b[0m                       Traceback (most recent call last)",
      "\u001b[0;32m<ipython-input-1-53fde3029ad5>\u001b[0m in \u001b[0;36m<module>\u001b[0;34m\u001b[0m\n\u001b[0;32m----> 1\u001b[0;31m \u001b[0;32mimport\u001b[0m \u001b[0mROOT\u001b[0m\u001b[0;34m\u001b[0m\u001b[0;34m\u001b[0m\u001b[0m\n\u001b[0m\u001b[1;32m      2\u001b[0m \u001b[0;32mimport\u001b[0m \u001b[0mPlotTools\u001b[0m\u001b[0;34m\u001b[0m\u001b[0;34m\u001b[0m\u001b[0m\n\u001b[1;32m      3\u001b[0m \u001b[0;32mfrom\u001b[0m \u001b[0mROOT\u001b[0m \u001b[0;32mimport\u001b[0m \u001b[0mTFile\u001b[0m\u001b[0;34m,\u001b[0m \u001b[0mTCanvas\u001b[0m\u001b[0;34m,\u001b[0m \u001b[0mkRed\u001b[0m\u001b[0;34m\u001b[0m\u001b[0;34m\u001b[0m\u001b[0m\n\u001b[1;32m      4\u001b[0m \u001b[0mROOT\u001b[0m\u001b[0;34m.\u001b[0m\u001b[0menableJSVis\u001b[0m\u001b[0;34m(\u001b[0m\u001b[0;34m)\u001b[0m\u001b[0;34m\u001b[0m\u001b[0;34m\u001b[0m\u001b[0m\n",
      "\u001b[0;31mModuleNotFoundError\u001b[0m: No module named 'ROOT'"
     ]
    }
   ],
   "source": [
    "import ROOT\n",
    "import PlotTools\n",
    "from ROOT import TFile, TCanvas, kRed\n",
    "ROOT.enableJSVis()"
   ]
  },
  {
   "cell_type": "code",
   "execution_count": 2,
   "metadata": {},
   "outputs": [],
   "source": [
    "names = ['HT50to100','HT100to200','HT200to300', 'HT300to500','HT500to700', 'HT700to1000','HT1000to1500','HT1500to2000', 'HT2000toInf' ]"
   ]
  },
  {
   "cell_type": "code",
   "execution_count": 3,
   "metadata": {},
   "outputs": [
    {
     "ename": "NameError",
     "evalue": "name 'TFile' is not defined",
     "output_type": "error",
     "traceback": [
      "\u001b[0;31m---------------------------------------------------------------------------\u001b[0m",
      "\u001b[0;31mNameError\u001b[0m                                 Traceback (most recent call last)",
      "\u001b[0;32m<ipython-input-3-7b837733a670>\u001b[0m in \u001b[0;36m<module>\u001b[0;34m\u001b[0m\n\u001b[0;32m----> 1\u001b[0;31m \u001b[0mf1\u001b[0m \u001b[0;34m=\u001b[0m \u001b[0mTFile\u001b[0m\u001b[0;34m(\u001b[0m\u001b[0;34m'../data/MyDataPileupHistogram_DoubleJet90.root'\u001b[0m\u001b[0;34m,\u001b[0m\u001b[0;34m'read'\u001b[0m\u001b[0;34m)\u001b[0m\u001b[0;34m\u001b[0m\u001b[0;34m\u001b[0m\u001b[0m\n\u001b[0m\u001b[1;32m      2\u001b[0m \u001b[0mf2\u001b[0m \u001b[0;34m=\u001b[0m \u001b[0mTFile\u001b[0m\u001b[0;34m(\u001b[0m\u001b[0;34m'../data/MyDataPileupHistogram_QuadJet45.root'\u001b[0m\u001b[0;34m,\u001b[0m\u001b[0;34m'read'\u001b[0m\u001b[0;34m)\u001b[0m\u001b[0;34m\u001b[0m\u001b[0;34m\u001b[0m\u001b[0m\n",
      "\u001b[0;31mNameError\u001b[0m: name 'TFile' is not defined"
     ]
    }
   ],
   "source": [
    "f1 = TFile('../data/MyDataPileupHistogram_DoubleJet90.root','read')\n",
    "f2 = TFile('../data/MyDataPileupHistogram_QuadJet45.root','read')"
   ]
  },
  {
   "cell_type": "code",
   "execution_count": 27,
   "metadata": {},
   "outputs": [],
   "source": [
    "p_Di90 = f1.Get('pileup')\n",
    "p_Qu45 = f2.Get('pileup')"
   ]
  },
  {
   "cell_type": "code",
   "execution_count": 28,
   "metadata": {},
   "outputs": [
    {
     "name": "stderr",
     "output_type": "stream",
     "text": [
      "Warning in <TCanvas::Constructor>: Deleting canvas with same name: \n"
     ]
    }
   ],
   "source": [
    "c = TCanvas(\"\",\"\",700,700)\n",
    "p_Di90.Draw()\n",
    "p_Qu45.SetLineColor(kRed)\n",
    "p_Qu45.Draw(\"same\")"
   ]
  },
  {
   "cell_type": "code",
   "execution_count": 29,
   "metadata": {},
   "outputs": [
    {
     "data": {
      "text/html": [
       "\n",
       "<div id=\"root_plot_2\"\n",
       "     style=\"width: 696px; height: 672px\">\n",
       "</div>\n",
       "\n",
       "<script>\n",
       " requirejs.config({\n",
       "     paths: {\n",
       "       'JSRootCore' : 'https://root.cern.ch/js/notebook//scripts/JSRootCore',\n",
       "     }\n",
       "   });\n",
       " require(['JSRootCore'],\n",
       "     function(Core) {\n",
       "       var obj = Core.JSONR_unref({\"_typename\":\"TCanvas\",\"fUniqueID\":0,\"fBits\":53673992,\"fLineColor\":1,\"fLineStyle\":1,\"fLineWidth\":1,\"fFillColor\":0,\"fFillStyle\":1001,\"fLeftMargin\":0.1,\"fRightMargin\":0.1,\"fBottomMargin\":0.1,\"fTopMargin\":0.1,\"fXfile\":2,\"fYfile\":2,\"fAfile\":1,\"fXstat\":0.99,\"fYstat\":0.99,\"fAstat\":2,\"fFrameFillColor\":0,\"fFrameLineColor\":1,\"fFrameFillStyle\":1001,\"fFrameLineStyle\":1,\"fFrameLineWidth\":1,\"fFrameBorderSize\":1,\"fFrameBorderMode\":0,\"fX1\":-12.5000009313226,\"fY1\":-277796893.786843,\"fX2\":112.500000931323,\"fY2\":2500171878.50174,\"fXtoAbsPixelk\":69.6000541484835,\"fXtoPixelk\":69.6000541484835,\"fXtoPixel\":5.56799991703033,\"fYtoAbsPixelk\":604.800045994568,\"fYtoPixelk\":604.800045994568,\"fYtoPixel\":-2.41903367202499e-7,\"fUtoAbsPixelk\":5e-5,\"fUtoPixelk\":5e-5,\"fUtoPixel\":696,\"fVtoAbsPixelk\":672.00005,\"fVtoPixelk\":672,\"fVtoPixel\":-672,\"fAbsPixeltoXk\":-12.5000009313226,\"fPixeltoXk\":-12.5000009313226,\"fPixeltoX\":0.17959770382564,\"fAbsPixeltoYk\":2500171878.50174,\"fPixeltoYk\":-277796893.786843,\"fPixeltoY\":-4133882.10161992,\"fXlowNDC\":0,\"fYlowNDC\":0,\"fXUpNDC\":0,\"fYUpNDC\":0,\"fWNDC\":1,\"fHNDC\":1,\"fAbsXlowNDC\":0,\"fAbsYlowNDC\":0,\"fAbsWNDC\":1,\"fAbsHNDC\":1,\"fUxmin\":0,\"fUymin\":0,\"fUxmax\":100,\"fUymax\":2222374984.7149,\"fTheta\":30,\"fPhi\":30,\"fAspectRatio\":0,\"fNumber\":0,\"fTickx\":0,\"fTicky\":0,\"fLogx\":0,\"fLogy\":0,\"fLogz\":0,\"fPadPaint\":0,\"fCrosshair\":0,\"fCrosshairPos\":0,\"fBorderSize\":2,\"fBorderMode\":0,\"fModified\":false,\"fGridx\":false,\"fGridy\":false,\"fAbsCoord\":false,\"fEditable\":true,\"fFixedAspectRatio\":false,\"fPrimitives\":{\"_typename\":\"TList\",\"name\":\"TList\",\"arr\":[{\"_typename\":\"TFrame\",\"fUniqueID\":0,\"fBits\":50331656,\"fLineColor\":1,\"fLineStyle\":1,\"fLineWidth\":1,\"fFillColor\":0,\"fFillStyle\":1001,\"fX1\":0,\"fY1\":0,\"fX2\":100,\"fY2\":2222374984.7149,\"fBorderSize\":1,\"fBorderMode\":0},{\"_typename\":\"TH1D\",\"fUniqueID\":0,\"fBits\":50331656,\"fName\":\"pileup\",\"fTitle\":\"pileup\",\"fLineColor\":602,\"fLineStyle\":1,\"fLineWidth\":1,\"fFillColor\":0,\"fFillStyle\":1001,\"fMarkerColor\":1,\"fMarkerStyle\":1,\"fMarkerSize\":1,\"fNcells\":102,\"fXaxis\":{\"_typename\":\"TAxis\",\"fUniqueID\":0,\"fBits\":50331648,\"fName\":\"xaxis\",\"fTitle\":\"\",\"fNdivisions\":510,\"fAxisColor\":1,\"fLabelColor\":1,\"fLabelFont\":42,\"fLabelOffset\":0.005,\"fLabelSize\":0.035,\"fTickLength\":0.03,\"fTitleOffset\":1,\"fTitleSize\":0.035,\"fTitleColor\":1,\"fTitleFont\":42,\"fNbins\":100,\"fXmin\":0,\"fXmax\":100,\"fXbins\":[],\"fFirst\":0,\"fLast\":0,\"fBits2\":0,\"fTimeDisplay\":false,\"fTimeFormat\":\"\",\"fLabels\":null,\"fModLabs\":null},\"fYaxis\":{\"_typename\":\"TAxis\",\"fUniqueID\":0,\"fBits\":50331648,\"fName\":\"yaxis\",\"fTitle\":\"\",\"fNdivisions\":510,\"fAxisColor\":1,\"fLabelColor\":1,\"fLabelFont\":42,\"fLabelOffset\":0.005,\"fLabelSize\":0.035,\"fTickLength\":0.03,\"fTitleOffset\":1,\"fTitleSize\":0.035,\"fTitleColor\":1,\"fTitleFont\":42,\"fNbins\":1,\"fXmin\":0,\"fXmax\":1,\"fXbins\":[],\"fFirst\":0,\"fLast\":0,\"fBits2\":0,\"fTimeDisplay\":false,\"fTimeFormat\":\"\",\"fLabels\":null,\"fModLabs\":null},\"fZaxis\":{\"_typename\":\"TAxis\",\"fUniqueID\":0,\"fBits\":50331648,\"fName\":\"zaxis\",\"fTitle\":\"\",\"fNdivisions\":510,\"fAxisColor\":1,\"fLabelColor\":1,\"fLabelFont\":42,\"fLabelOffset\":0.005,\"fLabelSize\":0.035,\"fTickLength\":0.03,\"fTitleOffset\":1,\"fTitleSize\":0.035,\"fTitleColor\":1,\"fTitleFont\":42,\"fNbins\":1,\"fXmin\":0,\"fXmax\":1,\"fXbins\":[],\"fFirst\":0,\"fLast\":0,\"fBits2\":0,\"fTimeDisplay\":false,\"fTimeFormat\":\"\",\"fLabels\":null,\"fModLabs\":null},\"fBarOffset\":0,\"fBarWidth\":1000,\"fEntries\":23214755,\"fTsumw\":35849255240.8392,\"fTsumw2\":859673300179621,\"fTsumwx\":830028625030.289,\"fTsumwx2\":20706404352184.2,\"fMaximum\":-1111,\"fMinimum\":-1111,\"fNormFactor\":0,\"fContour\":[],\"fSumw2\":[0,843021920.079174,7194888808.03511,30694808876.0709,50917034379.8695,82155876398.2824,124346931077.432,141893388816.08,193270112150.404,492704681030.91,1048848552310.93,2985185216898.15,7688794854387.23,13933165340020.1,20879158655330.1,27920393328705.5,36580479626324.2,43662649036933.1,48013092928409.9,49832919450645.6,49790447981610,50053214011523.5,51513681291841,51430660718655.1,49192365589879.7,46625463024147.8,43844088415002.7,40345219905598.1,36552916986058.6,32866791241891,29276559354245.8,25633470121312.8,21902982578735.1,18230258135522.3,14805097686977.5,11778184946276.8,9219527842214.25,7098505972048.84,5335355781762.57,3867992143247.97,2671520624955.25,1739545174095.27,1059159780117.38,599166475128.39,313342058880.012,150897896960.271,66678412408.5744,26929796598.493,9895143009.15592,3291209905.71852,986996525.882628,267473862.157666,67377193.8248337,17922725.1779814,6970966.52869617,4665488.28171524,4051834.9259064,3711920.24171297,3395722.2847135,3070557.24104981,2739771.96503701,2411595.15962647,2093962.1927892,1793522.24632608,1515377.38166427,1263032.45178637,1038464.79977874,842280.093586471,673926.573923604,531941.03902188,414202.376179356,318172.643961989,241110.937562576,180250.776941417,132936.902010734,96721.6840550107,69424.6120257319,49160.4165436398,34342.4323175951,23667.9507166348,16091.8092625863,10793.5433488976,7142.30381134601,4662.59558579719,3002.84030237924,1907.88233920307,1195.8742533951,739.492294747769,451.123619097783,271.500580496094,161.197649717865,94.4188741664346,54.5595137576466,31.1023420682174,17.4914564767781,9.70439505624263,5.31153323482726,2.86800300848653,1.52773098737755,0.802825359113511,0.41619946237414,0],\"fOption\":\"\",\"fFunctions\":{\"_typename\":\"TList\",\"name\":\"TList\",\"arr\":[{\"_typename\":\"TPaveStats\",\"fUniqueID\":0,\"fBits\":50331657,\"fLineColor\":1,\"fLineStyle\":1,\"fLineWidth\":1,\"fFillColor\":0,\"fFillStyle\":1001,\"fX1\":85.0000025331975,\"fY1\":1875128921.29479,\"fX2\":110.000003278256,\"fY2\":2319603914.92618,\"fX1NDC\":0.780000016093254,\"fY1NDC\":0.775000005960464,\"fX2NDC\":0.980000019073486,\"fY2NDC\":0.935000002384186,\"fBorderSize\":1,\"fInit\":1,\"fShadowColor\":1,\"fCornerRadius\":0,\"fOption\":\"brNDC\",\"fName\":\"stats\",\"fTextAngle\":0,\"fTextSize\":0,\"fTextAlign\":12,\"fTextColor\":1,\"fTextFont\":42,\"fLabel\":\"\",\"fLongest\":24,\"fMargin\":0.05,\"fLines\":{\"_typename\":\"TList\",\"name\":\"TList\",\"arr\":[{\"_typename\":\"TLatex\",\"fUniqueID\":0,\"fBits\":50331648,\"fName\":\"\",\"fTitle\":\"pileup\",\"fTextAngle\":0,\"fTextSize\":0.0368,\"fTextAlign\":0,\"fTextColor\":0,\"fTextFont\":0,\"fX\":0,\"fY\":0,\"fLineColor\":1,\"fLineStyle\":1,\"fLineWidth\":2,\"fLimitFactorSize\":3,\"fOriginSize\":0.0368000008165836},{\"_typename\":\"TLatex\",\"fUniqueID\":0,\"fBits\":50331648,\"fName\":\"\",\"fTitle\":\"Entries =   2.321476e+07\",\"fTextAngle\":0,\"fTextSize\":0,\"fTextAlign\":0,\"fTextColor\":0,\"fTextFont\":0,\"fX\":0,\"fY\":0,\"fLineColor\":1,\"fLineStyle\":1,\"fLineWidth\":2,\"fLimitFactorSize\":3,\"fOriginSize\":0.04},{\"_typename\":\"TLatex\",\"fUniqueID\":0,\"fBits\":50331648,\"fName\":\"\",\"fTitle\":\"Mean  =  23.15\",\"fTextAngle\":0,\"fTextSize\":0,\"fTextAlign\":0,\"fTextColor\":0,\"fTextFont\":0,\"fX\":0,\"fY\":0,\"fLineColor\":1,\"fLineStyle\":1,\"fLineWidth\":2,\"fLimitFactorSize\":3,\"fOriginSize\":0.04},{\"_typename\":\"TLatex\",\"fUniqueID\":0,\"fBits\":50331648,\"fName\":\"\",\"fTitle\":\"Std Dev   =  6.444\",\"fTextAngle\":0,\"fTextSize\":0,\"fTextAlign\":0,\"fTextColor\":0,\"fTextFont\":0,\"fX\":0,\"fY\":0,\"fLineColor\":1,\"fLineStyle\":1,\"fLineWidth\":2,\"fLimitFactorSize\":3,\"fOriginSize\":0.04}],\"opt\":[\"\",\"\",\"\",\"\"]},\"fOptFit\":0,\"fOptStat\":1111,\"fFitFormat\":\"5.4g\",\"fStatFormat\":\"6.4g\",\"fParent\":{\"$ref\":3}}],\"opt\":[\"brNDC\"]},\"fBufferSize\":0,\"fBuffer\":[],\"fBinStatErrOpt\":0,\"fStatOverflows\":2,\"fArray\":[0,238623.643158012,831742.5740965,2275960.25496879,3066639.92043118,4390102.72347591,5872785.32941962,6840736.97040528,12495716.3754387,33960152.7055028,75997753.521698,171965664.593535,352034996.404821,591430467.38599,861554803.531245,1154871146.53446,1463846217.75788,1728828068.93846,1909380320.6077,2012012758.76347,2062912636.46594,2093270442.68976,2109370301.2857,2090009950.63542,2025416498.84453,1928056840.36933,1809796902.30583,1674927864.31782,1528115080.81863,1375729523.86466,1222282857.29236,1069987267.78914,920802620.825665,777757498.615474,644484491.548189,524096425.632239,418426254.400118,327896616.771516,251848540.990988,189064238.129944,138193472.043482,97940670.5923423,67040356.3580131,44172558.0770377,27941535.1936275,16933607.2088034,9817415.04687112,5439219.43386949,2877978.98838725,1453976.27008801,701631.208350691,323857.351622548,143490.73651903,61535.7511012389,26037.3853111524,11333.9038662428,5472.74418756491,3191.98775778105,2295.91794504118,1912.84006577876,1712.06203486957,1573.24806843222,1454.4619676338,1342.00932359311,1232.0954709568,1124.29252067939,1019.24143320145,917.842817975297,820.968917354781,729.360750496548,643.593866610816,564.071788078452,491.032250605841,424.560310037038,364.605489857097,311.001257645247,263.485574794344,221.721513422461,185.317125144357,153.843921813376,126.853497334982,103.891980057452,84.5121521801751,68.2832014693073,54.7981779586871,43.6793125032239,34.5814148618326,27.1936076105304,21.2396708810015,16.4772746686348,12.6963636416211,9.71693748910007,7.38644121061088,5.57694737901278,4.18227886167076,3.1151878043294,2.30467638396961,1.69351793863736,1.23601415338885,0.896005222704372,0.645135227974833,0]},{\"_typename\":\"TH1D\",\"fUniqueID\":0,\"fBits\":50331656,\"fName\":\"pileup\",\"fTitle\":\"pileup\",\"fLineColor\":632,\"fLineStyle\":1,\"fLineWidth\":1,\"fFillColor\":0,\"fFillStyle\":1001,\"fMarkerColor\":1,\"fMarkerStyle\":1,\"fMarkerSize\":1,\"fNcells\":102,\"fXaxis\":{\"_typename\":\"TAxis\",\"fUniqueID\":0,\"fBits\":50331648,\"fName\":\"xaxis\",\"fTitle\":\"\",\"fNdivisions\":510,\"fAxisColor\":1,\"fLabelColor\":1,\"fLabelFont\":42,\"fLabelOffset\":0.005,\"fLabelSize\":0.035,\"fTickLength\":0.03,\"fTitleOffset\":1,\"fTitleSize\":0.035,\"fTitleColor\":1,\"fTitleFont\":42,\"fNbins\":100,\"fXmin\":0,\"fXmax\":100,\"fXbins\":[],\"fFirst\":0,\"fLast\":0,\"fBits2\":0,\"fTimeDisplay\":false,\"fTimeFormat\":\"\",\"fLabels\":null,\"fModLabs\":null},\"fYaxis\":{\"_typename\":\"TAxis\",\"fUniqueID\":0,\"fBits\":50331648,\"fName\":\"yaxis\",\"fTitle\":\"\",\"fNdivisions\":510,\"fAxisColor\":1,\"fLabelColor\":1,\"fLabelFont\":42,\"fLabelOffset\":0.005,\"fLabelSize\":0.035,\"fTickLength\":0.03,\"fTitleOffset\":1,\"fTitleSize\":0.035,\"fTitleColor\":1,\"fTitleFont\":42,\"fNbins\":1,\"fXmin\":0,\"fXmax\":1,\"fXbins\":[],\"fFirst\":0,\"fLast\":0,\"fBits2\":0,\"fTimeDisplay\":false,\"fTimeFormat\":\"\",\"fLabels\":null,\"fModLabs\":null},\"fZaxis\":{\"_typename\":\"TAxis\",\"fUniqueID\":0,\"fBits\":50331648,\"fName\":\"zaxis\",\"fTitle\":\"\",\"fNdivisions\":510,\"fAxisColor\":1,\"fLabelColor\":1,\"fLabelFont\":42,\"fLabelOffset\":0.005,\"fLabelSize\":0.035,\"fTickLength\":0.03,\"fTitleOffset\":1,\"fTitleSize\":0.035,\"fTitleColor\":1,\"fTitleFont\":42,\"fNbins\":1,\"fXmin\":0,\"fXmax\":1,\"fXbins\":[],\"fFirst\":0,\"fLast\":0,\"fBits2\":0,\"fTimeDisplay\":false,\"fTimeFormat\":\"\",\"fLabels\":null,\"fModLabs\":null},\"fBarOffset\":0,\"fBarWidth\":1000,\"fEntries\":23214755,\"fTsumw\":35849255240.8392,\"fTsumw2\":859673300179621,\"fTsumwx\":830028625030.289,\"fTsumwx2\":20706404352184.2,\"fMaximum\":-1111,\"fMinimum\":-1111,\"fNormFactor\":0,\"fContour\":[],\"fSumw2\":[0,843021920.079174,7194888808.03511,30694808876.0709,50917034379.8695,82155876398.2824,124346931077.432,141893388816.08,193270112150.404,492704681030.91,1048848552310.93,2985185216898.15,7688794854387.23,13933165340020.1,20879158655330.1,27920393328705.5,36580479626324.2,43662649036933.1,48013092928409.9,49832919450645.6,49790447981610,50053214011523.5,51513681291841,51430660718655.1,49192365589879.7,46625463024147.8,43844088415002.7,40345219905598.1,36552916986058.6,32866791241891,29276559354245.8,25633470121312.8,21902982578735.1,18230258135522.3,14805097686977.5,11778184946276.8,9219527842214.25,7098505972048.84,5335355781762.57,3867992143247.97,2671520624955.25,1739545174095.27,1059159780117.38,599166475128.39,313342058880.012,150897896960.271,66678412408.5744,26929796598.493,9895143009.15592,3291209905.71852,986996525.882628,267473862.157666,67377193.8248337,17922725.1779814,6970966.52869617,4665488.28171524,4051834.9259064,3711920.24171297,3395722.2847135,3070557.24104981,2739771.96503701,2411595.15962647,2093962.1927892,1793522.24632608,1515377.38166427,1263032.45178637,1038464.79977874,842280.093586471,673926.573923604,531941.03902188,414202.376179356,318172.643961989,241110.937562576,180250.776941417,132936.902010734,96721.6840550107,69424.6120257319,49160.4165436398,34342.4323175951,23667.9507166348,16091.8092625863,10793.5433488976,7142.30381134601,4662.59558579719,3002.84030237924,1907.88233920307,1195.8742533951,739.492294747769,451.123619097783,271.500580496094,161.197649717865,94.4188741664346,54.5595137576466,31.1023420682174,17.4914564767781,9.70439505624263,5.31153323482726,2.86800300848653,1.52773098737755,0.802825359113511,0.41619946237414,0],\"fOption\":\"\",\"fFunctions\":{\"_typename\":\"TList\",\"name\":\"TList\",\"arr\":[],\"opt\":[]},\"fBufferSize\":0,\"fBuffer\":[],\"fBinStatErrOpt\":0,\"fStatOverflows\":2,\"fArray\":[0,238623.643158012,831742.5740965,2275960.25496879,3066639.92043118,4390102.72347591,5872785.32941962,6840736.97040528,12495716.3754387,33960152.7055028,75997753.521698,171965664.593535,352034996.404821,591430467.38599,861554803.531245,1154871146.53446,1463846217.75788,1728828068.93846,1909380320.6077,2012012758.76347,2062912636.46594,2093270442.68976,2109370301.2857,2090009950.63542,2025416498.84453,1928056840.36933,1809796902.30583,1674927864.31782,1528115080.81863,1375729523.86466,1222282857.29236,1069987267.78914,920802620.825665,777757498.615474,644484491.548189,524096425.632239,418426254.400118,327896616.771516,251848540.990988,189064238.129944,138193472.043482,97940670.5923423,67040356.3580131,44172558.0770377,27941535.1936275,16933607.2088034,9817415.04687112,5439219.43386949,2877978.98838725,1453976.27008801,701631.208350691,323857.351622548,143490.73651903,61535.7511012389,26037.3853111524,11333.9038662428,5472.74418756491,3191.98775778105,2295.91794504118,1912.84006577876,1712.06203486957,1573.24806843222,1454.4619676338,1342.00932359311,1232.0954709568,1124.29252067939,1019.24143320145,917.842817975297,820.968917354781,729.360750496548,643.593866610816,564.071788078452,491.032250605841,424.560310037038,364.605489857097,311.001257645247,263.485574794344,221.721513422461,185.317125144357,153.843921813376,126.853497334982,103.891980057452,84.5121521801751,68.2832014693073,54.7981779586871,43.6793125032239,34.5814148618326,27.1936076105304,21.2396708810015,16.4772746686348,12.6963636416211,9.71693748910007,7.38644121061088,5.57694737901278,4.18227886167076,3.1151878043294,2.30467638396961,1.69351793863736,1.23601415338885,0.896005222704372,0.645135227974833,0]},{\"_typename\":\"TPaveText\",\"fUniqueID\":0,\"fBits\":50331657,\"fLineColor\":1,\"fLineStyle\":1,\"fLineWidth\":1,\"fFillColor\":0,\"fFillStyle\":0,\"fX1\":39.5905170862659,\"fY1\":2317619658.14059,\"fX2\":60.4094829137341,\"fY2\":2486282047.88668,\"fX1NDC\":0.416724137931034,\"fY1NDC\":0.934285719054086,\"fX2NDC\":0.583275862068966,\"fY2NDC\":0.995000004768372,\"fBorderSize\":0,\"fInit\":1,\"fShadowColor\":1,\"fCornerRadius\":0,\"fOption\":\"blNDC\",\"fName\":\"title\",\"fTextAngle\":0,\"fTextSize\":0,\"fTextAlign\":22,\"fTextColor\":1,\"fTextFont\":42,\"fLabel\":\"\",\"fLongest\":6,\"fMargin\":0.05,\"fLines\":{\"_typename\":\"TList\",\"name\":\"TList\",\"arr\":[{\"_typename\":\"TLatex\",\"fUniqueID\":0,\"fBits\":50331648,\"fName\":\"\",\"fTitle\":\"pileup\",\"fTextAngle\":0,\"fTextSize\":0,\"fTextAlign\":0,\"fTextColor\":0,\"fTextFont\":0,\"fX\":0,\"fY\":0,\"fLineColor\":1,\"fLineStyle\":1,\"fLineWidth\":2,\"fLimitFactorSize\":3,\"fOriginSize\":0.0516071431338787}],\"opt\":[\"\"]}}],\"opt\":[\"\",\"\",\"same\",\"blNDC\"]},\"fExecs\":null,\"fName\":\"\",\"fTitle\":\"\",\"fNumPaletteColor\":0,\"fNextPaletteColor\":0,\"fDISPLAY\":\"$DISPLAY\",\"fDoubleBuffer\":0,\"fRetained\":true,\"fXsizeUser\":0,\"fYsizeUser\":0,\"fXsizeReal\":20,\"fYsizeReal\":20,\"fWindowTopX\":0,\"fWindowTopY\":0,\"fWindowWidth\":0,\"fWindowHeight\":0,\"fCw\":696,\"fCh\":672,\"fCatt\":{\"_typename\":\"TAttCanvas\",\"fXBetween\":2,\"fYBetween\":2,\"fTitleFromTop\":1.2,\"fXdate\":0.2,\"fYdate\":0.3,\"fAdate\":1},\"kMoveOpaque\":true,\"kResizeOpaque\":true,\"fHighLightColor\":2,\"fBatch\":true,\"kShowEventStatus\":false,\"kAutoExec\":true,\"kMenuBar\":true});\n",
       "       Core.draw(\"root_plot_2\", obj, \"\");\n",
       "     }\n",
       " );\n",
       "</script>\n"
      ],
      "text/plain": [
       "<IPython.core.display.HTML object>"
      ]
     },
     "metadata": {},
     "output_type": "display_data"
    }
   ],
   "source": [
    "c.Draw()"
   ]
  },
  {
   "cell_type": "code",
   "execution_count": null,
   "metadata": {},
   "outputs": [],
   "source": []
  }
 ],
 "metadata": {
  "kernelspec": {
   "display_name": "Python 3",
   "language": "python",
   "name": "python3"
  },
  "language_info": {
   "codemirror_mode": {
    "name": "ipython",
    "version": 3
   },
   "file_extension": ".py",
   "mimetype": "text/x-python",
   "name": "python",
   "nbconvert_exporter": "python",
   "pygments_lexer": "ipython3",
   "version": "3.7.3"
  }
 },
 "nbformat": 4,
 "nbformat_minor": 2
}
