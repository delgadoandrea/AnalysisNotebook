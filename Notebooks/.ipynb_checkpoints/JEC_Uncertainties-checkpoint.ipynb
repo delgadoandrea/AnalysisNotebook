{
 "cells": [
  {
   "cell_type": "code",
   "execution_count": 22,
   "metadata": {},
   "outputs": [],
   "source": [
    "from ROOT import TCanvas, TFile, gRandom, TH1F, TColor, TGaxis, TPad\n",
    "from ROOT import kBlack, kBlue, kRed\n",
    "import ROOT\n",
    "ROOT.enableJSVis()"
   ]
  },
  {
   "cell_type": "code",
   "execution_count": 26,
   "metadata": {},
   "outputs": [
    {
     "name": "stderr",
     "output_type": "stream",
     "text": [
      "Warning in <TCanvas::Constructor>: Deleting canvas with same name: test\n"
     ]
    },
    {
     "data": {
      "text/html": [
       "\n",
       "<div id=\"root_plot_8\"\n",
       "     style=\"width: 496px; height: 472px\">\n",
       "</div>\n",
       "\n",
       "<script>\n",
       " requirejs.config({\n",
       "     paths: {\n",
       "       'JSRootCore' : 'https://root.cern.ch/js/notebook//scripts/JSRootCore',\n",
       "     }\n",
       "   });\n",
       " require(['JSRootCore'],\n",
       "     function(Core) {\n",
       "       var obj = Core.JSONR_unref({\"_typename\":\"TCanvas\",\"fUniqueID\":0,\"fBits\":53673992,\"fLineColor\":1,\"fLineStyle\":1,\"fLineWidth\":1,\"fFillColor\":0,\"fFillStyle\":1001,\"fLeftMargin\":0.1,\"fRightMargin\":0.1,\"fBottomMargin\":0.1,\"fTopMargin\":0.1,\"fXfile\":2,\"fYfile\":2,\"fAfile\":1,\"fXstat\":0.99,\"fYstat\":0.99,\"fAstat\":2,\"fFrameFillColor\":0,\"fFrameLineColor\":1,\"fFrameFillStyle\":1001,\"fFrameLineStyle\":1,\"fFrameLineWidth\":1,\"fFrameBorderSize\":1,\"fFrameBorderMode\":0,\"fX1\":-150.000011175872,\"fY1\":-5694.25421152351,\"fX2\":1350.00001117587,\"fY2\":51248.2845096716,\"fXtoAbsPixelk\":49.6000529563905,\"fXtoPixelk\":49.6000529563905,\"fXtoPixel\":0.330666661739349,\"fYtoAbsPixelk\":424.800047186661,\"fYtoPixelk\":424.800047186661,\"fYtoPixel\":-0.00828905789239622,\"fUtoAbsPixelk\":5e-5,\"fUtoPixelk\":5e-5,\"fUtoPixel\":496,\"fVtoAbsPixelk\":472.00005,\"fVtoPixelk\":472,\"fVtoPixel\":-472,\"fAbsPixeltoXk\":-150.000011175872,\"fPixeltoXk\":-150.000011175872,\"fPixeltoX\":3.0241935934511,\"fAbsPixeltoYk\":51248.2845096716,\"fPixeltoYk\":-5694.25421152351,\"fPixeltoY\":-120.640971866939,\"fXlowNDC\":0,\"fYlowNDC\":0,\"fXUpNDC\":0,\"fYUpNDC\":0,\"fWNDC\":1,\"fHNDC\":1,\"fAbsXlowNDC\":0,\"fAbsYlowNDC\":0,\"fAbsWNDC\":1,\"fAbsHNDC\":1,\"fUxmin\":0,\"fUymin\":0,\"fUxmax\":1200,\"fUymax\":45554.0302981481,\"fTheta\":30,\"fPhi\":30,\"fAspectRatio\":0,\"fNumber\":0,\"fTickx\":0,\"fTicky\":0,\"fLogx\":0,\"fLogy\":0,\"fLogz\":0,\"fPadPaint\":0,\"fCrosshair\":0,\"fCrosshairPos\":0,\"fBorderSize\":2,\"fBorderMode\":0,\"fModified\":false,\"fGridx\":false,\"fGridy\":false,\"fAbsCoord\":false,\"fEditable\":true,\"fFixedAspectRatio\":false,\"fPrimitives\":{\"_typename\":\"TList\",\"name\":\"TList\",\"arr\":[{\"_typename\":\"TFrame\",\"fUniqueID\":0,\"fBits\":50331656,\"fLineColor\":1,\"fLineStyle\":1,\"fLineWidth\":1,\"fFillColor\":0,\"fFillStyle\":1001,\"fX1\":0,\"fY1\":0,\"fX2\":1200,\"fY2\":45554.0302981481,\"fBorderSize\":1,\"fBorderMode\":0},{\"_typename\":\"TH1F\",\"fUniqueID\":0,\"fBits\":50332168,\"fName\":\"mjjcr1\",\"fTitle\":\"Control Region 1\",\"fLineColor\":602,\"fLineStyle\":1,\"fLineWidth\":1,\"fFillColor\":0,\"fFillStyle\":1001,\"fMarkerColor\":1,\"fMarkerStyle\":1,\"fMarkerSize\":1,\"fNcells\":122,\"fXaxis\":{\"_typename\":\"TAxis\",\"fUniqueID\":0,\"fBits\":50331656,\"fName\":\"xaxis\",\"fTitle\":\"m_{jj}[GeV]\",\"fNdivisions\":510,\"fAxisColor\":1,\"fLabelColor\":1,\"fLabelFont\":42,\"fLabelOffset\":0.005,\"fLabelSize\":0.035,\"fTickLength\":0.03,\"fTitleOffset\":1,\"fTitleSize\":0.035,\"fTitleColor\":1,\"fTitleFont\":42,\"fNbins\":120,\"fXmin\":0,\"fXmax\":1200,\"fXbins\":[],\"fFirst\":0,\"fLast\":0,\"fBits2\":0,\"fTimeDisplay\":false,\"fTimeFormat\":\"\",\"fLabels\":null,\"fModLabs\":null},\"fYaxis\":{\"_typename\":\"TAxis\",\"fUniqueID\":0,\"fBits\":50331656,\"fName\":\"yaxis\",\"fTitle\":\"Events\",\"fNdivisions\":510,\"fAxisColor\":1,\"fLabelColor\":1,\"fLabelFont\":42,\"fLabelOffset\":0.005,\"fLabelSize\":0.035,\"fTickLength\":0.03,\"fTitleOffset\":1,\"fTitleSize\":0.035,\"fTitleColor\":1,\"fTitleFont\":42,\"fNbins\":1,\"fXmin\":0,\"fXmax\":1,\"fXbins\":[],\"fFirst\":0,\"fLast\":0,\"fBits2\":0,\"fTimeDisplay\":false,\"fTimeFormat\":\"\",\"fLabels\":null,\"fModLabs\":null},\"fZaxis\":{\"_typename\":\"TAxis\",\"fUniqueID\":0,\"fBits\":50331648,\"fName\":\"zaxis\",\"fTitle\":\"\",\"fNdivisions\":510,\"fAxisColor\":1,\"fLabelColor\":1,\"fLabelFont\":42,\"fLabelOffset\":0.005,\"fLabelSize\":0.035,\"fTickLength\":0.03,\"fTitleOffset\":1,\"fTitleSize\":0.035,\"fTitleColor\":1,\"fTitleFont\":42,\"fNbins\":1,\"fXmin\":0,\"fXmax\":1,\"fXbins\":[],\"fFirst\":0,\"fLast\":0,\"fBits2\":0,\"fTimeDisplay\":false,\"fTimeFormat\":\"\",\"fLabels\":null,\"fModLabs\":null},\"fBarOffset\":0,\"fBarWidth\":1000,\"fEntries\":1322951,\"fTsumw\":1300772,\"fTsumw2\":1300772,\"fTsumwx\":520379282.026446,\"fTsumwx2\":256428724354.416,\"fMaximum\":-1111,\"fMinimum\":-1111,\"fNormFactor\":0,\"fContour\":[],\"fSumw2\":[0,0,0,0,28,390,1671,2977,3758,3911,3884,3775,3829,4078,4261,4588,5306,6674,8539,11822,16443,22373,27981,32872,37092,39505,41780,42582,43177,43036,42113,41159,39739,38686,36735,35537,33481,32256,30175,28855,27447,25909,24282,22898,21706,20658,19582,18553,17429,16529,15534,14707,14021,13355,12305,11803,10994,10660,10124,9659,8773,8734,8270,7954,7443,7040,6752,6420,6017,5850,5450,5286,4942,4761,4585,4391,4113,4006,3757,3646,3414,3264,3221,3058,2920,2767,2667,2537,2461,2317,2306,2154,2143,1987,1886,1756,1776,1684,1678,1575,1504,1374,1348,1314,1300,1210,1120,1085,1106,1074,1071,943,919,905,847,876,775,815,785,745,672,22179],\"fOption\":\"\",\"fFunctions\":{\"_typename\":\"TList\",\"name\":\"TList\",\"arr\":[],\"opt\":[]},\"fBufferSize\":0,\"fBuffer\":[],\"fBinStatErrOpt\":0,\"fStatOverflows\":2,\"fArray\":[0,0,0,0,28,390,1671,2977,3758,3911,3884,3775,3829,4078,4261,4588,5306,6674,8539,11822,16443,22373,27981,32872,37092,39505,41780,42582,43177,43036,42113,41159,39739,38686,36735,35537,33481,32256,30175,28855,27447,25909,24282,22898,21706,20658,19582,18553,17429,16529,15534,14707,14021,13355,12305,11803,10994,10660,10124,9659,8773,8734,8270,7954,7443,7040,6752,6420,6017,5850,5450,5286,4942,4761,4585,4391,4113,4006,3757,3646,3414,3264,3221,3058,2920,2767,2667,2537,2461,2317,2306,2154,2143,1987,1886,1756,1776,1684,1678,1575,1504,1374,1348,1314,1300,1210,1120,1085,1106,1074,1071,943,919,905,847,876,775,815,785,745,672,22179]},{\"_typename\":\"TH1F\",\"fUniqueID\":0,\"fBits\":50331656,\"fName\":\"mjjcr1_jup\",\"fTitle\":\"mjj from two leading jets in event for control region 1 +1#sigma JEC\",\"fLineColor\":2,\"fLineStyle\":1,\"fLineWidth\":1,\"fFillColor\":0,\"fFillStyle\":1001,\"fMarkerColor\":1,\"fMarkerStyle\":1,\"fMarkerSize\":1,\"fNcells\":122,\"fXaxis\":{\"_typename\":\"TAxis\",\"fUniqueID\":0,\"fBits\":50331648,\"fName\":\"xaxis\",\"fTitle\":\"\",\"fNdivisions\":510,\"fAxisColor\":1,\"fLabelColor\":1,\"fLabelFont\":42,\"fLabelOffset\":0.005,\"fLabelSize\":0.035,\"fTickLength\":0.03,\"fTitleOffset\":1,\"fTitleSize\":0.035,\"fTitleColor\":1,\"fTitleFont\":42,\"fNbins\":120,\"fXmin\":0,\"fXmax\":1200,\"fXbins\":[],\"fFirst\":0,\"fLast\":0,\"fBits2\":0,\"fTimeDisplay\":false,\"fTimeFormat\":\"\",\"fLabels\":null,\"fModLabs\":null},\"fYaxis\":{\"_typename\":\"TAxis\",\"fUniqueID\":0,\"fBits\":50331648,\"fName\":\"yaxis\",\"fTitle\":\"\",\"fNdivisions\":510,\"fAxisColor\":1,\"fLabelColor\":1,\"fLabelFont\":42,\"fLabelOffset\":0.005,\"fLabelSize\":0.035,\"fTickLength\":0.03,\"fTitleOffset\":1,\"fTitleSize\":0.035,\"fTitleColor\":1,\"fTitleFont\":42,\"fNbins\":1,\"fXmin\":0,\"fXmax\":1,\"fXbins\":[],\"fFirst\":0,\"fLast\":0,\"fBits2\":0,\"fTimeDisplay\":false,\"fTimeFormat\":\"\",\"fLabels\":null,\"fModLabs\":null},\"fZaxis\":{\"_typename\":\"TAxis\",\"fUniqueID\":0,\"fBits\":50331648,\"fName\":\"zaxis\",\"fTitle\":\"\",\"fNdivisions\":510,\"fAxisColor\":1,\"fLabelColor\":1,\"fLabelFont\":42,\"fLabelOffset\":0.005,\"fLabelSize\":0.035,\"fTickLength\":0.03,\"fTitleOffset\":1,\"fTitleSize\":0.035,\"fTitleColor\":1,\"fTitleFont\":42,\"fNbins\":1,\"fXmin\":0,\"fXmax\":1,\"fXbins\":[],\"fFirst\":0,\"fLast\":0,\"fBits2\":0,\"fTimeDisplay\":false,\"fTimeFormat\":\"\",\"fLabels\":null,\"fModLabs\":null},\"fBarOffset\":0,\"fBarWidth\":1000,\"fEntries\":1366764,\"fTsumw\":1333611,\"fTsumw2\":1333611,\"fTsumwx\":573580957.934395,\"fTsumwx2\":301267892495.658,\"fMaximum\":-1111,\"fMinimum\":-1111,\"fNormFactor\":0,\"fContour\":[],\"fSumw2\":[0,0,0,0,18,222,1154,2487,3281,3628,3724,3621,3576,3667,3830,4136,4310,5040,5953,7730,10314,13947,18323,23188,27827,31662,34975,37403,38974,39647,40798,40313,39944,39213,38126,37039,35658,34372,33056,31772,30231,28823,27524,26487,24624,23327,22352,21143,20170,19256,18272,17543,16498,15638,14965,14278,13421,12662,12115,11488,10958,10693,9937,9527,9167,8585,8313,7847,7649,7199,6961,6698,6153,6070,5787,5563,5280,5103,4914,4606,4415,4319,4167,3821,3833,3641,3400,3401,3192,3087,2949,2859,2770,2651,2531,2342,2411,2333,2214,2177,2062,2030,1836,1834,1738,1732,1644,1561,1557,1439,1356,1346,1285,1267,1221,1198,1112,1079,1093,993,960,33153],\"fOption\":\"\",\"fFunctions\":{\"_typename\":\"TList\",\"name\":\"TList\",\"arr\":[],\"opt\":[]},\"fBufferSize\":0,\"fBuffer\":[],\"fBinStatErrOpt\":0,\"fStatOverflows\":2,\"fArray\":[0,0,0,0,18,222,1154,2487,3281,3628,3724,3621,3576,3667,3830,4136,4310,5040,5953,7730,10314,13947,18323,23188,27827,31662,34975,37403,38974,39647,40798,40313,39944,39213,38126,37039,35658,34372,33056,31772,30231,28823,27524,26487,24624,23327,22352,21143,20170,19256,18272,17543,16498,15638,14965,14278,13421,12662,12115,11488,10958,10693,9937,9527,9167,8585,8313,7847,7649,7199,6961,6698,6153,6070,5787,5563,5280,5103,4914,4606,4415,4319,4167,3821,3833,3641,3400,3401,3192,3087,2949,2859,2770,2651,2531,2342,2411,2333,2214,2177,2062,2030,1836,1834,1738,1732,1644,1561,1557,1439,1356,1346,1285,1267,1221,1198,1112,1079,1093,993,960,33153]},{\"_typename\":\"TH1F\",\"fUniqueID\":0,\"fBits\":50331656,\"fName\":\"mjjcr1_jdown\",\"fTitle\":\"mjj from two leading jets in event for control region 1 -1#sigma JEC\",\"fLineColor\":3,\"fLineStyle\":1,\"fLineWidth\":1,\"fFillColor\":0,\"fFillStyle\":1001,\"fMarkerColor\":1,\"fMarkerStyle\":1,\"fMarkerSize\":1,\"fNcells\":122,\"fXaxis\":{\"_typename\":\"TAxis\",\"fUniqueID\":0,\"fBits\":50331648,\"fName\":\"xaxis\",\"fTitle\":\"\",\"fNdivisions\":510,\"fAxisColor\":1,\"fLabelColor\":1,\"fLabelFont\":42,\"fLabelOffset\":0.005,\"fLabelSize\":0.035,\"fTickLength\":0.03,\"fTitleOffset\":1,\"fTitleSize\":0.035,\"fTitleColor\":1,\"fTitleFont\":42,\"fNbins\":120,\"fXmin\":0,\"fXmax\":1200,\"fXbins\":[],\"fFirst\":0,\"fLast\":0,\"fBits2\":0,\"fTimeDisplay\":false,\"fTimeFormat\":\"\",\"fLabels\":null,\"fModLabs\":null},\"fYaxis\":{\"_typename\":\"TAxis\",\"fUniqueID\":0,\"fBits\":50331648,\"fName\":\"yaxis\",\"fTitle\":\"\",\"fNdivisions\":510,\"fAxisColor\":1,\"fLabelColor\":1,\"fLabelFont\":42,\"fLabelOffset\":0.005,\"fLabelSize\":0.035,\"fTickLength\":0.03,\"fTitleOffset\":1,\"fTitleSize\":0.035,\"fTitleColor\":1,\"fTitleFont\":42,\"fNbins\":1,\"fXmin\":0,\"fXmax\":1,\"fXbins\":[],\"fFirst\":0,\"fLast\":0,\"fBits2\":0,\"fTimeDisplay\":false,\"fTimeFormat\":\"\",\"fLabels\":null,\"fModLabs\":null},\"fZaxis\":{\"_typename\":\"TAxis\",\"fUniqueID\":0,\"fBits\":50331648,\"fName\":\"zaxis\",\"fTitle\":\"\",\"fNdivisions\":510,\"fAxisColor\":1,\"fLabelColor\":1,\"fLabelFont\":42,\"fLabelOffset\":0.005,\"fLabelSize\":0.035,\"fTickLength\":0.03,\"fTitleOffset\":1,\"fTitleSize\":0.035,\"fTitleColor\":1,\"fTitleFont\":42,\"fNbins\":1,\"fXmin\":0,\"fXmax\":1,\"fXbins\":[],\"fFirst\":0,\"fLast\":0,\"fBits2\":0,\"fTimeDisplay\":false,\"fTimeFormat\":\"\",\"fLabels\":null,\"fModLabs\":null},\"fBarOffset\":0,\"fBarWidth\":1000,\"fEntries\":1341177,\"fTsumw\":1310394,\"fTsumw2\":1310394,\"fTsumwx\":555144891.046447,\"fTsumwx2\":288324201686.566,\"fMaximum\":-1111,\"fMinimum\":-1111,\"fNormFactor\":0,\"fContour\":[],\"fSumw2\":[0,0,0,0,21,254,1258,2626,3348,3688,3709,3687,3592,3696,4044,4165,4572,5327,6610,8677,11724,15839,20571,25444,29688,33405,36235,38231,38875,40128,40399,39899,39351,38274,37380,35816,34546,33278,31846,30690,28972,27605,26626,25009,23491,22360,21307,20170,19206,18671,17382,16628,15581,14980,14283,13430,12651,12149,11478,10878,10514,9995,9355,9109,8567,8175,7897,7567,7228,6906,6488,6182,6036,5756,5397,5223,5034,4824,4555,4359,4242,4057,3864,3724,3562,3359,3308,3175,2990,2951,2734,2781,2569,2422,2420,2348,2215,2197,2131,2012,1856,1817,1813,1716,1631,1630,1525,1497,1364,1401,1301,1201,1267,1169,1187,1037,1104,1022,968,983,927,30783],\"fOption\":\"\",\"fFunctions\":{\"_typename\":\"TList\",\"name\":\"TList\",\"arr\":[],\"opt\":[]},\"fBufferSize\":0,\"fBuffer\":[],\"fBinStatErrOpt\":0,\"fStatOverflows\":2,\"fArray\":[0,0,0,0,21,254,1258,2626,3348,3688,3709,3687,3592,3696,4044,4165,4572,5327,6610,8677,11724,15839,20571,25444,29688,33405,36235,38231,38875,40128,40399,39899,39351,38274,37380,35816,34546,33278,31846,30690,28972,27605,26626,25009,23491,22360,21307,20170,19206,18671,17382,16628,15581,14980,14283,13430,12651,12149,11478,10878,10514,9995,9355,9109,8567,8175,7897,7567,7228,6906,6488,6182,6036,5756,5397,5223,5034,4824,4555,4359,4242,4057,3864,3724,3562,3359,3308,3175,2990,2951,2734,2781,2569,2422,2420,2348,2215,2197,2131,2012,1856,1817,1813,1716,1631,1630,1525,1497,1364,1401,1301,1201,1267,1169,1187,1037,1104,1022,968,983,927,30783]},{\"_typename\":\"TPaveText\",\"fUniqueID\":0,\"fBits\":50331657,\"fLineColor\":1,\"fLineStyle\":1,\"fLineWidth\":1,\"fFillColor\":0,\"fFillStyle\":0,\"fX1\":297.701608398629,\"fY1\":47489.112097821,\"fX2\":902.298391601372,\"fY2\":50963.5720875888,\"fX1NDC\":0.298467741935484,\"fY1NDC\":0.933983055615829,\"fX2NDC\":0.701532258064516,\"fY2NDC\":0.995000004768372,\"fBorderSize\":0,\"fInit\":1,\"fShadowColor\":1,\"fCornerRadius\":0,\"fOption\":\"blNDC\",\"fName\":\"title\",\"fTextAngle\":0,\"fTextSize\":0,\"fTextAlign\":22,\"fTextColor\":1,\"fTextFont\":42,\"fLabel\":\"\",\"fLongest\":16,\"fMargin\":0.05,\"fLines\":{\"_typename\":\"TList\",\"name\":\"TList\",\"arr\":[{\"_typename\":\"TLatex\",\"fUniqueID\":0,\"fBits\":50331648,\"fName\":\"\",\"fTitle\":\"Control Region 1\",\"fTextAngle\":0,\"fTextSize\":0,\"fTextAlign\":0,\"fTextColor\":0,\"fTextFont\":0,\"fX\":0,\"fY\":0,\"fLineColor\":1,\"fLineStyle\":1,\"fLineWidth\":2,\"fLimitFactorSize\":3,\"fOriginSize\":0.0518644079566002}],\"opt\":[\"\"]}}],\"opt\":[\"\",\"\",\"same\",\"same\",\"blNDC\"]},\"fExecs\":null,\"fName\":\"test\",\"fTitle\":\"\",\"fNumPaletteColor\":0,\"fNextPaletteColor\":0,\"fDISPLAY\":\"$DISPLAY\",\"fDoubleBuffer\":0,\"fRetained\":true,\"fXsizeUser\":0,\"fYsizeUser\":0,\"fXsizeReal\":20,\"fYsizeReal\":20,\"fWindowTopX\":0,\"fWindowTopY\":0,\"fWindowWidth\":0,\"fWindowHeight\":0,\"fCw\":496,\"fCh\":472,\"fCatt\":{\"_typename\":\"TAttCanvas\",\"fXBetween\":2,\"fYBetween\":2,\"fTitleFromTop\":1.2,\"fXdate\":0.2,\"fYdate\":0.3,\"fAdate\":1},\"kMoveOpaque\":true,\"kResizeOpaque\":true,\"fHighLightColor\":2,\"fBatch\":true,\"kShowEventStatus\":false,\"kAutoExec\":true,\"kMenuBar\":true});\n",
       "       Core.draw(\"root_plot_8\", obj, \"\");\n",
       "     }\n",
       " );\n",
       "</script>\n"
      ],
      "text/plain": [
       "<IPython.core.display.HTML object>"
      ]
     },
     "metadata": {},
     "output_type": "display_data"
    }
   ],
   "source": [
    "f1 = TFile('../data/BTagCSV/mjj_All.root','read')\n",
    "canvas = TCanvas('test','',500,500)\n",
    "cr1 = f1.Get('mjjcr1')\n",
    "cr1_up = f1.Get('mjjcr1_jup')\n",
    "cr1_down = f1.Get('mjjcr1_jdown')\n",
    "\n",
    "cr1.GetYaxis().SetTitle('Events')\n",
    "cr1.GetXaxis().SetTitle('m_{jj}[GeV]')\n",
    "cr1.SetStats(0)\n",
    "\n",
    "cr1_up.SetLineColor(2)\n",
    "cr1_down.SetLineColor(3)\n",
    "cr1.SetTitle('Control Region 1')\n",
    "\n",
    "cr1.Draw()\n",
    "cr1_up.Draw('same')\n",
    "cr1_down.Draw('same')\n",
    "canvas.Draw()\n"
   ]
  },
  {
   "cell_type": "code",
   "execution_count": null,
   "metadata": {},
   "outputs": [],
   "source": []
  }
 ],
 "metadata": {
  "kernelspec": {
   "display_name": "Python 3",
   "language": "python",
   "name": "python3"
  },
  "language_info": {
   "codemirror_mode": {
    "name": "ipython",
    "version": 3
   },
   "file_extension": ".py",
   "mimetype": "text/x-python",
   "name": "python",
   "nbconvert_exporter": "python",
   "pygments_lexer": "ipython3",
   "version": "3.7.2"
  }
 },
 "nbformat": 4,
 "nbformat_minor": 2
}
