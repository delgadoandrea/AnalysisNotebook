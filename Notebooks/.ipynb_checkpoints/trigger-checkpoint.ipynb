{
 "cells": [
  {
   "cell_type": "code",
   "execution_count": 9,
   "metadata": {},
   "outputs": [],
   "source": [
    "import ROOT\n",
    "import PlotTools\n",
    "from ROOT import TFile, TCanvas, kRed, THStack, kYellow, kGreen, kBlack, TLegend, TGraphAsymmErrors\n",
    "ROOT.enableJSVis()\n",
    "from rootpy.io import root_open\n",
    "ROOT.gROOT.SetBatch(True)"
   ]
  },
  {
   "cell_type": "code",
   "execution_count": 15,
   "metadata": {},
   "outputs": [
    {
     "data": {
      "text/plain": [
       "True"
      ]
     },
     "execution_count": 15,
     "metadata": {},
     "output_type": "execute_result"
    }
   ],
   "source": [
    "file = ROOT.TFile.Open('../data/trigger/weightHistosAll.root','read')\n",
    "file.cd()"
   ]
  },
  {
   "cell_type": "code",
   "execution_count": 49,
   "metadata": {},
   "outputs": [],
   "source": [
    "names = ['L1Quad30_caloT','Quad30Calo_caloT','Di90Calo_caloT','Di90Di30LeadCSV3_min_PF','Quad30PF_PfT','Di90PF_PfT']\n",
    "titles = ['Turn on L1', 'Turn on hltQuadCentralJet30', 'Turn on hltDoubleCentralJet90', 'Turn on hltBTagCaloCSVp087Triple ']\n",
    "xtitle = ['#sum_{i=1}^{4}(p_{i}^{T})', 'p_{T,4}^{calo}', 'p_{T,2}^{calo}','CSV_{3}', 'p_{T,4}^{PF}', 'p_{T,2}^{PF}']"
   ]
  },
  {
   "cell_type": "code",
   "execution_count": 17,
   "metadata": {},
   "outputs": [],
   "source": [
    "class HistogramNotFoundError(KeyError):\n",
    "     pass\n",
    "def get_histogram(file,name):\n",
    "    hist = file.Get(name)\n",
    "    if not hist:\n",
    "        raise HistogramNotFoundError(name)\n",
    "    return hist"
   ]
  },
  {
   "cell_type": "code",
   "execution_count": 18,
   "metadata": {},
   "outputs": [],
   "source": [
    "histogram = get_histogram(file,names[0])"
   ]
  },
  {
   "cell_type": "code",
   "execution_count": 34,
   "metadata": {},
   "outputs": [
    {
     "name": "stderr",
     "output_type": "stream",
     "text": [
      "WARNING:ROOT.TCanvas.Constructor] Deleting canvas with same name: \n"
     ]
    }
   ],
   "source": [
    "c1 = ROOT.TCanvas(\"\",\"\",700,700)\n",
    "ROOT.gPad.Update()\n",
    "graph = histogram.GetPaintedGraph()"
   ]
  },
  {
   "cell_type": "code",
   "execution_count": 51,
   "metadata": {},
   "outputs": [
    {
     "data": {
      "text/html": [
       "\n",
       "<div id=\"root_plot_19\"\n",
       "     style=\"width: 696px; height: 672px\">\n",
       "</div>\n",
       "\n",
       "<script>\n",
       " requirejs.config({\n",
       "     paths: {\n",
       "       'JSRootCore' : 'https://root.cern.ch/js/notebook//scripts/JSRootCore',\n",
       "     }\n",
       "   });\n",
       " require(['JSRootCore'],\n",
       "     function(Core) {\n",
       "       var obj = Core.JSONR_unref({\"_typename\":\"TCanvas\",\"fUniqueID\":0,\"fBits\":53673992,\"fLineColor\":1,\"fLineStyle\":1,\"fLineWidth\":1,\"fFillColor\":0,\"fFillStyle\":1001,\"fLeftMargin\":0.1,\"fRightMargin\":0.1,\"fBottomMargin\":0.1,\"fTopMargin\":0.1,\"fXfile\":2,\"fYfile\":2,\"fAfile\":1,\"fXstat\":0.99,\"fYstat\":0.99,\"fAstat\":2,\"fFrameFillColor\":0,\"fFrameLineColor\":1,\"fFrameFillStyle\":1001,\"fFrameLineStyle\":1,\"fFrameLineWidth\":1,\"fFrameBorderSize\":1,\"fFrameBorderMode\":0,\"fX1\":-25.0000055879358,\"fY1\":-0.137500010244549,\"fX2\":725.000005587936,\"fY2\":1.23750001024455,\"fXtoAbsPixelk\":23.2000548398974,\"fXtoPixelk\":23.2000548398974,\"fXtoPixel\":0.927999986171722,\"fYtoAbsPixelk\":604.800045994568,\"fYtoPixelk\":604.800045994568,\"fYtoPixel\":-488.727265444668,\"fUtoAbsPixelk\":5e-5,\"fUtoPixelk\":5e-5,\"fUtoPixel\":696,\"fVtoAbsPixelk\":672.00005,\"fVtoPixelk\":672,\"fVtoPixel\":-672,\"fAbsPixeltoXk\":-25.0000055879358,\"fPixeltoXk\":-25.0000055879358,\"fPixeltoX\":1.07758622295384,\"fAbsPixeltoYk\":1.23750001024455,\"fPixeltoYk\":-0.137500010244549,\"fPixeltoY\":-0.00204613098287068,\"fXlowNDC\":0,\"fYlowNDC\":0,\"fXUpNDC\":0,\"fYUpNDC\":0,\"fWNDC\":1,\"fHNDC\":1,\"fAbsXlowNDC\":0,\"fAbsYlowNDC\":0,\"fAbsWNDC\":1,\"fAbsHNDC\":1,\"fUxmin\":50,\"fUymin\":0,\"fUxmax\":650,\"fUymax\":1.1,\"fTheta\":30,\"fPhi\":30,\"fAspectRatio\":0,\"fNumber\":0,\"fTickx\":0,\"fTicky\":0,\"fLogx\":0,\"fLogy\":0,\"fLogz\":0,\"fPadPaint\":0,\"fCrosshair\":0,\"fCrosshairPos\":0,\"fBorderSize\":2,\"fBorderMode\":0,\"fModified\":false,\"fGridx\":true,\"fGridy\":true,\"fAbsCoord\":false,\"fEditable\":true,\"fFixedAspectRatio\":false,\"fPrimitives\":{\"_typename\":\"TList\",\"name\":\"TList\",\"arr\":[{\"_typename\":\"TFrame\",\"fUniqueID\":0,\"fBits\":50331656,\"fLineColor\":1,\"fLineStyle\":1,\"fLineWidth\":1,\"fFillColor\":0,\"fFillStyle\":1001,\"fX1\":50,\"fY1\":0,\"fX2\":650,\"fY2\":1.1,\"fBorderSize\":1,\"fBorderMode\":0},{\"_typename\":\"TGraphAsymmErrors\",\"fUniqueID\":0,\"fBits\":50332680,\"fName\":\"eff_graph\",\"fTitle\":\"Turn on L1\",\"fLineColor\":1,\"fLineStyle\":1,\"fLineWidth\":1,\"fFillColor\":19,\"fFillStyle\":1001,\"fMarkerColor\":1,\"fMarkerStyle\":1,\"fMarkerSize\":1,\"fNpoints\":100,\"fX\":[102.5,107.5,112.5,117.5,122.5,127.5,132.5,137.5,142.5,147.5,152.5,157.5,162.5,167.5,172.5,177.5,182.5,187.5,192.5,197.5,202.5,207.5,212.5,217.5,222.5,227.5,232.5,237.5,242.5,247.5,252.5,257.5,262.5,267.5,272.5,277.5,282.5,287.5,292.5,297.5,302.5,307.5,312.5,317.5,322.5,327.5,332.5,337.5,342.5,347.5,352.5,357.5,362.5,367.5,372.5,377.5,382.5,387.5,392.5,397.5,402.5,407.5,412.5,417.5,422.5,427.5,432.5,437.5,442.5,447.5,452.5,457.5,462.5,467.5,472.5,477.5,482.5,487.5,492.5,497.5,502.5,507.5,512.5,517.5,522.5,527.5,532.5,537.5,542.5,547.5,552.5,557.5,562.5,567.5,572.5,577.5,582.5,587.5,592.5,597.5],\"fY\":[0,0,0,0,0,0,0,0,0,0,0,0,0,0,0,0,0,0,0.166666666666667,0.25,0.260869565217391,0.333333333333333,0.5,0.605263157894737,0.725490196078431,0.810344827586207,0.771428571428571,0.906976744186046,0.795918367346939,0.847619047619048,0.897810218978102,0.8984375,0.921052631578947,0.963414634146341,0.970238095238095,0.946107784431138,0.97979797979798,0.988095238095238,0.994764397905759,0.989473684210526,1,1,1,0.993975903614458,1,1,1,1,1,1,1,1,1,1,0.992857142857143,1,1,1,1,1,1,1,1,1,1,1,1,1,1,1,1,1,1,1,1,1,1,1,1,1,1,1,1,1,1,1,1,1,1,1,1,1,1,1,1,1,1,1,1,1],\"fFunctions\":{\"_typename\":\"TList\",\"name\":\"TList\",\"arr\":[],\"opt\":[]},\"fHistogram\":{\"_typename\":\"TH1F\",\"fUniqueID\":0,\"fBits\":50332168,\"fName\":\"eff_graph\",\"fTitle\":\"Turn on L1\",\"fLineColor\":602,\"fLineStyle\":1,\"fLineWidth\":1,\"fFillColor\":0,\"fFillStyle\":1001,\"fMarkerColor\":1,\"fMarkerStyle\":1,\"fMarkerSize\":1,\"fNcells\":102,\"fXaxis\":{\"_typename\":\"TAxis\",\"fUniqueID\":0,\"fBits\":50331656,\"fName\":\"xaxis\",\"fTitle\":\"#sum_{i=1}^{4}(p_{i}^{T})\",\"fNdivisions\":510,\"fAxisColor\":1,\"fLabelColor\":1,\"fLabelFont\":42,\"fLabelOffset\":0.005,\"fLabelSize\":0.02,\"fTickLength\":0.03,\"fTitleOffset\":1.2,\"fTitleSize\":0.03,\"fTitleColor\":1,\"fTitleFont\":42,\"fNbins\":100,\"fXmin\":50,\"fXmax\":650,\"fXbins\":[],\"fFirst\":0,\"fLast\":0,\"fBits2\":0,\"fTimeDisplay\":false,\"fTimeFormat\":\"\",\"fLabels\":null,\"fModLabs\":null},\"fYaxis\":{\"_typename\":\"TAxis\",\"fUniqueID\":0,\"fBits\":50331656,\"fName\":\"yaxis\",\"fTitle\":\"Efficiency\",\"fNdivisions\":510,\"fAxisColor\":1,\"fLabelColor\":1,\"fLabelFont\":42,\"fLabelOffset\":0.005,\"fLabelSize\":0.02,\"fTickLength\":0.03,\"fTitleOffset\":1.2,\"fTitleSize\":0.035,\"fTitleColor\":1,\"fTitleFont\":42,\"fNbins\":1,\"fXmin\":0,\"fXmax\":1.1,\"fXbins\":[],\"fFirst\":0,\"fLast\":0,\"fBits2\":0,\"fTimeDisplay\":false,\"fTimeFormat\":\"\",\"fLabels\":null,\"fModLabs\":null},\"fZaxis\":{\"_typename\":\"TAxis\",\"fUniqueID\":0,\"fBits\":50331648,\"fName\":\"zaxis\",\"fTitle\":\"\",\"fNdivisions\":510,\"fAxisColor\":1,\"fLabelColor\":1,\"fLabelFont\":42,\"fLabelOffset\":0.005,\"fLabelSize\":0.035,\"fTickLength\":0.03,\"fTitleOffset\":1,\"fTitleSize\":0.035,\"fTitleColor\":1,\"fTitleFont\":42,\"fNbins\":1,\"fXmin\":0,\"fXmax\":1,\"fXbins\":[],\"fFirst\":0,\"fLast\":0,\"fBits2\":0,\"fTimeDisplay\":false,\"fTimeFormat\":\"\",\"fLabels\":null,\"fModLabs\":null},\"fBarOffset\":0,\"fBarWidth\":1000,\"fEntries\":0,\"fTsumw\":0,\"fTsumw2\":0,\"fTsumwx\":0,\"fTsumwx2\":0,\"fMaximum\":1.1,\"fMinimum\":0,\"fNormFactor\":0,\"fContour\":[],\"fSumw2\":[],\"fOption\":\"\",\"fFunctions\":{\"_typename\":\"TList\",\"name\":\"TList\",\"arr\":[],\"opt\":[]},\"fBufferSize\":0,\"fBuffer\":[],\"fBinStatErrOpt\":0,\"fStatOverflows\":2,\"fArray\":[0,0,0,0,0,0,0,0,0,0,0,0,0,0,0,0,0,0,0,0,0,0,0,0,0,0,0,0,0,0,0,0,0,0,0,0,0,0,0,0,0,0,0,0,0,0,0,0,0,0,0,0,0,0,0,0,0,0,0,0,0,0,0,0,0,0,0,0,0,0,0,0,0,0,0,0,0,0,0,0,0,0,0,0,0,0,0,0,0,0,0,0,0,0,0,0,0,0,0,0,0,0]},\"fMinimum\":-1111,\"fMaximum\":-1111,\"fEXlow\":[2.5,2.5,2.5,2.5,2.5,2.5,2.5,2.5,2.5,2.5,2.5,2.5,2.5,2.5,2.5,2.5,2.5,2.5,2.5,2.5,2.5,2.5,2.5,2.5,2.5,2.5,2.5,2.5,2.5,2.5,2.5,2.5,2.5,2.5,2.5,2.5,2.5,2.5,2.5,2.5,2.5,2.5,2.5,2.5,2.5,2.5,2.5,2.5,2.5,2.5,2.5,2.5,2.5,2.5,2.5,2.5,2.5,2.5,2.5,2.5,2.5,2.5,2.5,2.5,2.5,2.5,2.5,2.5,2.5,2.5,2.5,2.5,2.5,2.5,2.5,2.5,2.5,2.5,2.5,2.5,2.5,2.5,2.5,2.5,2.5,2.5,2.5,2.5,2.5,2.5,2.5,2.5,2.5,2.5,2.5,2.5,2.5,2.5,2.5,2.5],\"fEXhigh\":[2.5,2.5,2.5,2.5,2.5,2.5,2.5,2.5,2.5,2.5,2.5,2.5,2.5,2.5,2.5,2.5,2.5,2.5,2.5,2.5,2.5,2.5,2.5,2.5,2.5,2.5,2.5,2.5,2.5,2.5,2.5,2.5,2.5,2.5,2.5,2.5,2.5,2.5,2.5,2.5,2.5,2.5,2.5,2.5,2.5,2.5,2.5,2.5,2.5,2.5,2.5,2.5,2.5,2.5,2.5,2.5,2.5,2.5,2.5,2.5,2.5,2.5,2.5,2.5,2.5,2.5,2.5,2.5,2.5,2.5,2.5,2.5,2.5,2.5,2.5,2.5,2.5,2.5,2.5,2.5,2.5,2.5,2.5,2.5,2.5,2.5,2.5,2.5,2.5,2.5,2.5,2.5,2.5,2.5,2.5,2.5,2.5,2.5,2.5,2.5],\"fEYlow\":[0,0,0,0,0,0,0,0,0,0,0,0,0,0,0,0,0,0,0.138284918684358,0.103407053241454,0.0982073963262148,0.11379539603207,0.140781962912082,0.0942555001515447,0.0766299264653761,0.0658482133713267,0.0613515775932181,0.0426731831542304,0.0490005207713626,0.0434582158284751,0.0328083299285391,0.0341364724181864,0.0283527414600189,0.0212128523775851,0.0196318155023817,0.0236427613407902,0.0156849555387483,0.0154854637252847,0.0119357354351186,0.0137144744425092,0.00949362057545933,0.0109635391973244,0.011807299242743,0.0137153850978463,0.00925499555162712,0.0124458583957298,0.0102323269919731,0.0100645139114659,0.0126164379430412,0.0108986369562851,0.0121984657061449,0.0136450186317176,0.011029219057088,0.0127034932291119,0.0162324461011638,0.013064069083245,0.0161602264504312,0.0141701307039481,0.016597282276798,0.0158814227647034,0.0140618997108862,0.017218172188649,0.0180628130465114,0.0188006259955085,0.0178873200205321,0.0219367944411666,0.0189945940721854,0.0193947899446367,0.0219367944411666,0.0189945940721854,0.0216784936250658,0.0242481288467044,0.0283561617298758,0.0297297933358672,0.0245717472979106,0.0335183759790548,0.0287997155518822,0.0224723120781868,0.032919094774621,0.0255965898839809,0.0384134220122768,0.032919094774621,0.0341398789237802,0.0302177275614371,0.0361508045846741,0.0439097503161201,0.0376283935404037,0.0485397238305491,0.0498538747269528,0.0527078145683003,0.0472930621819746,0.0485397238305491,0.0738408910803759,0.061510400441356,0.0683597389517409,0.0472930621819746,0.0527078145683003,0.061510400441356,0.0542608942473647,0.0683597389517409],\"fEYhigh\":[0.0709947284972286,0.108690770511833,0.0595223440638972,0.123222080425105,0.0839347629722476,0.20556785742921,0.0972223406286151,0.0738408910803759,0.0769246569291222,0.0972223406286151,0.123222080425105,0.0879414416485934,0.0923494906334009,0.0839347629722476,0.0972223406286151,0.102637515420034,0.0879414416485934,0.0972223406286151,0.287350389331609,0.133747879731295,0.123154265968212,0.132696140928344,0.140781962912082,0.0879104872484716,0.066534391818372,0.0535001120016638,0.0525767416986581,0.031542216347224,0.0422498339641549,0.035984843447347,0.0262133884048367,0.0270366819126659,0.0220068689802122,0.0144175765899043,0.0127962607867028,0.0174101585582808,0.00964385961178171,0.00768569123786744,0.00433154095673893,0.00679614780434223,0,0,0,0.00498395229500592,0,0,0,0,0,0,0,0,0,0,0.00590966258852144,0,0,0,0,0,0,0,0,0,0,0,0,0,0,0,0,0,0,0,0,0,0,0,0,0,0,0,0,0,0,0,0,0,0,0,0,0,0,0,0,0,0,0,0,0]},{\"_typename\":\"TPaveText\",\"fUniqueID\":0,\"fBits\":50331657,\"fLineColor\":1,\"fLineStyle\":1,\"fLineWidth\":1,\"fFillColor\":0,\"fFillStyle\":0,\"fX1\":271.379309173288,\"fY1\":1.12504465798249,\"fX2\":474.956898413727,\"fY2\":1.23062501669861,\"fX1NDC\":0.395172413793103,\"fY1NDC\":0.918214290482657,\"fX2NDC\":0.666609195402299,\"fY2NDC\":0.995000004768372,\"fBorderSize\":0,\"fInit\":1,\"fShadowColor\":1,\"fCornerRadius\":0,\"fOption\":\"blNDC\",\"fName\":\"title\",\"fTextAngle\":0,\"fTextSize\":0,\"fTextAlign\":22,\"fTextColor\":1,\"fTextFont\":42,\"fLabel\":\"\",\"fLongest\":11,\"fMargin\":0.05,\"fLines\":{\"_typename\":\"TList\",\"name\":\"TList\",\"arr\":[{\"_typename\":\"TLatex\",\"fUniqueID\":0,\"fBits\":50331648,\"fName\":\"\",\"fTitle\":\"Turn on L1\",\"fTextAngle\":0,\"fTextSize\":0,\"fTextAlign\":0,\"fTextColor\":0,\"fTextFont\":0,\"fX\":0,\"fY\":0,\"fLineColor\":1,\"fLineStyle\":1,\"fLineWidth\":2,\"fLimitFactorSize\":3,\"fOriginSize\":0.0652678534388542}],\"opt\":[\"\"]}},{\"$ref\":3},{\"$ref\":3},{\"$ref\":3},{\"$ref\":3},{\"$ref\":3},{\"$ref\":3},{\"$ref\":3},{\"$ref\":3},{\"$ref\":3},{\"$ref\":3},{\"$ref\":3},{\"$ref\":3}],\"opt\":[\"\",\"alp\",\"blNDC\",\"\",\"\",\"\",\"\",\"\",\"\",\"\",\"\",\"\",\"\",\"\",\"\"]},\"fExecs\":null,\"fName\":\"\",\"fTitle\":\"\",\"fNumPaletteColor\":0,\"fNextPaletteColor\":0,\"fDISPLAY\":\"$DISPLAY\",\"fDoubleBuffer\":0,\"fRetained\":true,\"fXsizeUser\":0,\"fYsizeUser\":0,\"fXsizeReal\":20,\"fYsizeReal\":20,\"fWindowTopX\":0,\"fWindowTopY\":0,\"fWindowWidth\":0,\"fWindowHeight\":0,\"fCw\":696,\"fCh\":672,\"fCatt\":{\"_typename\":\"TAttCanvas\",\"fXBetween\":2,\"fYBetween\":2,\"fTitleFromTop\":1.2,\"fXdate\":0.2,\"fYdate\":0.3,\"fAdate\":1},\"kMoveOpaque\":true,\"kResizeOpaque\":true,\"fHighLightColor\":2,\"fBatch\":true,\"kShowEventStatus\":false,\"kAutoExec\":true,\"kMenuBar\":true});\n",
       "       Core.draw(\"root_plot_19\", obj, \"\");\n",
       "     }\n",
       " );\n",
       "</script>\n"
      ],
      "text/plain": [
       "<IPython.core.display.HTML object>"
      ]
     },
     "metadata": {},
     "output_type": "display_data"
    }
   ],
   "source": [
    "graph.SetTitle(titles[0])\n",
    "graph.GetYaxis().SetTitle('Efficiency')\n",
    "graph.GetXaxis().SetTitle(xtitle[0])\n",
    "graph.GetYaxis().SetLabelSize(0.02)\n",
    "graph.GetYaxis().SetTitleOffset(1.2)\n",
    "graph.GetXaxis().SetLabelSize(0.02)\n",
    "graph.GetXaxis().SetTitleOffset(1.2)\n",
    "graph.GetXaxis().SetTitleSize(0.03)\n",
    "ROOT.gPad.Update()\n",
    "graph.Draw()\n",
    "c1.SetGridx()\n",
    "c1.SetGridy()\n",
    "c1.Draw()"
   ]
  },
  {
   "cell_type": "code",
   "execution_count": null,
   "metadata": {},
   "outputs": [],
   "source": []
  }
 ],
 "metadata": {
  "kernelspec": {
   "display_name": "Python 3",
   "language": "python",
   "name": "python3"
  },
  "language_info": {
   "codemirror_mode": {
    "name": "ipython",
    "version": 3
   },
   "file_extension": ".py",
   "mimetype": "text/x-python",
   "name": "python",
   "nbconvert_exporter": "python",
   "pygments_lexer": "ipython3",
   "version": "3.7.2"
  }
 },
 "nbformat": 4,
 "nbformat_minor": 2
}
