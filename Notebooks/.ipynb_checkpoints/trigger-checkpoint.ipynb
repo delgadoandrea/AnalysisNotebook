{
 "cells": [
  {
   "cell_type": "code",
   "execution_count": 1,
   "metadata": {},
   "outputs": [
    {
     "name": "stdout",
     "output_type": "stream",
     "text": [
      "Welcome to JupyROOT 6.18/00\n"
     ]
    }
   ],
   "source": [
    "import ROOT\n",
    "import PlotTools\n",
    "from ROOT import TFile, TCanvas, kRed, THStack, kYellow, kGreen, kBlack, TLegend, TGraphAsymmErrors\n",
    "ROOT.enableJSVis()\n",
    "#from rootpy.io import root_open\n",
    "ROOT.gROOT.SetBatch(True)"
   ]
  },
  {
   "cell_type": "code",
   "execution_count": 28,
   "metadata": {},
   "outputs": [
    {
     "data": {
      "text/plain": [
       "True"
      ]
     },
     "execution_count": 28,
     "metadata": {},
     "output_type": "execute_result"
    }
   ],
   "source": [
    "file = ROOT.TFile.Open('../data/trigger/weightHistosAll.root','read')\n",
    "#file = ROOT.TFile.Open('../data/trigger/weightHistosAllQuad45.root','read')\n",
    "file.cd()"
   ]
  },
  {
   "cell_type": "code",
   "execution_count": 29,
   "metadata": {},
   "outputs": [],
   "source": [
    "names = ['L1Quad30_caloT','Quad30Calo_caloT','Di90Calo_caloT','Di90Di30LeadCSV3_min_PF','Quad30PF_PfT','Di90PF_PfT']\n",
    "titles = ['Turn on L1', 'Turn on hltQuadCentralJet30', 'Turn on hltDoubleCentralJet90', 'Turn on hltBTagCaloCSVp087Triple', 'Turn on hltQuadPFCentralJetLooseID30', 'Turn on hltDoublePFCentralJetLooseID90']\n",
    "xtitle = ['#sum_{i=1}^{4}(p_{i}^{T})', 'p_{T,4}^{calo}', 'p_{T,2}^{calo}','CSV_{3}', 'p_{T,4}^{PF}', 'p_{T,2}^{PF}']\n",
    "\n",
    "#names = ['L1Quad45_caloT','Quad45Calo_caloT', 'Quad45LeadCSV3_min_PF', 'Quad45PF_PfT']\n",
    "#titles = ['Turn on L1', 'Turn on hltQuadCentralJet45', 'Turn on hltBTagCaloCSVp087Triple', 'Turn on hltQuadPFCentralJetLooseID45']\n",
    "#xtitle = ['#sum_{i=1}^{4}(p_{i}^{T})', 'p_{T,4}^{calo}','CSV_{3}', 'p_{T,4}^{PF}']\n"
   ]
  },
  {
   "cell_type": "code",
   "execution_count": 4,
   "metadata": {},
   "outputs": [],
   "source": [
    "class HistogramNotFoundError(KeyError):\n",
    "     pass\n",
    "def get_histogram(file,name):\n",
    "    hist = file.Get(name)\n",
    "    if not hist:\n",
    "        raise HistogramNotFoundError(name)\n",
    "    return hist"
   ]
  },
  {
   "cell_type": "code",
   "execution_count": 35,
   "metadata": {},
   "outputs": [],
   "source": [
    "histogram = get_histogram(file,names[5])"
   ]
  },
  {
   "cell_type": "code",
   "execution_count": 38,
   "metadata": {},
   "outputs": [
    {
     "name": "stdout",
     "output_type": "stream",
     "text": [
      "Di90PF_PfT\n"
     ]
    },
    {
     "name": "stderr",
     "output_type": "stream",
     "text": [
      "Warning in <TCanvas::Constructor>: Deleting canvas with same name: \n",
      "Info in <TCanvas::Print>: png file ../plots/Di90PF_PfT.png has been created\n"
     ]
    },
    {
     "data": {
      "text/html": [
       "\n",
       "<div id=\"root_plot_17\"\n",
       "     style=\"width: 696px; height: 672px\">\n",
       "</div>\n",
       "\n",
       "<script>\n",
       " requirejs.config({\n",
       "     paths: {\n",
       "       'JSRootCore' : 'https://root.cern.ch/js/notebook//scripts/JSRootCore',\n",
       "     }\n",
       "   });\n",
       " require(['JSRootCore'],\n",
       "     function(Core) {\n",
       "       var obj = Core.JSONR_unref({\"_typename\":\"TCanvas\",\"fUniqueID\":0,\"fBits\":53673992,\"fLineColor\":1,\"fLineStyle\":1,\"fLineWidth\":1,\"fFillColor\":0,\"fFillStyle\":1001,\"fLeftMargin\":0.1,\"fRightMargin\":0.1,\"fBottomMargin\":0.1,\"fTopMargin\":0.1,\"fXfile\":2,\"fYfile\":2,\"fAfile\":1,\"fXstat\":0.99,\"fYstat\":0.99,\"fAstat\":2,\"fFrameFillColor\":0,\"fFrameLineColor\":1,\"fFrameFillStyle\":1001,\"fFrameLineStyle\":1,\"fFrameLineWidth\":1,\"fFrameBorderSize\":1,\"fFrameBorderMode\":0,\"fX1\":39.9999991059303,\"fY1\":-0.137500010244549,\"fX2\":160.00000089407,\"fY2\":1.23750001024455,\"fXtoAbsPixelk\":-231.999941357326,\"fXtoPixelk\":-231.999941357326,\"fXtoPixel\":5.79999991357326,\"fYtoAbsPixelk\":604.800045994568,\"fYtoPixelk\":604.800045994568,\"fYtoPixel\":-488.727265444668,\"fUtoAbsPixelk\":5e-5,\"fUtoPixelk\":5e-5,\"fUtoPixel\":696,\"fVtoAbsPixelk\":672.00005,\"fVtoPixelk\":672,\"fVtoPixel\":-672,\"fAbsPixeltoXk\":39.9999991059303,\"fPixeltoXk\":39.9999991059303,\"fPixeltoX\":0.172413795672614,\"fAbsPixeltoYk\":1.23750001024455,\"fPixeltoYk\":-0.137500010244549,\"fPixeltoY\":-0.00204613098287068,\"fXlowNDC\":0,\"fYlowNDC\":0,\"fXUpNDC\":0,\"fYUpNDC\":0,\"fWNDC\":1,\"fHNDC\":1,\"fAbsXlowNDC\":0,\"fAbsYlowNDC\":0,\"fAbsWNDC\":1,\"fAbsHNDC\":1,\"fUxmin\":52,\"fUymin\":0,\"fUxmax\":148,\"fUymax\":1.1,\"fTheta\":30,\"fPhi\":30,\"fAspectRatio\":0,\"fNumber\":0,\"fTickx\":0,\"fTicky\":0,\"fLogx\":0,\"fLogy\":0,\"fLogz\":0,\"fPadPaint\":0,\"fCrosshair\":0,\"fCrosshairPos\":0,\"fBorderSize\":2,\"fBorderMode\":0,\"fModified\":false,\"fGridx\":true,\"fGridy\":true,\"fAbsCoord\":false,\"fEditable\":true,\"fFixedAspectRatio\":false,\"fPrimitives\":{\"_typename\":\"TList\",\"name\":\"TList\",\"arr\":[{\"_typename\":\"TFrame\",\"fUniqueID\":0,\"fBits\":50331656,\"fLineColor\":1,\"fLineStyle\":1,\"fLineWidth\":1,\"fFillColor\":0,\"fFillStyle\":1001,\"fX1\":52,\"fY1\":0,\"fX2\":148,\"fY2\":1.1,\"fBorderSize\":1,\"fBorderMode\":0},{\"_typename\":\"TGraphAsymmErrors\",\"fUniqueID\":0,\"fBits\":50332680,\"fName\":\"eff_graph\",\"fTitle\":\"Turn on hltDoublePFCentralJetLooseID90\",\"fLineColor\":1,\"fLineStyle\":1,\"fLineWidth\":1,\"fFillColor\":19,\"fFillStyle\":1001,\"fMarkerColor\":1,\"fMarkerStyle\":1,\"fMarkerSize\":1,\"fNpoints\":34,\"fX\":[61,75,77,79,81,83,85,87,89,91,93,95,97,99,101,103,105,107,109,111,113,115,117,119,121,123,125,127,129,131,133,135,137,139],\"fY\":[0,0,0,0,0,0,0,0,0,0.863636363636364,0.892857142857143,0.956521739130435,0.96551724137931,1,1,0.926829268292683,1,1,0.921052631578947,1,1,0.975,0.935483870967742,0.92,1,1,1,0.95,1,1,1,1,1,0.956521739130435],\"fFunctions\":{\"_typename\":\"TList\",\"name\":\"TList\",\"arr\":[],\"opt\":[]},\"fHistogram\":{\"_typename\":\"TH1F\",\"fUniqueID\":0,\"fBits\":50332168,\"fName\":\"eff_graph\",\"fTitle\":\"Turn on hltDoublePFCentralJetLooseID90\",\"fLineColor\":602,\"fLineStyle\":1,\"fLineWidth\":1,\"fFillColor\":0,\"fFillStyle\":1001,\"fMarkerColor\":1,\"fMarkerStyle\":1,\"fMarkerSize\":1,\"fNcells\":102,\"fXaxis\":{\"_typename\":\"TAxis\",\"fUniqueID\":0,\"fBits\":50331656,\"fName\":\"xaxis\",\"fTitle\":\"p_{T,2}^{PF}\",\"fNdivisions\":510,\"fAxisColor\":1,\"fLabelColor\":1,\"fLabelFont\":42,\"fLabelOffset\":0.005,\"fLabelSize\":0.02,\"fTickLength\":0.03,\"fTitleOffset\":1.2,\"fTitleSize\":0.03,\"fTitleColor\":1,\"fTitleFont\":42,\"fNbins\":100,\"fXmin\":52,\"fXmax\":148,\"fXbins\":[],\"fFirst\":0,\"fLast\":0,\"fBits2\":0,\"fTimeDisplay\":false,\"fTimeFormat\":\"\",\"fLabels\":null,\"fModLabs\":null},\"fYaxis\":{\"_typename\":\"TAxis\",\"fUniqueID\":0,\"fBits\":50331656,\"fName\":\"yaxis\",\"fTitle\":\"Efficiency\",\"fNdivisions\":510,\"fAxisColor\":1,\"fLabelColor\":1,\"fLabelFont\":42,\"fLabelOffset\":0.005,\"fLabelSize\":0.02,\"fTickLength\":0.03,\"fTitleOffset\":1.2,\"fTitleSize\":0.035,\"fTitleColor\":1,\"fTitleFont\":42,\"fNbins\":1,\"fXmin\":0,\"fXmax\":1.1,\"fXbins\":[],\"fFirst\":0,\"fLast\":0,\"fBits2\":0,\"fTimeDisplay\":false,\"fTimeFormat\":\"\",\"fLabels\":null,\"fModLabs\":null},\"fZaxis\":{\"_typename\":\"TAxis\",\"fUniqueID\":0,\"fBits\":50331648,\"fName\":\"zaxis\",\"fTitle\":\"\",\"fNdivisions\":510,\"fAxisColor\":1,\"fLabelColor\":1,\"fLabelFont\":42,\"fLabelOffset\":0.005,\"fLabelSize\":0.035,\"fTickLength\":0.03,\"fTitleOffset\":1,\"fTitleSize\":0.035,\"fTitleColor\":1,\"fTitleFont\":42,\"fNbins\":1,\"fXmin\":0,\"fXmax\":1,\"fXbins\":[],\"fFirst\":0,\"fLast\":0,\"fBits2\":0,\"fTimeDisplay\":false,\"fTimeFormat\":\"\",\"fLabels\":null,\"fModLabs\":null},\"fBarOffset\":0,\"fBarWidth\":1000,\"fEntries\":0,\"fTsumw\":0,\"fTsumw2\":0,\"fTsumwx\":0,\"fTsumwx2\":0,\"fMaximum\":1.1,\"fMinimum\":0,\"fNormFactor\":0,\"fContour\":[],\"fSumw2\":[],\"fOption\":\"\",\"fFunctions\":{\"_typename\":\"TList\",\"name\":\"TList\",\"arr\":[],\"opt\":[]},\"fBufferSize\":0,\"fBuffer\":[],\"fBinStatErrOpt\":0,\"fStatOverflows\":2,\"fArray\":[0,0,0,0,0,0,0,0,0,0,0,0,0,0,0,0,0,0,0,0,0,0,0,0,0,0,0,0,0,0,0,0,0,0,0,0,0,0,0,0,0,0,0,0,0,0,0,0,0,0,0,0,0,0,0,0,0,0,0,0,0,0,0,0,0,0,0,0,0,0,0,0,0,0,0,0,0,0,0,0,0,0,0,0,0,0,0,0,0,0,0,0,0,0,0,0,0,0,0,0,0,0]},\"fMinimum\":-1111,\"fMaximum\":-1111,\"fEXlow\":[1,1,1,1,1,1,1,1,1,1,1,1,1,1,1,1,1,1,1,1,1,1,1,1,1,1,1,1,1,1,1,1,1,1],\"fEXhigh\":[1,1,1,1,1,1,1,1,1,1,1,1,1,1,1,1,1,1,1,1,1,1,1,1,1,1,1,1,1,1,1,1,1,1],\"fEYlow\":[0,0,0,0,0,0,0,0,0,0.115099114570068,0.0933526375589712,0.0929874729609617,0.0748730671055725,0.0738408910803759,0.108690770511833,0.066085765528607,0.0559082515517006,0.0595223440638972,0.0708737003562037,0.05765873693942,0.0384134220122768,0.0551515705063224,0.0788281007531622,0.0959186952466308,0.05765873693942,0.0472930621819746,0.0709947284972287,0.105764146315566,0.0542608942473647,0.0636357975793312,0.0769246569291222,0.0659132704298365,0.115501778684933,0.0929874729609617],\"fEYhigh\":[0.8413447460685,0.601684479424288,0.601684479424288,0.601684479424288,0.308024223477051,0.168149186137954,0.102637515420034,0.0923494906334009,0.115501778684933,0.0732667013517405,0.0577335828463932,0.0359953643230109,0.0285434396627295,0,0,0.0395567273914897,0,0,0.0426562617901811,0,0,0.0206904683215501,0.0415606565835892,0.0515010092745061,0,0,0,0.0413995087063876,0,0,0,0,0,0.0359953643230109]},{\"_typename\":\"TPaveText\",\"fUniqueID\":0,\"fBits\":50331657,\"fLineColor\":1,\"fLineStyle\":1,\"fLineWidth\":1,\"fFillColor\":0,\"fFillStyle\":0,\"fX1\":57.9999993741512,\"fY1\":1.15500001444481,\"fX2\":142.000000625849,\"fY2\":1.23062501669861,\"fX1NDC\":0.15,\"fY1NDC\":0.940000003948808,\"fX2NDC\":0.85,\"fY2NDC\":0.995000004768372,\"fBorderSize\":0,\"fInit\":1,\"fShadowColor\":1,\"fCornerRadius\":0,\"fOption\":\"blNDC\",\"fName\":\"title\",\"fTextAngle\":0,\"fTextSize\":0,\"fTextAlign\":22,\"fTextColor\":1,\"fTextFont\":42,\"fLabel\":\"\",\"fLongest\":38,\"fMargin\":0.05,\"fLines\":{\"_typename\":\"TList\",\"name\":\"TList\",\"arr\":[{\"_typename\":\"TLatex\",\"fUniqueID\":0,\"fBits\":50331648,\"fName\":\"\",\"fTitle\":\"Turn on hltDoublePFCentralJetLooseID90\",\"fTextAngle\":0,\"fTextSize\":0,\"fTextAlign\":0,\"fTextColor\":0,\"fTextFont\":0,\"fX\":0,\"fY\":0,\"fLineColor\":1,\"fLineStyle\":1,\"fLineWidth\":2,\"fLimitFactorSize\":3,\"fOriginSize\":0.0388765707612038}],\"opt\":[\"\"]}}],\"opt\":[\"\",\"alp\",\"blNDC\"]},\"fExecs\":null,\"fName\":\"\",\"fTitle\":\"\",\"fNumPaletteColor\":0,\"fNextPaletteColor\":0,\"fDISPLAY\":\"$DISPLAY\",\"fDoubleBuffer\":0,\"fRetained\":true,\"fXsizeUser\":0,\"fYsizeUser\":0,\"fXsizeReal\":20,\"fYsizeReal\":20,\"fWindowTopX\":0,\"fWindowTopY\":0,\"fWindowWidth\":0,\"fWindowHeight\":0,\"fCw\":696,\"fCh\":672,\"fCatt\":{\"_typename\":\"TAttCanvas\",\"fXBetween\":2,\"fYBetween\":2,\"fTitleFromTop\":1.2,\"fXdate\":0.2,\"fYdate\":0.3,\"fAdate\":1},\"kMoveOpaque\":true,\"kResizeOpaque\":true,\"fHighLightColor\":2,\"fBatch\":true,\"kShowEventStatus\":false,\"kAutoExec\":true,\"kMenuBar\":true});\n",
       "       Core.draw(\"root_plot_17\", obj, \"\");\n",
       "     }\n",
       " );\n",
       "</script>\n"
      ],
      "text/plain": [
       "<IPython.core.display.HTML object>"
      ]
     },
     "metadata": {},
     "output_type": "display_data"
    }
   ],
   "source": [
    "#histogram = get_histogram(file,names[0])\n",
    "c1 = ROOT.TCanvas(\"\",\"\",700,700)\n",
    "histogram.Draw()\n",
    "#ROOT.gPad.Update()\n",
    "    #graph = histogram.GetPaintedGraph()\n",
    "histogram.GetPaintedGraph().SetTitle(titles[5])\n",
    "histogram.GetPaintedGraph().GetYaxis().SetTitle('Efficiency')\n",
    "histogram.GetPaintedGraph().GetXaxis().SetTitle(xtitle[5])\n",
    "histogram.GetPaintedGraph().GetYaxis().SetLabelSize(0.02)\n",
    "histogram.GetPaintedGraph().GetYaxis().SetTitleOffset(1.2)\n",
    "histogram.GetPaintedGraph().GetXaxis().SetLabelSize(0.02)\n",
    "histogram.GetPaintedGraph().GetXaxis().SetTitleOffset(1.2)\n",
    "histogram.GetPaintedGraph().GetXaxis().SetTitleSize(0.03)\n",
    "histogram.GetPaintedGraph().Draw()\n",
    "ROOT.gPad.Update()\n",
    "    #graph.Draw()\n",
    "c1.SetGridx()\n",
    "c1.SetGridy()\n",
    "c1.Draw()\n",
    "print(histogram.GetName())\n",
    "outfile = '../plots/'+histogram.GetName()+'.png' \n",
    "c1.SaveAs(outfile)"
   ]
  },
  {
   "cell_type": "code",
   "execution_count": null,
   "metadata": {},
   "outputs": [],
   "source": []
  }
 ],
 "metadata": {
  "kernelspec": {
   "display_name": "Python 3",
   "language": "python",
   "name": "python3"
  },
  "language_info": {
   "codemirror_mode": {
    "name": "ipython",
    "version": 3
   },
   "file_extension": ".py",
   "mimetype": "text/x-python",
   "name": "python",
   "nbconvert_exporter": "python",
   "pygments_lexer": "ipython3",
   "version": "3.7.4"
  }
 },
 "nbformat": 4,
 "nbformat_minor": 2
}
