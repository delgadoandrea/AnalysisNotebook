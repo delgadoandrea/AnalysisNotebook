{
 "cells": [
  {
   "cell_type": "code",
   "execution_count": null,
   "metadata": {},
   "outputs": [],
   "source": [
    "import sys\n",
    "!{sys.executable} -m pip install mplbplot"
   ]
  },
  {
   "cell_type": "code",
   "execution_count": 1,
   "metadata": {},
   "outputs": [
    {
     "name": "stdout",
     "output_type": "stream",
     "text": [
      "Welcome to JupyROOT 6.18/00\n"
     ]
    }
   ],
   "source": [
    "import matplotlib.pyplot as plt\n",
    "import mplhep as hep\n",
    "plt.style.use(hep.cms.style.ROOT)\n",
    "import ROOT\n",
    "import PlotTools\n",
    "from ROOT import TLine, TFile, TCanvas, kRed, THStack, kYellow, kGreen, kBlack, TLegend, TGraphAsymmErrors"
   ]
  },
  {
   "cell_type": "code",
   "execution_count": 2,
   "metadata": {},
   "outputs": [
    {
     "data": {
      "text/plain": [
       "True"
      ]
     },
     "execution_count": 2,
     "metadata": {},
     "output_type": "execute_result"
    }
   ],
   "source": [
    "file = ROOT.TFile.Open('../data/shapes_Zprime_m500_gb1_dbs0.root','read')\n",
    "file.cd()"
   ]
  },
  {
   "cell_type": "code",
   "execution_count": 3,
   "metadata": {},
   "outputs": [],
   "source": [
    "mjjsr = file.Get('mjjsr')\n",
    "#mjjsr_dcr = file.Get('mjjsr_dcr')\n",
    "mjjsr_dcr_up = file.Get('mjjsr_TriggerUp')\n",
    "mjjsr_dcr_down = file.Get('mjjsr_TriggerDown')"
   ]
  },
  {
   "cell_type": "code",
   "execution_count": 4,
   "metadata": {},
   "outputs": [
    {
     "name": "stderr",
     "output_type": "stream",
     "text": [
      "INFO:rootpy.plotting.style] using ROOT style 'CMSTDR'\n",
      "IncrementalExecutor::executeFunction: symbol '_ZN7TTabComC1Ev' unresolved while linking [cling interface function]!\n",
      "You are probably missing the definition of TTabCom::TTabCom()\n",
      "Maybe you need to load the corresponding shared library?\n",
      "IncrementalExecutor::executeFunction: symbol '_ZN7TTabCom4HookEPcPiRNSt3__113basic_ostreamIcNS2_11char_traitsIcEEEE' unresolved while linking [cling interface function]!\n",
      "You are probably missing the definition of TTabCom::Hook(char*, int*, std::__1::basic_ostream<char, std::__1::char_traits<char> >&)\n",
      "Maybe you need to load the corresponding shared library?\n",
      "Error in Interpreter::toString: the input *((std::string*)0x7ffee276a0b8) = cling::printValue((TH1F*)0x7fa31d6ba230); cannot be evaluated"
     ]
    },
    {
     "data": {
      "image/png": "[encoded data removed]",
      "text/plain": [
       "<IPython.core.display.Image object>"
      ]
     },
     "metadata": {},
     "output_type": "display_data"
    }
   ],
   "source": [
    "from rootpy.plotting.style import get_style\n",
    "from rootpy.plotting.style.cmstdr.labels import CMS_label\n",
    "\n",
    "style = get_style('CMSTDR')\n",
    "\n",
    "with style:\n",
    "    c1 = ROOT.TCanvas(\"\",\"\",700,700)\n",
    "    mjjsr.SetStats(0)\n",
    "    mjjsr.SetTitle(\"\")\n",
    "    mjjsr.GetYaxis().SetTitle('A.U.')\n",
    "    mjjsr.GetXaxis().SetTitle('m_{jj}[GeV]')\n",
    "    mjjsr.GetYaxis().SetLabelSize(0.02)\n",
    "    mjjsr.GetYaxis().SetTitleOffset(1.2)\n",
    "    mjjsr.GetXaxis().SetLabelSize(0.02)\n",
    "    mjjsr.GetXaxis().SetTitleOffset(1.2)\n",
    "    mjjsr.GetXaxis().SetTitleSize(0.03)\n",
    "    mjjsr.SetMarkerStyle(20)\n",
    "    mjjsr.SetLineColor(kBlack)\n",
    "    mjjsr.SetMarkerColor(kBlack)\n",
    "    mjjsr_dcr_up.SetLineColor(kRed)\n",
    "    mjjsr_dcr_up.SetMarkerColor(kRed)\n",
    "    mjjsr_dcr_up.SetMarkerStyle(21)\n",
    "    mjjsr.Rebin(2)\n",
    "    mjjsr_dcr_up.Rebin(2)\n",
    "    mjjsr_dcr_down.Rebin(2)\n",
    "    mjjsr.Draw()\n",
    "    mjjsr_dcr_down.SetMarkerStyle(21)\n",
    "    mjjsr_dcr_down.SetLineColor(kGreen)\n",
    "    mjjsr_dcr_down.SetMarkerColor(kGreen)\n",
    "    mjjsr_dcr_up.Draw('same')\n",
    "    mjjsr_dcr_down.Draw('same')\n",
    "    ROOT.gPad.Update()\n",
    "    #graph.Draw()\n",
    "    \n",
    "    leg = TLegend(.63,.63,.97,.92)\n",
    "    leg.SetBorderSize(0)\n",
    "    leg.SetFillColor(0)\n",
    "    leg.SetFillStyle(0)\n",
    "    leg.SetTextFont(42)\n",
    "    leg.SetTextSize(0.035)\n",
    "    leg.AddEntry(mjjsr,\"Nominal\",\"APL\")\n",
    "    leg.AddEntry(mjjsr_dcr_up,\"Scale Up\",\"APL\")\n",
    "    leg.AddEntry(mjjsr_dcr_down,\"Scale Down\",\"APL\")\n",
    "    leg.Draw(\"same\")\n",
    "    c1.SetGridx()\n",
    "    c1.SetGridy()\n",
    "    c1.Draw()\n",
    "    CMS_label(\"\", sqrts=13)"
   ]
  },
  {
   "cell_type": "code",
   "execution_count": 5,
   "metadata": {},
   "outputs": [
    {
     "name": "stderr",
     "output_type": "stream",
     "text": [
      "INFO:ROOT.TCanvas.Print] png file ../plots/TriggerUnc_SR_Zp500GeV.png has been created\n"
     ]
    }
   ],
   "source": [
    "c1.SaveAs('../plots/TriggerUnc_SR_Zp500GeV.png')"
   ]
  },
  {
   "cell_type": "code",
   "execution_count": null,
   "metadata": {},
   "outputs": [],
   "source": [
    "with style:\n",
    "    line = TLine(120,1,1200,1)\n",
    "    line.SetLineStyle(2)\n",
    "\n",
    "    canvas, pad1, pad2 = PlotTools.createCanvasPads()\n",
    "    pad1.cd()\n",
    "    pad1.SetGridx()\n",
    "    pad1.SetGridy()\n",
    "    mjjsr.Draw()\n",
    "    mjjsr_dcr.Draw(\"same\")\n",
    "    leg = TLegend(.63,.63,.97,.92)\n",
    "    leg.SetBorderSize(0)\n",
    "    leg.SetFillColor(0)\n",
    "    leg.SetFillStyle(0)\n",
    "    leg.SetTextFont(42)\n",
    "    leg.SetTextSize(0.035)\n",
    "    leg.AddEntry(mjjsr,\"Nominal\",\"APL\")\n",
    "    leg.AddEntry(mjjsr_dcr,\"+ DeepCSV Weight\",\"APL\")\n",
    "    leg.Draw(\"same\")\n",
    "\n",
    "    h3 = PlotTools.createRatio(mjjsr, mjjsr_dcr, \"Ratio\")\n",
    "    pad2.cd()\n",
    "    h3.GetYaxis().SetRangeUser(0.2,1.8)\n",
    "    h3.Draw(\"ep\")\n",
    "    line.Draw(\"same\")\n",
    "    canvas.Draw()\n",
    "    CMS_label(\"Preliminary\", sqrts=13)\n"
   ]
  },
  {
   "cell_type": "code",
   "execution_count": null,
   "metadata": {},
   "outputs": [],
   "source": [
    "canvas.SaveAs('../plots/DeepCSVSF_SR_Zp500GeV.png')"
   ]
  },
  {
   "cell_type": "code",
   "execution_count": null,
   "metadata": {},
   "outputs": [],
   "source": []
  }
 ],
 "metadata": {
  "kernelspec": {
   "display_name": "Python 3",
   "language": "python",
   "name": "python3"
  },
  "language_info": {
   "codemirror_mode": {
    "name": "ipython",
    "version": 3
   },
   "file_extension": ".py",
   "mimetype": "text/x-python",
   "name": "python",
   "nbconvert_exporter": "python",
   "pygments_lexer": "ipython3",
   "version": "3.7.4"
  }
 },
 "nbformat": 4,
 "nbformat_minor": 2
}
