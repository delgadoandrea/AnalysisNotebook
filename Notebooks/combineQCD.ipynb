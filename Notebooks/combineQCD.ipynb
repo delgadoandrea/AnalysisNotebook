{
 "cells": [
  {
   "cell_type": "code",
   "execution_count": 1,
   "metadata": {},
   "outputs": [
    {
     "name": "stdout",
     "output_type": "stream",
     "text": [
      "Welcome to JupyROOT 6.18/00\n"
     ]
    }
   ],
   "source": [
    "import ROOT"
   ]
  },
  {
   "cell_type": "code",
   "execution_count": 2,
   "metadata": {},
   "outputs": [],
   "source": [
    "bins = ['100to200', '200to300', '300to500', '500to700', '700to1000', '1000to1500', '1500to2000', '2000toInf']\n",
    "names = ['mjjsr','mjjcr0p','mjjcr1','mjjcr1p','mjjcr2','mjjcr2p','mjjcr3','mjjcr3p']\n",
    "events = [9512256]\n",
    "xsec = [28060000]\n",
    "weight = [x/y for x, y in zip(xsec, events)]\n",
    "lumi = 35.9"
   ]
  },
  {
   "cell_type": "code",
   "execution_count": 4,
   "metadata": {},
   "outputs": [],
   "source": [
    "file0 = ROOT.TFile.Open('../data/MC/mjj_DenisSel_QCD_HT100to200.root','read')\n",
    "histo = file0.Get(names[0])\n",
    "histo.Scale(1/weight[0]*lumi*1000)"
   ]
  },
  {
   "cell_type": "code",
   "execution_count": 6,
   "metadata": {},
   "outputs": [
    {
     "name": "stdout",
     "output_type": "stream",
     "text": [
      "../data/MC/mjj_DenisSel_QCD_HT100to200.root\n",
      "../data/MC/mjj_DenisSel_QCD_HT200to300.root\n",
      "../data/MC/mjj_DenisSel_QCD_HT300to500.root\n",
      "../data/MC/mjj_DenisSel_QCD_HT500to700.root\n",
      "../data/MC/mjj_DenisSel_QCD_HT700to1000.root\n",
      "../data/MC/mjj_DenisSel_QCD_HT1000to1500.root\n",
      "../data/MC/mjj_DenisSel_QCD_HT1500to2000.root\n",
      "../data/MC/mjj_DenisSel_QCD_HT2000toInf.root\n"
     ]
    }
   ],
   "source": [
    "for f in range(0,len(bins)):\n",
    "    filename = '../data/MC/mjj_DenisSel_QCD_HT%s.root' %bins[f]\n",
    "    "
   ]
  },
  {
   "cell_type": "code",
   "execution_count": null,
   "metadata": {},
   "outputs": [],
   "source": [
    "c = ROOT.TCanvas('','',700,700)\n",
    "mjjsr.Draw()\n",
    "c.Draw()"
   ]
  },
  {
   "cell_type": "code",
   "execution_count": null,
   "metadata": {},
   "outputs": [],
   "source": []
  },
  {
   "cell_type": "code",
   "execution_count": null,
   "metadata": {},
   "outputs": [],
   "source": []
  }
 ],
 "metadata": {
  "kernelspec": {
   "display_name": "Python (myenv)",
   "language": "python",
   "name": "myenv"
  },
  "language_info": {
   "codemirror_mode": {
    "name": "ipython",
    "version": 3
   },
   "file_extension": ".py",
   "mimetype": "text/x-python",
   "name": "python",
   "nbconvert_exporter": "python",
   "pygments_lexer": "ipython3",
   "version": "3.7.4"
  }
 },
 "nbformat": 4,
 "nbformat_minor": 2
}
