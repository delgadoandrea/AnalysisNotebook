{
 "cells": [
  {
   "cell_type": "code",
   "execution_count": 1,
   "metadata": {},
   "outputs": [
    {
     "name": "stdout",
     "output_type": "stream",
     "text": [
      "Welcome to JupyROOT 6.16/00\n"
     ]
    }
   ],
   "source": [
    "import ROOT"
   ]
  },
  {
   "cell_type": "code",
   "execution_count": 4,
   "metadata": {},
   "outputs": [],
   "source": [
    "bins = ['100to200', '200to300', '300to500', '500to700', '700to1000', '1000to1500', '1500to2000', '2000toInf']\n",
    "names = ['mjjsr','mjjcr0p','mjjcr1','mjjcr1p','mjjcr2','mjjcr2p','mjjcr3','mjjcr3p']\n",
    "events = [9512256,16981775,15754319,17684365,15045621,4270254,3832009,1723623]\n",
    "xsec = [28060000,1710000,347500,32060,6829,1207,120,25.25]\n",
    "real_ev = [82293477,18722416,17035891,18560541,15629253,4850746,3970819,1991645]\n",
    "weight = [x/y for x, y in zip(xsec, real_ev)]\n",
    "ev_weight = [x/y for x, y in zip(events, real_ev)]\n",
    "lumi = 35.9"
   ]
  },
  {
   "cell_type": "code",
   "execution_count": 5,
   "metadata": {},
   "outputs": [],
   "source": [
    "file0 = ROOT.TFile.Open('../data/MC/mjj_DenisSel_QCD_HT200to300.root','read')\n",
    "myfile = ROOT.TFile( '../data/MC/mjj_QCDHT200toInf_weight.root', 'RECREATE' )\n",
    "\n",
    "for n in range(0, len(names)):\n",
    "    histo = file0.Get(names[n])\n",
    "    histo.Scale(ev_weight[1]*weight[1]*lumi*1000)\n",
    "    for f in range(2,len(bins)):\n",
    "        filename = '../data/MC/mjj_DenisSel_QCD_HT%s.root' %bins[f]\n",
    "        file = ROOT.TFile.Open(filename, 'read')\n",
    "        hq = file.Get(names[n])\n",
    "        hq.Scale(ev_weight[f]*weight[f]*lumi*1000)\n",
    "        histo.Add(hq)\n",
    "    myfile.cd()\n",
    "    histo.Write()\n",
    "myfile.Close()"
   ]
  },
  {
   "cell_type": "code",
   "execution_count": null,
   "metadata": {},
   "outputs": [],
   "source": [
    "c = ROOT.TCanvas('','',700,700)\n",
    "histo.Draw()\n",
    "c.Draw()"
   ]
  },
  {
   "cell_type": "code",
   "execution_count": null,
   "metadata": {},
   "outputs": [],
   "source": []
  },
  {
   "cell_type": "code",
   "execution_count": null,
   "metadata": {},
   "outputs": [],
   "source": []
  }
 ],
 "metadata": {
  "kernelspec": {
   "display_name": "Python 3",
   "language": "python",
   "name": "python3"
  },
  "language_info": {
   "codemirror_mode": {
    "name": "ipython",
    "version": 3
   },
   "file_extension": ".py",
   "mimetype": "text/x-python",
   "name": "python",
   "nbconvert_exporter": "python",
   "pygments_lexer": "ipython3",
   "version": "3.7.2"
  }
 },
 "nbformat": 4,
 "nbformat_minor": 2
}
