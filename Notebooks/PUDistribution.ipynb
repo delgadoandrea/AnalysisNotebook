{
 "cells": [
  {
   "cell_type": "code",
   "execution_count": 1,
   "metadata": {},
   "outputs": [
    {
     "name": "stdout",
     "output_type": "stream",
     "text": [
      "Welcome to JupyROOT 6.18/00\n"
     ]
    }
   ],
   "source": [
    "import ROOT\n",
    "import PlotTools\n",
    "from ROOT import TFile, TCanvas, kRed, THStack, kYellow, kGreen, kBlack, TLegend\n",
    "ROOT.enableJSVis()\n",
    "import mplhep as hep\n",
    "#plt.style.use(hep.cms.style.ROOT)"
   ]
  },
  {
   "cell_type": "code",
   "execution_count": 2,
   "metadata": {},
   "outputs": [],
   "source": [
    "file_signal = TFile('../data/pileup/Zprime_m500_dbs0gb1_pileup.root','read')\n",
    "signal_histos = file_signal.Get('pileup')"
   ]
  },
  {
   "cell_type": "code",
   "execution_count": 3,
   "metadata": {},
   "outputs": [],
   "source": [
    "f1 = TFile('../data/MyDataPileupHistogram_DoubleJet90.root','read')\n",
    "f2 = TFile('../data/MyDataPileupHistogram_QuadJet45.root','read')\n",
    "f3 = TFile('../data/pileup/MyDataPileupHistogram.root','read')\n",
    "f1_up = TFile('../data/MyDataPileupHistogram_DoubleJet90_Up.root', 'read')\n",
    "f1_down = TFile('../data/MyDataPileupHistogram_DoubleJet90_Down.root', 'read')"
   ]
  },
  {
   "cell_type": "code",
   "execution_count": 4,
   "metadata": {},
   "outputs": [],
   "source": [
    "p_Di90 = f1.Get('pileup')\n",
    "p_Di90_up = f1_up.Get('pileup')\n",
    "p_Di90_down = f1_down.Get('pileup')\n",
    "p_Qu45 = f2.Get('pileup')\n",
    "p_pileup = f3.Get('pileup')"
   ]
  },
  {
   "cell_type": "code",
   "execution_count": 5,
   "metadata": {},
   "outputs": [
    {
     "name": "stderr",
     "output_type": "stream",
     "text": [
      "INFO:rootpy.plotting.style] using ROOT style 'CMSTDR'\n",
      "IncrementalExecutor::executeFunction: symbol '_ZN7TTabComC1Ev' unresolved while linking [cling interface function]!\n",
      "You are probably missing the definition of TTabCom::TTabCom()\n",
      "Maybe you need to load the corresponding shared library?\n",
      "IncrementalExecutor::executeFunction: symbol '_ZN7TTabCom4HookEPcPiRNSt3__113basic_ostreamIcNS2_11char_traitsIcEEEE' unresolved while linking [cling interface function]!\n",
      "You are probably missing the definition of TTabCom::Hook(char*, int*, std::__1::basic_ostream<char, std::__1::char_traits<char> >&)\n",
      "Maybe you need to load the corresponding shared library?\n",
      "Error in Interpreter::toString: the input *((std::string*)0x7ffedfe37598) = cling::printValue((TH1D*)0x7fe7660a4de0); cannot be evaluated"
     ]
    }
   ],
   "source": [
    "from rootpy.plotting.style import get_style\n",
    "from rootpy.plotting.style.cmstdr.labels import CMS_label\n",
    "\n",
    "style = get_style('CMSTDR')\n",
    "\n",
    "with style:\n",
    "    c = TCanvas(\"\",\"\",700,700)\n",
    "\n",
    "    norm = 1;\n",
    "    p_Di90.Scale(norm/p_Di90.Integral(0,59))\n",
    "    signal_histos.Scale(norm/signal_histos.Integral(0,59))\n",
    "    c.SetLogy()\n",
    "    c.SetGridx()\n",
    "    c.SetGridy()\n",
    "    p_Di90.SetLineColor(kBlack)\n",
    "    p_Di90.SetMarkerColor(kBlack)\n",
    "    p_Di90.SetStats(0)\n",
    "    p_Di90.SetTitle('')\n",
    "    p_Di90.GetXaxis().SetTitle('True number of pileup interactions')\n",
    "    p_Di90.GetXaxis().SetRangeUser(0,60)\n",
    "    p_Di90.GetYaxis().SetRangeUser(0,1.0)\n",
    "    p_Di90.GetYaxis().SetTitle('A.U.')\n",
    "    p_Di90.GetYaxis().SetLabelSize(0.02)\n",
    "    p_Di90.GetYaxis().SetTitleOffset(1.2)\n",
    "    p_Di90.GetXaxis().SetLabelSize(0.02)\n",
    "    p_Di90.GetXaxis().SetTitleOffset(1.2)\n",
    "    p_Di90.SetMarkerStyle(21)\n",
    "    p_Di90.Draw()\n",
    "    signal_histos.SetLineColor(kRed)\n",
    "    signal_histos.SetMarkerColor(kRed)\n",
    "    signal_histos.SetMarkerStyle(22)\n",
    "    signal_histos.Draw(\"same\")\n",
    "\n",
    "    leg = TLegend(.65,.7,.97,.92)\n",
    "    leg.SetBorderSize(0)\n",
    "    leg.SetFillColor(0)\n",
    "    leg.SetFillStyle(0)\n",
    "    leg.SetTextFont(42)\n",
    "    leg.SetTextSize(0.035)\n",
    "    leg.AddEntry(p_Di90,\"Data\",\"APL\")\n",
    "    leg.AddEntry(signal_histos,\"Simulation\",\"APL\")\n",
    "    leg.Draw(\"same\")"
   ]
  },
  {
   "cell_type": "code",
   "execution_count": 12,
   "metadata": {},
   "outputs": [
    {
     "name": "stderr",
     "output_type": "stream",
     "text": [
      "ERROR:ROOT.THistPainter.PaintInit] Cannot set Y axis to log scale\n",
      "ERROR:ROOT.THistPainter.PaintInit] Cannot set Y axis to log scale\n",
      "ERROR:ROOT.THistPainter.PaintInit] Cannot set Y axis to log scale\n",
      "INFO:ROOT.TCanvas.Print] png file ../plots/tnpu_datavsmc.png has been created\n"
     ]
    },
    {
     "data": {
      "text/html": [
       "\n",
       "<div id=\"root_plot_5\"\n",
       "     style=\"width: 696px; height: 672px\">\n",
       "</div>\n",
       "\n",
       "<script>\n",
       " requirejs.config({\n",
       "     paths: {\n",
       "       'JSRootCore' : 'https://root.cern.ch/js/notebook//scripts/JSRootCore',\n",
       "     }\n",
       "   });\n",
       " require(['JSRootCore'],\n",
       "     function(Core) {\n",
       "       var obj = Core.JSONR_unref({\"_typename\":\"TCanvas\",\"fUniqueID\":0,\"fBits\":53673992,\"fLineColor\":1,\"fLineStyle\":1,\"fLineWidth\":1,\"fFillColor\":0,\"fFillStyle\":1001,\"fLeftMargin\":0.16,\"fRightMargin\":0.02,\"fBottomMargin\":0.13,\"fTopMargin\":0.05,\"fXfile\":2,\"fYfile\":2,\"fAfile\":1,\"fXstat\":0.99,\"fYstat\":0.99,\"fAstat\":2,\"fFrameFillColor\":0,\"fFrameLineColor\":1,\"fFrameFillStyle\":0,\"fFrameLineStyle\":1,\"fFrameLineWidth\":1,\"fFrameBorderSize\":1,\"fFrameBorderMode\":0,\"fX1\":0,\"fY1\":0,\"fX2\":1,\"fY2\":1,\"fXtoAbsPixelk\":5e-5,\"fXtoPixelk\":5e-5,\"fXtoPixel\":696,\"fYtoAbsPixelk\":672.00005,\"fYtoPixelk\":672.00005,\"fYtoPixel\":-672,\"fUtoAbsPixelk\":5e-5,\"fUtoPixelk\":5e-5,\"fUtoPixel\":696,\"fVtoAbsPixelk\":672.00005,\"fVtoPixelk\":672,\"fVtoPixel\":-672,\"fAbsPixeltoXk\":0,\"fPixeltoXk\":0,\"fPixeltoX\":0.0014367816091954,\"fAbsPixeltoYk\":1,\"fPixeltoYk\":0,\"fPixeltoY\":-0.00148809523809524,\"fXlowNDC\":0,\"fYlowNDC\":0,\"fXUpNDC\":0,\"fYUpNDC\":0,\"fWNDC\":1,\"fHNDC\":1,\"fAbsXlowNDC\":0,\"fAbsYlowNDC\":0,\"fAbsWNDC\":1,\"fAbsHNDC\":1,\"fUxmin\":0,\"fUymin\":0,\"fUxmax\":1,\"fUymax\":1,\"fTheta\":30,\"fPhi\":30,\"fAspectRatio\":0,\"fNumber\":0,\"fTickx\":1,\"fTicky\":1,\"fLogx\":0,\"fLogy\":1,\"fLogz\":0,\"fPadPaint\":0,\"fCrosshair\":0,\"fCrosshairPos\":0,\"fBorderSize\":2,\"fBorderMode\":0,\"fModified\":false,\"fGridx\":true,\"fGridy\":true,\"fAbsCoord\":false,\"fEditable\":true,\"fFixedAspectRatio\":false,\"fPrimitives\":{\"_typename\":\"TList\",\"name\":\"TList\",\"arr\":[{\"_typename\":\"TH1D\",\"fUniqueID\":0,\"fBits\":50332168,\"fName\":\"pileup\",\"fTitle\":\"\",\"fLineColor\":1,\"fLineStyle\":1,\"fLineWidth\":1,\"fFillColor\":0,\"fFillStyle\":1001,\"fMarkerColor\":1,\"fMarkerStyle\":21,\"fMarkerSize\":1,\"fNcells\":72,\"fXaxis\":{\"_typename\":\"TAxis\",\"fUniqueID\":0,\"fBits\":50333704,\"fName\":\"xaxis\",\"fTitle\":\"True number of pileup interactions\",\"fNdivisions\":510,\"fAxisColor\":1,\"fLabelColor\":1,\"fLabelFont\":42,\"fLabelOffset\":0.005,\"fLabelSize\":0.02,\"fTickLength\":0.03,\"fTitleOffset\":1.2,\"fTitleSize\":0.035,\"fTitleColor\":1,\"fTitleFont\":42,\"fNbins\":70,\"fXmin\":0,\"fXmax\":70,\"fXbins\":[],\"fFirst\":1,\"fLast\":60,\"fBits2\":0,\"fTimeDisplay\":false,\"fTimeFormat\":\"\",\"fLabels\":null,\"fModLabs\":null},\"fYaxis\":{\"_typename\":\"TAxis\",\"fUniqueID\":0,\"fBits\":50331656,\"fName\":\"yaxis\",\"fTitle\":\"A.U.\",\"fNdivisions\":510,\"fAxisColor\":1,\"fLabelColor\":1,\"fLabelFont\":42,\"fLabelOffset\":0.005,\"fLabelSize\":0.02,\"fTickLength\":0.03,\"fTitleOffset\":1.2,\"fTitleSize\":0.035,\"fTitleColor\":1,\"fTitleFont\":42,\"fNbins\":1,\"fXmin\":0,\"fXmax\":1,\"fXbins\":[],\"fFirst\":0,\"fLast\":0,\"fBits2\":0,\"fTimeDisplay\":false,\"fTimeFormat\":\"\",\"fLabels\":null,\"fModLabs\":null},\"fZaxis\":{\"_typename\":\"TAxis\",\"fUniqueID\":0,\"fBits\":50331648,\"fName\":\"zaxis\",\"fTitle\":\"\",\"fNdivisions\":510,\"fAxisColor\":1,\"fLabelColor\":1,\"fLabelFont\":42,\"fLabelOffset\":0.005,\"fLabelSize\":0.035,\"fTickLength\":0.03,\"fTitleOffset\":1,\"fTitleSize\":0.035,\"fTitleColor\":1,\"fTitleFont\":42,\"fNbins\":1,\"fXmin\":0,\"fXmax\":1,\"fXbins\":[],\"fFirst\":0,\"fLast\":0,\"fBits2\":0,\"fTimeDisplay\":false,\"fTimeFormat\":\"\",\"fLabels\":null,\"fModLabs\":null},\"fBarOffset\":0,\"fBarWidth\":1000,\"fEntries\":16250345,\"fTsumw\":35849251630.2403,\"fTsumw2\":859673298987194,\"fTsumwx\":830028353701.205,\"fTsumwx2\":20706383888490.6,\"fMaximum\":1,\"fMinimum\":0,\"fNormFactor\":0,\"fContour\":[],\"fSumw2\":[0,6.55962456742813e-13,5.59840358370139e-12,2.38838893272284e-11,3.96189733224738e-11,6.3926179420121e-11,9.67553944389978e-11,1.10408440998328e-10,1.50385102168199e-10,3.83377662335715e-10,8.16117892949222e-10,2.32279776132622e-9,5.98271603851258e-9,1.0841513309387e-8,1.62462492137654e-8,2.17250932210675e-8,2.8463579312695e-8,3.39742749838296e-8,3.73593920193473e-8,3.87754143646018e-8,3.87423669568103e-8,3.89468274179504e-8,4.00832293102044e-8,4.00186303029305e-8,3.82769940101885e-8,3.62796655029074e-8,3.41154544921598e-8,3.13929554342071e-8,2.84421325901457e-8,2.5573927100566e-8,2.27803374284553e-8,1.99456190107615e-8,1.70428952321818e-8,1.41851174077535e-8,1.15199712127948e-8,9.1647049137291e-9,7.17379226962407e-9,5.52340728719293e-9,4.15148527321005e-9,3.00971726655524e-9,2.07873270035512e-9,1.35355475206086e-9,8.24141146156347e-10,4.66216481045046e-10,2.43814095278187e-10,1.17414924629821e-10,5.18830343238656e-11,2.0954301561545e-11,7.69949412169234e-12,2.56091814932718e-12,7.67990310208998e-13,2.08123665063126e-13,5.2426762029656e-14,1.39458234231571e-14,5.42416777206221e-15,3.63025572916456e-15,3.15276688423983e-15,2.88827640538545e-15,2.64224011172543e-15,2.38922645240269e-15,2.13183964295018e-15,1.8764825064443e-15,1.62932961954248e-15,1.39555476660969e-15,1.1791279046168e-15,9.82776189190757e-16,8.08038207642121e-16,6.55385235300476e-16,5.24387943617974e-16,4.13907802974265e-16,3.22294357709944e-16,0],\"fOption\":\"\",\"fFunctions\":{\"_typename\":\"TList\",\"name\":\"TList\",\"arr\":[],\"opt\":[]},\"fBufferSize\":0,\"fBuffer\":[],\"fBinStatErrOpt\":0,\"fStatOverflows\":2,\"fArray\":[0,6.65630985223576e-6,2.32011221403422e-5,6.34869892519999e-5,8.55426781918201e-5,1.22460136907933e-4,1.63818967521153e-4,1.90819586399954e-4,3.48562945900123e-4,9.47304701434736e-4,0.00211992654549864,0.00479691254534343,0.00981987360468524,0.0164977132813572,0.0240327222025884,0.0322146627593386,0.0408333971959673,0.0482249585824851,0.0532613904956189,0.0561242807784684,0.0575441122458986,0.0583909309516463,0.0588400299846404,0.0582999808467146,0.0564981726777691,0.0537823644479465,0.0504835513863437,0.0467214342111957,0.0426261510937861,0.0383754177185543,0.0340950851204069,0.0298468613507653,0.025685416062933,0.0216952303307863,0.0179776337915715,0.0146194574656937,0.0116718308493569,0.00914654328400206,0.00702521301948043,0.00527387032699212,0.00385485091629661,0.00273201532744471,0.00187006358053023,0.00123217561191933,7.7941780426501e-4,4.72356112772993e-4,2.73852815400626e-4,1.51724822515443e-4,8.02800579247059e-5,4.05580790043305e-5,1.95717183049134e-5,9.0338696191001e-6,4.00261596275992e-6,1.71651484697463e-6,7.26302314722092e-7,3.161546566415e-7,1.52659981937885e-7,8.90392053324938e-8,6.40437009311053e-8,5.33578986855182e-8,4.7757276854561e-8,4.38851174985284e-8,4.05716273405997e-8,3.74348063930526e-8,3.43688040031899e-8,3.13616843794381e-8,2.84313268536146e-8,2.56028535615276e-8,2.29005953502662e-8,2.03452226489957e-8,1.79527901697625e-8,0]},{\"_typename\":\"TH1F\",\"fUniqueID\":0,\"fBits\":50331656,\"fName\":\"pileup\",\"fTitle\":\"\",\"fLineColor\":632,\"fLineStyle\":1,\"fLineWidth\":1,\"fFillColor\":0,\"fFillStyle\":1001,\"fMarkerColor\":632,\"fMarkerStyle\":22,\"fMarkerSize\":1,\"fNcells\":72,\"fXaxis\":{\"_typename\":\"TAxis\",\"fUniqueID\":0,\"fBits\":50331648,\"fName\":\"xaxis\",\"fTitle\":\"\",\"fNdivisions\":510,\"fAxisColor\":1,\"fLabelColor\":1,\"fLabelFont\":42,\"fLabelOffset\":0.005,\"fLabelSize\":0.035,\"fTickLength\":0.03,\"fTitleOffset\":1,\"fTitleSize\":0.035,\"fTitleColor\":1,\"fTitleFont\":42,\"fNbins\":70,\"fXmin\":0,\"fXmax\":70,\"fXbins\":[],\"fFirst\":0,\"fLast\":0,\"fBits2\":0,\"fTimeDisplay\":false,\"fTimeFormat\":\"\",\"fLabels\":null,\"fModLabs\":null},\"fYaxis\":{\"_typename\":\"TAxis\",\"fUniqueID\":0,\"fBits\":50331648,\"fName\":\"yaxis\",\"fTitle\":\"\",\"fNdivisions\":510,\"fAxisColor\":1,\"fLabelColor\":1,\"fLabelFont\":42,\"fLabelOffset\":0.005,\"fLabelSize\":0.035,\"fTickLength\":0.03,\"fTitleOffset\":1,\"fTitleSize\":0.035,\"fTitleColor\":1,\"fTitleFont\":42,\"fNbins\":1,\"fXmin\":0,\"fXmax\":1,\"fXbins\":[],\"fFirst\":0,\"fLast\":0,\"fBits2\":0,\"fTimeDisplay\":false,\"fTimeFormat\":\"\",\"fLabels\":null,\"fModLabs\":null},\"fZaxis\":{\"_typename\":\"TAxis\",\"fUniqueID\":0,\"fBits\":50331648,\"fName\":\"zaxis\",\"fTitle\":\"\",\"fNdivisions\":510,\"fAxisColor\":1,\"fLabelColor\":1,\"fLabelFont\":42,\"fLabelOffset\":0.005,\"fLabelSize\":0.035,\"fTickLength\":0.03,\"fTitleOffset\":1,\"fTitleSize\":0.035,\"fTitleColor\":1,\"fTitleFont\":42,\"fNbins\":1,\"fXmin\":0,\"fXmax\":1,\"fXbins\":[],\"fFirst\":0,\"fLast\":0,\"fBits2\":0,\"fTimeDisplay\":false,\"fTimeFormat\":\"\",\"fLabels\":null,\"fModLabs\":null},\"fBarOffset\":0,\"fBarWidth\":1000,\"fEntries\":41950,\"fTsumw\":41949,\"fTsumw2\":41949,\"fTsumwx\":802975,\"fTsumwx2\":17615329,\"fMaximum\":-1111,\"fMinimum\":-1111,\"fNormFactor\":0,\"fContour\":[],\"fSumw2\":[0,0,0,4.54791589562556e-9,1.47807266607831e-8,3.06984322954725e-8,6.9924206895243e-8,1.33595029434001e-7,2.58094227076751e-7,3.67812698058717e-7,5.52571781318506e-7,7.02653005874149e-7,9.35733695524959e-7,1.06364383008943e-6,1.21713599156679e-6,1.39734715893095e-6,1.38938830611361e-6,1.42861408071338e-6,1.47920964505221e-6,1.4320250176351e-6,1.33140237844438e-6,1.23362218668843e-6,1.17791021696702e-6,1.04317820855911e-6,9.07309221177299e-7,8.08960539934397e-7,6.83892852804694e-7,6.08283751039919e-7,5.12777517231782e-7,4.74688721605918e-7,4.22387688806224e-7,3.62696292676138e-7,3.09258280902538e-7,2.54683290155031e-7,2.02950746842291e-7,1.83053614798929e-7,1.52923671990409e-7,1.23362218668843e-7,9.83486812429027e-8,8.58419125299325e-8,7.2766654330009e-8,5.40065012605535e-8,5.85544171561791e-8,4.49106694693024e-8,2.95614533215661e-8,3.41093692171917e-8,1.64861951216427e-8,2.0465621530315e-8,1.02328107651575e-8,9.66432127820432e-9,9.09583179125112e-9,5.68489486953195e-9,6.25338435648515e-9,2.84244743476598e-9,3.97942640867237e-9,4.54791589562556e-9,5.68489486953195e-10,1.70546846085959e-9,1.70546846085959e-9,5.68489486953195e-10,1.70546846085959e-9,5.68489486953195e-10,0,1.70546846085959e-9,0,0,5.68489486953195e-10,0,0,0,0,5.68489486953195e-10],\"fOption\":\"\",\"fFunctions\":{\"_typename\":\"TList\",\"name\":\"TList\",\"arr\":[],\"opt\":[]},\"fBufferSize\":0,\"fBuffer\":[],\"fBinStatErrOpt\":0,\"fStatOverflows\":2,\"fArray\":[0,0,0,1.907441e-4,6.199185e-4,0.001287523,0.002932691,0.005603109,0.01082473,0.01542643,0.02317541,0.02946997,0.03924561,0.04461028,0.0510479,0.05860614,0.05827234,0.0599175,0.06203953,0.06006056,0.05584035,0.05173935,0.04940273,0.04375194,0.03805346,0.03392861,0.02868315,0.02551203,0.0215064,0.01990892,0.01771536,0.01521184,0.0129706,0.01068167,0.008511958,0.007677452,0.006413772,0.005173935,0.004124842,0.003600296,0.003051906,0.002265087,0.002455831,0.001883598,0.001239837,0.001430581,6.914475e-4,8.583486e-4,4.291743e-4,4.053313e-4,3.814883e-4,2.384302e-4,2.622732e-4,1.192151e-4,1.669011e-4,1.907441e-4,2.384302e-5,7.152905e-5,7.152905e-5,2.384302e-5,7.152905e-5,2.384302e-5,0,7.152905e-5,0,0,2.384302e-5,0,0,0,0,2.384302e-5]},{\"_typename\":\"TLegend\",\"fUniqueID\":0,\"fBits\":50331656,\"fLineColor\":1,\"fLineStyle\":1,\"fLineWidth\":1,\"fFillColor\":0,\"fFillStyle\":0,\"fX1\":0.65,\"fY1\":0.7,\"fX2\":0.97,\"fY2\":0.92,\"fX1NDC\":0.65,\"fY1NDC\":0.7,\"fX2NDC\":0.97,\"fY2NDC\":0.92,\"fBorderSize\":0,\"fInit\":1,\"fShadowColor\":1,\"fCornerRadius\":0,\"fOption\":\"brNDC\",\"fName\":\"TPave\",\"fTextAngle\":0,\"fTextSize\":0.035,\"fTextAlign\":12,\"fTextColor\":1,\"fTextFont\":42,\"fPrimitives\":{\"_typename\":\"TList\",\"name\":\"TList\",\"arr\":[{\"_typename\":\"TLegendEntry\",\"fUniqueID\":0,\"fBits\":50331656,\"fTextAngle\":0,\"fTextSize\":0,\"fTextAlign\":0,\"fTextColor\":0,\"fTextFont\":42,\"fLineColor\":1,\"fLineStyle\":1,\"fLineWidth\":1,\"fFillColor\":0,\"fFillStyle\":0,\"fMarkerColor\":1,\"fMarkerStyle\":21,\"fMarkerSize\":1,\"fObject\":{\"$ref\":2},\"fLabel\":\"Data\",\"fOption\":\"APL\"},{\"_typename\":\"TLegendEntry\",\"fUniqueID\":0,\"fBits\":50331656,\"fTextAngle\":0,\"fTextSize\":0,\"fTextAlign\":0,\"fTextColor\":0,\"fTextFont\":42,\"fLineColor\":632,\"fLineStyle\":1,\"fLineWidth\":1,\"fFillColor\":0,\"fFillStyle\":0,\"fMarkerColor\":632,\"fMarkerStyle\":22,\"fMarkerSize\":1,\"fObject\":{\"$ref\":7},\"fLabel\":\"Simulation\",\"fOption\":\"APL\"}],\"opt\":[\"APL\",\"APL\"]},\"fEntrySeparation\":0.1,\"fMargin\":0.25,\"fNColumns\":1,\"fColumnSeparation\":0},{\"_typename\":\"TLatex\",\"fUniqueID\":0,\"fBits\":50348040,\"fName\":\"\",\"fTitle\":\"CMS Preliminary\",\"fTextAngle\":0,\"fTextSize\":0.045,\"fTextAlign\":12,\"fTextColor\":1,\"fTextFont\":62,\"fX\":0.159999996423721,\"fY\":0.974999999627471,\"fLineColor\":1,\"fLineStyle\":1,\"fLineWidth\":2,\"fLimitFactorSize\":3,\"fOriginSize\":0.0450000017881393},{\"_typename\":\"TLatex\",\"fUniqueID\":0,\"fBits\":50348040,\"fName\":\"\",\"fTitle\":\"#sqrt{s}=13TeV\",\"fTextAngle\":0,\"fTextSize\":0.045,\"fTextAlign\":32,\"fTextColor\":1,\"fTextFont\":62,\"fX\":0.980000000447035,\"fY\":0.974999999627471,\"fLineColor\":1,\"fLineStyle\":1,\"fLineWidth\":2,\"fLimitFactorSize\":3,\"fOriginSize\":0.0450000017881393},{\"_typename\":\"TLatex\",\"fUniqueID\":0,\"fBits\":50348040,\"fName\":\"\",\"fTitle\":\"CMS Preliminary\",\"fTextAngle\":0,\"fTextSize\":0.045,\"fTextAlign\":12,\"fTextColor\":1,\"fTextFont\":62,\"fX\":0.159999996423721,\"fY\":0.974999999627471,\"fLineColor\":1,\"fLineStyle\":1,\"fLineWidth\":2,\"fLimitFactorSize\":3,\"fOriginSize\":0.0450000017881393},{\"_typename\":\"TLatex\",\"fUniqueID\":0,\"fBits\":50348040,\"fName\":\"\",\"fTitle\":\"#sqrt{s}=13TeV\",\"fTextAngle\":0,\"fTextSize\":0.045,\"fTextAlign\":32,\"fTextColor\":1,\"fTextFont\":62,\"fX\":0.980000000447035,\"fY\":0.974999999627471,\"fLineColor\":1,\"fLineStyle\":1,\"fLineWidth\":2,\"fLimitFactorSize\":3,\"fOriginSize\":0.0450000017881393},{\"_typename\":\"TLatex\",\"fUniqueID\":0,\"fBits\":50348040,\"fName\":\"\",\"fTitle\":\"CMS Preliminary\",\"fTextAngle\":0,\"fTextSize\":0.045,\"fTextAlign\":12,\"fTextColor\":1,\"fTextFont\":62,\"fX\":0.159999996423721,\"fY\":0.974999999627471,\"fLineColor\":1,\"fLineStyle\":1,\"fLineWidth\":2,\"fLimitFactorSize\":3,\"fOriginSize\":0.0450000017881393},{\"_typename\":\"TLatex\",\"fUniqueID\":0,\"fBits\":50348040,\"fName\":\"\",\"fTitle\":\"#sqrt{s}=13TeV\",\"fTextAngle\":0,\"fTextSize\":0.045,\"fTextAlign\":32,\"fTextColor\":1,\"fTextFont\":62,\"fX\":0.980000000447035,\"fY\":0.974999999627471,\"fLineColor\":1,\"fLineStyle\":1,\"fLineWidth\":2,\"fLimitFactorSize\":3,\"fOriginSize\":0.0450000017881393},{\"_typename\":\"TLatex\",\"fUniqueID\":0,\"fBits\":50348040,\"fName\":\"\",\"fTitle\":\"CMS Preliminary\",\"fTextAngle\":0,\"fTextSize\":0.045,\"fTextAlign\":12,\"fTextColor\":1,\"fTextFont\":62,\"fX\":0.159999996423721,\"fY\":0.974999999627471,\"fLineColor\":1,\"fLineStyle\":1,\"fLineWidth\":2,\"fLimitFactorSize\":3,\"fOriginSize\":0.0450000017881393},{\"_typename\":\"TLatex\",\"fUniqueID\":0,\"fBits\":50348040,\"fName\":\"\",\"fTitle\":\"#sqrt{s}=13TeV\",\"fTextAngle\":0,\"fTextSize\":0.045,\"fTextAlign\":32,\"fTextColor\":1,\"fTextFont\":62,\"fX\":0.980000000447035,\"fY\":0.974999999627471,\"fLineColor\":1,\"fLineStyle\":1,\"fLineWidth\":2,\"fLimitFactorSize\":3,\"fOriginSize\":0.0450000017881393},{\"_typename\":\"TLatex\",\"fUniqueID\":0,\"fBits\":50348040,\"fName\":\"\",\"fTitle\":\"CMS Preliminary\",\"fTextAngle\":0,\"fTextSize\":0.045,\"fTextAlign\":12,\"fTextColor\":1,\"fTextFont\":62,\"fX\":0.159999996423721,\"fY\":0.974999999627471,\"fLineColor\":1,\"fLineStyle\":1,\"fLineWidth\":2,\"fLimitFactorSize\":3,\"fOriginSize\":0.0450000017881393},{\"_typename\":\"TLatex\",\"fUniqueID\":0,\"fBits\":50348040,\"fName\":\"\",\"fTitle\":\"#sqrt{s}=13TeV\",\"fTextAngle\":0,\"fTextSize\":0.045,\"fTextAlign\":32,\"fTextColor\":1,\"fTextFont\":62,\"fX\":0.980000000447035,\"fY\":0.974999999627471,\"fLineColor\":1,\"fLineStyle\":1,\"fLineWidth\":2,\"fLimitFactorSize\":3,\"fOriginSize\":0.0450000017881393}],\"opt\":[\"\",\"same\",\"same\",\"\",\"\",\"\",\"\",\"\",\"\",\"\",\"\",\"\",\"\"]},\"fExecs\":null,\"fName\":\"\",\"fTitle\":\"\",\"fNumPaletteColor\":0,\"fNextPaletteColor\":0,\"fDISPLAY\":\"$DISPLAY\",\"fDoubleBuffer\":0,\"fRetained\":true,\"fXsizeUser\":0,\"fYsizeUser\":0,\"fXsizeReal\":20,\"fYsizeReal\":20,\"fWindowTopX\":0,\"fWindowTopY\":0,\"fWindowWidth\":0,\"fWindowHeight\":0,\"fCw\":696,\"fCh\":672,\"fCatt\":{\"_typename\":\"TAttCanvas\",\"fXBetween\":2,\"fYBetween\":2,\"fTitleFromTop\":1.2,\"fXdate\":0.2,\"fYdate\":0.3,\"fAdate\":1},\"kMoveOpaque\":true,\"kResizeOpaque\":true,\"fHighLightColor\":2,\"fBatch\":true,\"kShowEventStatus\":false,\"kAutoExec\":true,\"kMenuBar\":true});\n",
       "       Core.draw(\"root_plot_5\", obj, \"\");\n",
       "     }\n",
       " );\n",
       "</script>\n"
      ],
      "text/plain": [
       "<IPython.core.display.HTML object>"
      ]
     },
     "metadata": {},
     "output_type": "display_data"
    }
   ],
   "source": [
    "c.Draw()\n",
    "CMS_label(\"Preliminary\", sqrts=13)\n",
    "c.SaveAs('../plots/tnpu_datavsmc.png')"
   ]
  },
  {
   "cell_type": "code",
   "execution_count": 8,
   "metadata": {},
   "outputs": [
    {
     "name": "stderr",
     "output_type": "stream",
     "text": [
      "ERROR:ROOT.THistPainter.PaintInit] Cannot set Y axis to log scale\n",
      "INFO:ROOT.TCanvas.Print] png file ../plots/tnpu_datavsmc.png has been created\n"
     ]
    }
   ],
   "source": [
    "c.SaveAs('../plots/tnpu_datavsmc.png')"
   ]
  },
  {
   "cell_type": "code",
   "execution_count": null,
   "metadata": {},
   "outputs": [],
   "source": [
    "from rootpy.plotting.style import get_style\n",
    "from rootpy.plotting.style.cmstdr.labels import CMS_label\n",
    "\n",
    "style = get_style('CMSTDR')\n",
    "\n",
    "with style:\n",
    "    c2 = TCanvas(\"\",\"\",700,700)\n",
    "\n",
    "    c2.SetLogy()\n",
    "    c2.SetGridx()\n",
    "    c2.SetGridy()\n",
    "    p_Di90.SetLineColor(kBlack)\n",
    "    p_Di90.SetMarkerColor(kBlack)\n",
    "    p_Di90.SetStats(0)\n",
    "    p_Di90.SetTitle('')\n",
    "    p_Di90.GetXaxis().SetTitle('True number of pileup interactions')\n",
    "    p_Di90.GetXaxis().SetRangeUser(0,60)\n",
    "    #p_Di90.GetYaxis().SetRangeUser(0,1.0)\n",
    "    p_Di90.GetYaxis().SetTitle('A.U.')\n",
    "    p_Di90.GetYaxis().SetLabelSize(0.02)\n",
    "    p_Di90.GetYaxis().SetTitleOffset(1.2)\n",
    "    p_Di90.GetXaxis().SetLabelSize(0.02)\n",
    "    p_Di90.GetXaxis().SetTitleOffset(1.2)\n",
    "    p_Di90.SetMarkerStyle(21)\n",
    "    p_Di90.Draw()\n",
    "    p_Di90_up.SetLineColor(kRed)\n",
    "    p_Di90_up.SetMarkerColor(kRed)\n",
    "    p_Di90_up.SetMarkerStyle(21)\n",
    "    p_Di90_down.SetLineColor(kGreen)\n",
    "    p_Di90_down.SetMarkerColor(kGreen)\n",
    "    p_Di90_down.SetMarkerStyle(21)\n",
    "    p_Di90_up.Draw(\"same\")\n",
    "    p_Di90_down.Draw(\"same\")\n",
    "    \n",
    "    leg2 = TLegend(.214,.214,.534,.434)\n",
    "    leg2.SetBorderSize(0)\n",
    "    leg2.SetFillColor(0)\n",
    "    leg2.SetFillStyle(0)\n",
    "    leg2.SetTextFont(42)\n",
    "    leg2.SetTextSize(0.035)\n",
    "    leg2.AddEntry(p_Di90,\"Nominal\",\"APL\")\n",
    "    leg2.AddEntry(p_Di90_up,\"+4.6% #sigma_{minbias}\",\"APL\")\n",
    "    leg2.AddEntry(p_Di90_down,\"-4.6% #sigma_{minbias}\",\"APL\")\n",
    "    leg2.Draw(\"same\")"
   ]
  },
  {
   "cell_type": "code",
   "execution_count": null,
   "metadata": {},
   "outputs": [],
   "source": [
    "c2.Draw()\n",
    "CMS_label(\"Preliminary\", sqrts=13)"
   ]
  },
  {
   "cell_type": "code",
   "execution_count": null,
   "metadata": {},
   "outputs": [],
   "source": [
    "c2.SaveAs('../plots/tnpu_data_shift.png')"
   ]
  },
  {
   "cell_type": "code",
   "execution_count": null,
   "metadata": {},
   "outputs": [],
   "source": []
  }
 ],
 "metadata": {
  "kernelspec": {
   "display_name": "Python 3",
   "language": "python",
   "name": "python3"
  },
  "language_info": {
   "codemirror_mode": {
    "name": "ipython",
    "version": 3
   },
   "file_extension": ".py",
   "mimetype": "text/x-python",
   "name": "python",
   "nbconvert_exporter": "python",
   "pygments_lexer": "ipython3",
   "version": "3.7.4"
  }
 },
 "nbformat": 4,
 "nbformat_minor": 2
}
