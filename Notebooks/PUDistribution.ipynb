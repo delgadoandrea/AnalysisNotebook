{
 "cells": [
  {
   "cell_type": "code",
   "execution_count": 1,
   "metadata": {},
   "outputs": [
    {
     "name": "stdout",
     "output_type": "stream",
     "text": [
      "Welcome to JupyROOT 6.18/00\n"
     ]
    }
   ],
   "source": [
    "import ROOT\n",
    "import PlotTools\n",
    "from ROOT import TFile, TCanvas, kRed, THStack, kYellow, kGreen\n",
    "ROOT.enableJSVis()"
   ]
  },
  {
   "cell_type": "code",
   "execution_count": 2,
   "metadata": {},
   "outputs": [],
   "source": [
    "names = ['HT50to100','HT100to200','HT200to300', 'HT300to500','HT500to700', 'HT700to1000','HT1000to1500','HT1500to2000', 'HT2000toInf' ]\n",
    "lumi = 35.9\n",
    "QCD_xsec = [246300000,28060000,1710000,347500,32060,6829,1207,120,25.25]\n",
    "ttjets_xsec = 831.76\n",
    "QCD_events = [4180469,82003652,18496463,15794083,17690850,15049136,4270914,3970819,1723735]\n",
    "ttjets_events = 39366848"
   ]
  },
  {
   "cell_type": "code",
   "execution_count": 5,
   "metadata": {},
   "outputs": [],
   "source": [
    "QCD_weights = [(x*1.0)/y for x, y in zip(QCD_xsec, QCD_events)]\n",
    "ttjets_weight = lumi*1000.0*ttjets_xsec/ttjets_events\n",
    "ttjets_file = TFile('../data/pileup/TTJets.root','read')\n",
    "ttjets_histos = ttjets_file.Get('pileup')\n",
    "ttjets_histos.Scale(ttjets_weight)\n",
    "\n",
    "QCD_histos =[]\n",
    "for i in range(0, len(QCD_xsec)):\n",
    "    #print(i)\n",
    "    #print(QCD_weights[i])\n",
    "    #print(QCD_xsec[i]/QCD_events[i])\n",
    "    filename = '../data/pileup/QCD_%s.root' %names[i]\n",
    "    file = TFile(filename,'read')\n",
    "    QCD_histos_temp = file.Get('pileup')\n",
    "    QCD_histos_temp.Scale(QCD_weights[i]*lumi*1000.0)\n",
    "    QCD_histos.append(QCD_histos_temp)\n",
    "    #ttjets_histos.Add(QCD_histos_temp)\n"
   ]
  },
  {
   "cell_type": "code",
   "execution_count": 6,
   "metadata": {},
   "outputs": [
    {
     "ename": "SystemError",
     "evalue": "TObject* TH1::Clone(const char* newname = 0) =>\n    problem in C++; program state has been reset",
     "output_type": "error",
     "traceback": [
      "\u001b[0;31m---------------------------------------------------------------------------\u001b[0m",
      "\u001b[0;31mSystemError\u001b[0m                               Traceback (most recent call last)",
      "\u001b[0;32m<ipython-input-6-0e1751ba4e7f>\u001b[0m in \u001b[0;36m<module>\u001b[0;34m\u001b[0m\n\u001b[0;32m----> 1\u001b[0;31m \u001b[0mQCD_all\u001b[0m \u001b[0;34m=\u001b[0m \u001b[0mQCD_histos\u001b[0m\u001b[0;34m[\u001b[0m\u001b[0;36m0\u001b[0m\u001b[0;34m]\u001b[0m\u001b[0;34m.\u001b[0m\u001b[0mClone\u001b[0m\u001b[0;34m(\u001b[0m\u001b[0;34m)\u001b[0m\u001b[0;34m\u001b[0m\u001b[0;34m\u001b[0m\u001b[0m\n\u001b[0m\u001b[1;32m      2\u001b[0m \u001b[0;32mfor\u001b[0m \u001b[0mj\u001b[0m \u001b[0;32min\u001b[0m \u001b[0mrange\u001b[0m\u001b[0;34m(\u001b[0m\u001b[0;36m1\u001b[0m\u001b[0;34m,\u001b[0m\u001b[0mlen\u001b[0m\u001b[0;34m(\u001b[0m\u001b[0mQCD_histos\u001b[0m\u001b[0;34m)\u001b[0m\u001b[0;34m)\u001b[0m\u001b[0;34m:\u001b[0m\u001b[0;34m\u001b[0m\u001b[0;34m\u001b[0m\u001b[0m\n\u001b[1;32m      3\u001b[0m     \u001b[0mQCD_all\u001b[0m\u001b[0;34m.\u001b[0m\u001b[0mAdd\u001b[0m\u001b[0;34m(\u001b[0m\u001b[0mQCD_histos\u001b[0m\u001b[0;34m[\u001b[0m\u001b[0mj\u001b[0m\u001b[0;34m]\u001b[0m\u001b[0;34m)\u001b[0m\u001b[0;34m\u001b[0m\u001b[0;34m\u001b[0m\u001b[0m\n",
      "\u001b[0;31mSystemError\u001b[0m: TObject* TH1::Clone(const char* newname = 0) =>\n    problem in C++; program state has been reset"
     ]
    },
    {
     "name": "stdout",
     "output_type": "stream",
     "text": [
      "[/usr/lib/system/libsystem_platform.dylib] _sigtramp (no debug info)\n",
      "[<unknown binary>] (no debug info)\n",
      "[/usr/local/Cellar/root/6.18.00/lib/root/libPyROOT.so] FastCall(long, void*, void*, void*) (no debug info)\n",
      "[/usr/local/Cellar/root/6.18.00/lib/root/libPyROOT.so] Cppyy::CallR(long, void*, void*) (no debug info)\n",
      "[/usr/local/Cellar/root/6.18.00/lib/root/libPyROOT.so] PyROOT::TCppObjectExecutor::Execute(long, void*, PyROOT::TCallContext*) (no debug info)\n",
      "[/usr/local/Cellar/root/6.18.00/lib/root/libPyROOT.so] PyROOT::TMethodHolder::CallFast(void*, long, PyROOT::TCallContext*) (no debug info)\n",
      "[/usr/local/Cellar/root/6.18.00/lib/root/libPyROOT.so] PyROOT::TMethodHolder::CallSafe(void*, long, PyROOT::TCallContext*) (no debug info)\n",
      "[/usr/local/Cellar/root/6.18.00/lib/root/libPyROOT.so] PyROOT::TMethodHolder::Execute(void*, long, PyROOT::TCallContext*) (no debug info)\n",
      "[/usr/local/Cellar/root/6.18.00/lib/root/libPyROOT.so] PyROOT::TMethodHolder::Call(PyROOT::ObjectProxy*&, _object*, _object*, PyROOT::TCallContext*) (no debug info)\n",
      "[/usr/local/Cellar/root/6.18.00/lib/root/libPyROOT.so] PyROOT::(anonymous namespace)::mp_call(PyROOT::MethodProxy*, _object*, _object*) (no debug info)\n",
      "[/usr/local/Cellar/python/3.7.4/Frameworks/Python.framework/Versions/3.7/Python] _PyObject_FastCallKeywords (no debug info)\n",
      "[/usr/local/Cellar/python/3.7.4/Frameworks/Python.framework/Versions/3.7/Python] call_function (no debug info)\n",
      "[/usr/local/Cellar/python/3.7.4/Frameworks/Python.framework/Versions/3.7/Python] _PyEval_EvalFrameDefault (no debug info)\n",
      "[/usr/local/Cellar/python/3.7.4/Frameworks/Python.framework/Versions/3.7/Python] _PyEval_EvalCodeWithName (no debug info)\n",
      "[/usr/local/Cellar/python/3.7.4/Frameworks/Python.framework/Versions/3.7/Python] PyEval_EvalCode (no debug info)\n",
      "[/usr/local/Cellar/python/3.7.4/Frameworks/Python.framework/Versions/3.7/Python] builtin_exec (no debug info)\n",
      "[/usr/local/Cellar/python/3.7.4/Frameworks/Python.framework/Versions/3.7/Python] _PyMethodDef_RawFastCallKeywords (no debug info)\n",
      "[/usr/local/Cellar/python/3.7.4/Frameworks/Python.framework/Versions/3.7/Python] _PyCFunction_FastCallKeywords (no debug info)\n",
      "[/usr/local/Cellar/python/3.7.4/Frameworks/Python.framework/Versions/3.7/Python] call_function (no debug info)\n",
      "[/usr/local/Cellar/python/3.7.4/Frameworks/Python.framework/Versions/3.7/Python] _PyEval_EvalFrameDefault (no debug info)\n",
      "[/usr/local/Cellar/python/3.7.4/Frameworks/Python.framework/Versions/3.7/Python] gen_send_ex (no debug info)\n",
      "[/usr/local/Cellar/python/3.7.4/Frameworks/Python.framework/Versions/3.7/Python] _PyEval_EvalFrameDefault (no debug info)\n",
      "[/usr/local/Cellar/python/3.7.4/Frameworks/Python.framework/Versions/3.7/Python] gen_send_ex (no debug info)\n",
      "[/usr/local/Cellar/python/3.7.4/Frameworks/Python.framework/Versions/3.7/Python] _PyEval_EvalFrameDefault (no debug info)\n",
      "[/usr/local/Cellar/python/3.7.4/Frameworks/Python.framework/Versions/3.7/Python] gen_send_ex (no debug info)\n",
      "[/usr/local/Cellar/python/3.7.4/Frameworks/Python.framework/Versions/3.7/Python] _PyMethodDef_RawFastCallKeywords (no debug info)\n",
      "[/usr/local/Cellar/python/3.7.4/Frameworks/Python.framework/Versions/3.7/Python] _PyMethodDescr_FastCallKeywords (no debug info)\n",
      "[/usr/local/Cellar/python/3.7.4/Frameworks/Python.framework/Versions/3.7/Python] call_function (no debug info)\n",
      "[/usr/local/Cellar/python/3.7.4/Frameworks/Python.framework/Versions/3.7/Python] _PyEval_EvalFrameDefault (no debug info)\n",
      "[/usr/local/Cellar/python/3.7.4/Frameworks/Python.framework/Versions/3.7/Python] function_code_fastcall (no debug info)\n",
      "[/usr/local/Cellar/python/3.7.4/Frameworks/Python.framework/Versions/3.7/Python] call_function (no debug info)\n",
      "[/usr/local/Cellar/python/3.7.4/Frameworks/Python.framework/Versions/3.7/Python] _PyEval_EvalFrameDefault (no debug info)\n",
      "[/usr/local/Cellar/python/3.7.4/Frameworks/Python.framework/Versions/3.7/Python] function_code_fastcall (no debug info)\n",
      "[/usr/local/Cellar/python/3.7.4/Frameworks/Python.framework/Versions/3.7/Python] call_function (no debug info)\n",
      "[/usr/local/Cellar/python/3.7.4/Frameworks/Python.framework/Versions/3.7/Python] _PyEval_EvalFrameDefault (no debug info)\n",
      "[/usr/local/Cellar/python/3.7.4/Frameworks/Python.framework/Versions/3.7/Python] _PyEval_EvalCodeWithName (no debug info)\n",
      "[/usr/local/Cellar/python/3.7.4/Frameworks/Python.framework/Versions/3.7/Python] _PyFunction_FastCallDict (no debug info)\n",
      "[/usr/local/Cellar/python/3.7.4/Frameworks/Python.framework/Versions/3.7/Python] _PyObject_Call_Prepend (no debug info)\n",
      "[/usr/local/Cellar/python/3.7.4/Frameworks/Python.framework/Versions/3.7/Python] PyObject_Call (no debug info)\n",
      "[/usr/local/Cellar/python/3.7.4/Frameworks/Python.framework/Versions/3.7/Python] _PyEval_EvalFrameDefault (no debug info)\n",
      "[/usr/local/Cellar/python/3.7.4/Frameworks/Python.framework/Versions/3.7/Python] _PyEval_EvalCodeWithName (no debug info)\n",
      "[/usr/local/Cellar/python/3.7.4/Frameworks/Python.framework/Versions/3.7/Python] _PyFunction_FastCallKeywords (no debug info)\n",
      "[/usr/local/Cellar/python/3.7.4/Frameworks/Python.framework/Versions/3.7/Python] call_function (no debug info)\n",
      "[/usr/local/Cellar/python/3.7.4/Frameworks/Python.framework/Versions/3.7/Python] _PyEval_EvalFrameDefault (no debug info)\n",
      "[/usr/local/Cellar/python/3.7.4/Frameworks/Python.framework/Versions/3.7/Python] gen_send_ex (no debug info)\n",
      "[/usr/local/Cellar/python/3.7.4/Frameworks/Python.framework/Versions/3.7/Python] builtin_next (no debug info)\n",
      "[/usr/local/Cellar/python/3.7.4/Frameworks/Python.framework/Versions/3.7/Python] _PyMethodDef_RawFastCallKeywords (no debug info)\n",
      "[/usr/local/Cellar/python/3.7.4/Frameworks/Python.framework/Versions/3.7/Python] _PyCFunction_FastCallKeywords (no debug info)\n",
      "[/usr/local/Cellar/python/3.7.4/Frameworks/Python.framework/Versions/3.7/Python] call_function (no debug info)\n",
      "[/usr/local/Cellar/python/3.7.4/Frameworks/Python.framework/Versions/3.7/Python] _PyEval_EvalFrameDefault (no debug info)\n",
      "[/usr/local/Cellar/python/3.7.4/Frameworks/Python.framework/Versions/3.7/Python] _PyEval_EvalCodeWithName (no debug info)\n",
      "[/usr/local/Cellar/python/3.7.4/Frameworks/Python.framework/Versions/3.7/Python] _PyFunction_FastCallKeywords (no debug info)\n",
      "[/usr/local/Cellar/python/3.7.4/Frameworks/Python.framework/Versions/3.7/Python] call_function (no debug info)\n",
      "[/usr/local/Cellar/python/3.7.4/Frameworks/Python.framework/Versions/3.7/Python] _PyEval_EvalFrameDefault (no debug info)\n",
      "[/usr/local/Cellar/python/3.7.4/Frameworks/Python.framework/Versions/3.7/Python] gen_send_ex (no debug info)\n",
      "[/usr/local/Cellar/python/3.7.4/Frameworks/Python.framework/Versions/3.7/Python] builtin_next (no debug info)\n",
      "[/usr/local/Cellar/python/3.7.4/Frameworks/Python.framework/Versions/3.7/Python] _PyMethodDef_RawFastCallKeywords (no debug info)\n",
      "[/usr/local/Cellar/python/3.7.4/Frameworks/Python.framework/Versions/3.7/Python] _PyCFunction_FastCallKeywords (no debug info)\n",
      "[/usr/local/Cellar/python/3.7.4/Frameworks/Python.framework/Versions/3.7/Python] call_function (no debug info)\n",
      "[/usr/local/Cellar/python/3.7.4/Frameworks/Python.framework/Versions/3.7/Python] _PyEval_EvalFrameDefault (no debug info)\n",
      "[/usr/local/Cellar/python/3.7.4/Frameworks/Python.framework/Versions/3.7/Python] _PyEval_EvalCodeWithName (no debug info)\n",
      "[/usr/local/Cellar/python/3.7.4/Frameworks/Python.framework/Versions/3.7/Python] _PyFunction_FastCallKeywords (no debug info)\n",
      "[/usr/local/Cellar/python/3.7.4/Frameworks/Python.framework/Versions/3.7/Python] call_function (no debug info)\n",
      "[/usr/local/Cellar/python/3.7.4/Frameworks/Python.framework/Versions/3.7/Python] _PyEval_EvalFrameDefault (no debug info)\n",
      "[/usr/local/Cellar/python/3.7.4/Frameworks/Python.framework/Versions/3.7/Python] gen_send_ex (no debug info)\n",
      "[/usr/local/Cellar/python/3.7.4/Frameworks/Python.framework/Versions/3.7/Python] builtin_next (no debug info)\n",
      "[/usr/local/Cellar/python/3.7.4/Frameworks/Python.framework/Versions/3.7/Python] _PyMethodDef_RawFastCallKeywords (no debug info)\n",
      "[/usr/local/Cellar/python/3.7.4/Frameworks/Python.framework/Versions/3.7/Python] _PyCFunction_FastCallKeywords (no debug info)\n",
      "[/usr/local/Cellar/python/3.7.4/Frameworks/Python.framework/Versions/3.7/Python] call_function (no debug info)\n",
      "[/usr/local/Cellar/python/3.7.4/Frameworks/Python.framework/Versions/3.7/Python] _PyEval_EvalFrameDefault (no debug info)\n",
      "[/usr/local/Cellar/python/3.7.4/Frameworks/Python.framework/Versions/3.7/Python] _PyEval_EvalCodeWithName (no debug info)\n",
      "[/usr/local/Cellar/python/3.7.4/Frameworks/Python.framework/Versions/3.7/Python] _PyFunction_FastCallDict (no debug info)\n",
      "[/usr/local/Cellar/python/3.7.4/Frameworks/Python.framework/Versions/3.7/Python] _PyObject_Call_Prepend (no debug info)\n",
      "[/usr/local/Cellar/python/3.7.4/Frameworks/Python.framework/Versions/3.7/Python] PyObject_Call (no debug info)\n",
      "[/usr/local/Cellar/python/3.7.4/Frameworks/Python.framework/Versions/3.7/Python] _PyEval_EvalFrameDefault (no debug info)\n",
      "[/usr/local/Cellar/python/3.7.4/Frameworks/Python.framework/Versions/3.7/Python] gen_send_ex (no debug info)\n",
      "[/usr/local/Cellar/python/3.7.4/Frameworks/Python.framework/Versions/3.7/Python] _PyMethodDef_RawFastCallKeywords (no debug info)\n",
      "[/usr/local/Cellar/python/3.7.4/Frameworks/Python.framework/Versions/3.7/Python] _PyMethodDescr_FastCallKeywords (no debug info)\n",
      "[/usr/local/Cellar/python/3.7.4/Frameworks/Python.framework/Versions/3.7/Python] call_function (no debug info)\n",
      "[/usr/local/Cellar/python/3.7.4/Frameworks/Python.framework/Versions/3.7/Python] _PyEval_EvalFrameDefault (no debug info)\n",
      "[/usr/local/Cellar/python/3.7.4/Frameworks/Python.framework/Versions/3.7/Python] function_code_fastcall (no debug info)\n",
      "[/usr/local/Cellar/python/3.7.4/Frameworks/Python.framework/Versions/3.7/Python] call_function (no debug info)\n",
      "[/usr/local/Cellar/python/3.7.4/Frameworks/Python.framework/Versions/3.7/Python] _PyEval_EvalFrameDefault (no debug info)\n",
      "[/usr/local/Cellar/python/3.7.4/Frameworks/Python.framework/Versions/3.7/Python] _PyEval_EvalCodeWithName (no debug info)\n",
      "[/usr/local/Cellar/python/3.7.4/Frameworks/Python.framework/Versions/3.7/Python] _PyFunction_FastCallDict (no debug info)\n",
      "[/usr/local/Cellar/python/3.7.4/Frameworks/Python.framework/Versions/3.7/Python] partial_call (no debug info)\n",
      "[/usr/local/Cellar/python/3.7.4/Frameworks/Python.framework/Versions/3.7/Python] _PyObject_FastCallKeywords (no debug info)\n",
      "[/usr/local/Cellar/python/3.7.4/Frameworks/Python.framework/Versions/3.7/Python] call_function (no debug info)\n",
      "[/usr/local/Cellar/python/3.7.4/Frameworks/Python.framework/Versions/3.7/Python] _PyEval_EvalFrameDefault (no debug info)\n",
      "[/usr/local/Cellar/python/3.7.4/Frameworks/Python.framework/Versions/3.7/Python] function_code_fastcall (no debug info)\n",
      "[/usr/local/Cellar/python/3.7.4/Frameworks/Python.framework/Versions/3.7/Python] call_function (no debug info)\n",
      "[/usr/local/Cellar/python/3.7.4/Frameworks/Python.framework/Versions/3.7/Python] _PyEval_EvalFrameDefault (no debug info)\n",
      "[/usr/local/Cellar/python/3.7.4/Frameworks/Python.framework/Versions/3.7/Python] _PyEval_EvalCodeWithName (no debug info)\n",
      "[/usr/local/Cellar/python/3.7.4/Frameworks/Python.framework/Versions/3.7/Python] _PyFunction_FastCallKeywords (no debug info)\n",
      "[/usr/local/Cellar/python/3.7.4/Frameworks/Python.framework/Versions/3.7/Python] context_run (no debug info)\n",
      "[/usr/local/Cellar/python/3.7.4/Frameworks/Python.framework/Versions/3.7/Python] _PyMethodDef_RawFastCallDict (no debug info)\n",
      "[/usr/local/Cellar/python/3.7.4/Frameworks/Python.framework/Versions/3.7/Python] _PyCFunction_FastCallDict (no debug info)\n",
      "[/usr/local/Cellar/python/3.7.4/Frameworks/Python.framework/Versions/3.7/Python] _PyEval_EvalFrameDefault (no debug info)\n",
      "[/usr/local/Cellar/python/3.7.4/Frameworks/Python.framework/Versions/3.7/Python] function_code_fastcall (no debug info)\n",
      "[/usr/local/Cellar/python/3.7.4/Frameworks/Python.framework/Versions/3.7/Python] call_function (no debug info)\n",
      "[/usr/local/Cellar/python/3.7.4/Frameworks/Python.framework/Versions/3.7/Python] _PyEval_EvalFrameDefault (no debug info)\n",
      "[/usr/local/Cellar/python/3.7.4/Frameworks/Python.framework/Versions/3.7/Python] function_code_fastcall (no debug info)\n",
      "[/usr/local/Cellar/python/3.7.4/Frameworks/Python.framework/Versions/3.7/Python] call_function (no debug info)\n",
      "[/usr/local/Cellar/python/3.7.4/Frameworks/Python.framework/Versions/3.7/Python] _PyEval_EvalFrameDefault (no debug info)\n",
      "[/usr/local/Cellar/python/3.7.4/Frameworks/Python.framework/Versions/3.7/Python] function_code_fastcall (no debug info)\n",
      "[/usr/local/Cellar/python/3.7.4/Frameworks/Python.framework/Versions/3.7/Python] call_function (no debug info)\n",
      "[/usr/local/Cellar/python/3.7.4/Frameworks/Python.framework/Versions/3.7/Python] _PyEval_EvalFrameDefault (no debug info)\n",
      "[/usr/local/Cellar/python/3.7.4/Frameworks/Python.framework/Versions/3.7/Python] function_code_fastcall (no debug info)\n",
      "[/usr/local/Cellar/python/3.7.4/Frameworks/Python.framework/Versions/3.7/Python] call_function (no debug info)\n",
      "[/usr/local/Cellar/python/3.7.4/Frameworks/Python.framework/Versions/3.7/Python] _PyEval_EvalFrameDefault (no debug info)\n",
      "[/usr/local/Cellar/python/3.7.4/Frameworks/Python.framework/Versions/3.7/Python] function_code_fastcall (no debug info)\n",
      "[/usr/local/Cellar/python/3.7.4/Frameworks/Python.framework/Versions/3.7/Python] call_function (no debug info)\n",
      "[/usr/local/Cellar/python/3.7.4/Frameworks/Python.framework/Versions/3.7/Python] _PyEval_EvalFrameDefault (no debug info)\n",
      "[/usr/local/Cellar/python/3.7.4/Frameworks/Python.framework/Versions/3.7/Python] _PyEval_EvalCodeWithName (no debug info)\n",
      "[/usr/local/Cellar/python/3.7.4/Frameworks/Python.framework/Versions/3.7/Python] _PyFunction_FastCallKeywords (no debug info)\n",
      "[/usr/local/Cellar/python/3.7.4/Frameworks/Python.framework/Versions/3.7/Python] call_function (no debug info)\n",
      "[/usr/local/Cellar/python/3.7.4/Frameworks/Python.framework/Versions/3.7/Python] _PyEval_EvalFrameDefault (no debug info)\n",
      "[/usr/local/Cellar/python/3.7.4/Frameworks/Python.framework/Versions/3.7/Python] _PyEval_EvalCodeWithName (no debug info)\n",
      "[/usr/local/Cellar/python/3.7.4/Frameworks/Python.framework/Versions/3.7/Python] PyEval_EvalCode (no debug info)\n",
      "[/usr/local/Cellar/python/3.7.4/Frameworks/Python.framework/Versions/3.7/Python] builtin_exec (no debug info)\n",
      "[/usr/local/Cellar/python/3.7.4/Frameworks/Python.framework/Versions/3.7/Python] _PyMethodDef_RawFastCallKeywords (no debug info)\n",
      "[/usr/local/Cellar/python/3.7.4/Frameworks/Python.framework/Versions/3.7/Python] _PyCFunction_FastCallKeywords (no debug info)\n",
      "[/usr/local/Cellar/python/3.7.4/Frameworks/Python.framework/Versions/3.7/Python] call_function (no debug info)\n",
      "[/usr/local/Cellar/python/3.7.4/Frameworks/Python.framework/Versions/3.7/Python] _PyEval_EvalFrameDefault (no debug info)\n",
      "[/usr/local/Cellar/python/3.7.4/Frameworks/Python.framework/Versions/3.7/Python] _PyEval_EvalCodeWithName (no debug info)\n",
      "[/usr/local/Cellar/python/3.7.4/Frameworks/Python.framework/Versions/3.7/Python] _PyFunction_FastCallKeywords (no debug info)\n"
     ]
    },
    {
     "name": "stderr",
     "output_type": "stream",
     "text": [
      "\n",
      " *** Break *** segmentation violation\n"
     ]
    }
   ],
   "source": [
    "QCD_all = QCD_histos[0].Clone()\n",
    "for j in range(1,len(QCD_histos)):\n",
    "    QCD_all.Add(QCD_histos[j])"
   ]
  },
  {
   "cell_type": "code",
   "execution_count": null,
   "metadata": {},
   "outputs": [],
   "source": [
    "f1 = TFile('../data/MyDataPileupHistogram_DoubleJet90.root','read')\n",
    "f2 = TFile('../data/MyDataPileupHistogram_QuadJet45.root','read')\n",
    "f3 = TFile('../data/pileup/MyDataPileupHistogram.root','read')"
   ]
  },
  {
   "cell_type": "code",
   "execution_count": null,
   "metadata": {},
   "outputs": [],
   "source": [
    "p_Di90 = f1.Get('pileup')\n",
    "p_Qu45 = f2.Get('pileup')\n",
    "p_pileup = f3.Get('pileup')"
   ]
  },
  {
   "cell_type": "code",
   "execution_count": null,
   "metadata": {},
   "outputs": [],
   "source": [
    "c = TCanvas(\"\",\"\",700,700)\n",
    "\n",
    "p_Di90.SetLineColor(kRed)\n",
    "p_pileup.SetLineColor(kRed)\n",
    "ttjets_histos.Draw()\n",
    "QCD_all.SetLineColor(kYellow)\n",
    "QCD_all.Draw(\"same\")\n",
    "p_Di90.Draw(\"same\")\n",
    "p_pileup.Draw(\"same\")"
   ]
  },
  {
   "cell_type": "code",
   "execution_count": null,
   "metadata": {},
   "outputs": [],
   "source": [
    "c.Draw()"
   ]
  },
  {
   "cell_type": "code",
   "execution_count": null,
   "metadata": {},
   "outputs": [],
   "source": []
  }
 ],
 "metadata": {
  "kernelspec": {
   "display_name": "Python 3",
   "language": "python",
   "name": "python3"
  },
  "language_info": {
   "codemirror_mode": {
    "name": "ipython",
    "version": 3
   },
   "file_extension": ".py",
   "mimetype": "text/x-python",
   "name": "python",
   "nbconvert_exporter": "python",
   "pygments_lexer": "ipython3",
   "version": "3.7.4"
  }
 },
 "nbformat": 4,
 "nbformat_minor": 2
}
