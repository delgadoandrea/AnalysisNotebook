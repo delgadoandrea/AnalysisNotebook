{
 "cells": [
  {
   "cell_type": "code",
   "execution_count": 17,
   "metadata": {},
   "outputs": [],
   "source": [
    "import ROOT\n",
    "import PlotTools\n",
    "from ROOT import TFile, TCanvas, kRed, THStack, kYellow, kGreen, kBlack, TLegend\n",
    "ROOT.enableJSVis()"
   ]
  },
  {
   "cell_type": "code",
   "execution_count": 3,
   "metadata": {},
   "outputs": [],
   "source": [
    "file_signal = TFile('../data/pileup/Zprime_m500_dbs0gb1_pileup.root','read')\n",
    "signal_histos = file_signal.Get('pileup')"
   ]
  },
  {
   "cell_type": "code",
   "execution_count": 4,
   "metadata": {},
   "outputs": [],
   "source": [
    "f1 = TFile('../data/MyDataPileupHistogram_DoubleJet90.root','read')\n",
    "f2 = TFile('../data/MyDataPileupHistogram_QuadJet45.root','read')\n",
    "f3 = TFile('../data/pileup/MyDataPileupHistogram.root','read')"
   ]
  },
  {
   "cell_type": "code",
   "execution_count": 5,
   "metadata": {},
   "outputs": [],
   "source": [
    "p_Di90 = f1.Get('pileup')\n",
    "p_Qu45 = f2.Get('pileup')\n",
    "p_pileup = f3.Get('pileup')"
   ]
  },
  {
   "cell_type": "code",
   "execution_count": 25,
   "metadata": {},
   "outputs": [
    {
     "name": "stderr",
     "output_type": "stream",
     "text": [
      "Warning in <TCanvas::Constructor>: Deleting canvas with same name: \n"
     ]
    }
   ],
   "source": [
    "c = TCanvas(\"\",\"\",700,700)\n",
    "\n",
    "norm = 1;\n",
    "p_Di90.Scale(norm/p_Di90.Integral(0,59))\n",
    "signal_histos.Scale(norm/signal_histos.Integral(0,59))\n",
    "c.SetLogy()\n",
    "p_Di90.SetLineColor(kBlack)\n",
    "p_Di90.SetMarkerColor(kBlack)\n",
    "p_Di90.SetStats(0)\n",
    "p_Di90.SetTitle('')\n",
    "p_Di90.GetXaxis().SetTitle('Number of pileup interactions')\n",
    "p_Di90.GetXaxis().SetRangeUser(0,60)\n",
    "p_Di90.GetYaxis().SetRangeUser(0,1.0)\n",
    "p_Di90.GetYaxis().SetTitle('A.U.')\n",
    "p_Di90.GetYaxis().SetLabelSize(0.02)\n",
    "p_Di90.GetYaxis().SetTitleOffset(1.2)\n",
    "p_Di90.GetXaxis().SetLabelSize(0.02)\n",
    "p_Di90.GetXaxis().SetTitleOffset(1.2)\n",
    "p_Di90.SetMarkerStyle(21)\n",
    "p_Di90.Draw()\n",
    "signal_histos.SetLineColor(kRed)\n",
    "signal_histos.SetMarkerColor(kRed)\n",
    "signal_histos.SetMarkerStyle(22)\n",
    "signal_histos.Draw(\"same\")\n",
    "\n",
    "leg = TLegend(.63,.63,.97,.92)\n",
    "leg.SetBorderSize(0)\n",
    "leg.SetFillColor(0)\n",
    "leg.SetFillStyle(0)\n",
    "leg.SetTextFont(42)\n",
    "leg.SetTextSize(0.035)\n",
    "leg.AddEntry(p_Di90,\"Data\",\"APL\")\n",
    "leg.AddEntry(signal_histos,\"Simulation\",\"APL\")\n",
    "leg.Draw(\"same\")"
   ]
  },
  {
   "cell_type": "code",
   "execution_count": 26,
   "metadata": {},
   "outputs": [
    {
     "name": "stderr",
     "output_type": "stream",
     "text": [
      "Error in <THistPainter::PaintInit>: Cannot set Y axis to log scale\n"
     ]
    },
    {
     "data": {
      "text/html": [
       "\n",
       "<div id=\"root_plot_9\"\n",
       "     style=\"width: 696px; height: 672px\">\n",
       "</div>\n",
       "\n",
       "<script>\n",
       " requirejs.config({\n",
       "     paths: {\n",
       "       'JSRootCore' : 'https://root.cern.ch/js/notebook//scripts/JSRootCore',\n",
       "     }\n",
       "   });\n",
       " require(['JSRootCore'],\n",
       "     function(Core) {\n",
       "       var obj = Core.JSONR_unref({\"_typename\":\"TCanvas\",\"fUniqueID\":0,\"fBits\":53673992,\"fLineColor\":1,\"fLineStyle\":1,\"fLineWidth\":1,\"fFillColor\":0,\"fFillStyle\":1001,\"fLeftMargin\":0.1,\"fRightMargin\":0.1,\"fBottomMargin\":0.1,\"fTopMargin\":0.1,\"fXfile\":2,\"fYfile\":2,\"fAfile\":1,\"fXstat\":0.99,\"fYstat\":0.99,\"fAstat\":2,\"fFrameFillColor\":0,\"fFrameLineColor\":1,\"fFrameFillStyle\":1001,\"fFrameLineStyle\":1,\"fFrameLineWidth\":1,\"fFrameBorderSize\":1,\"fFrameBorderMode\":0,\"fX1\":0,\"fY1\":0,\"fX2\":1,\"fY2\":1,\"fXtoAbsPixelk\":5e-5,\"fXtoPixelk\":5e-5,\"fXtoPixel\":696,\"fYtoAbsPixelk\":672.00005,\"fYtoPixelk\":672.00005,\"fYtoPixel\":-672,\"fUtoAbsPixelk\":5e-5,\"fUtoPixelk\":5e-5,\"fUtoPixel\":696,\"fVtoAbsPixelk\":672.00005,\"fVtoPixelk\":672,\"fVtoPixel\":-672,\"fAbsPixeltoXk\":0,\"fPixeltoXk\":0,\"fPixeltoX\":0.0014367816091954,\"fAbsPixeltoYk\":1,\"fPixeltoYk\":0,\"fPixeltoY\":-0.00148809523809524,\"fXlowNDC\":0,\"fYlowNDC\":0,\"fXUpNDC\":0,\"fYUpNDC\":0,\"fWNDC\":1,\"fHNDC\":1,\"fAbsXlowNDC\":0,\"fAbsYlowNDC\":0,\"fAbsWNDC\":1,\"fAbsHNDC\":1,\"fUxmin\":0,\"fUymin\":0,\"fUxmax\":1,\"fUymax\":1,\"fTheta\":30,\"fPhi\":30,\"fAspectRatio\":0,\"fNumber\":0,\"fTickx\":0,\"fTicky\":0,\"fLogx\":0,\"fLogy\":1,\"fLogz\":0,\"fPadPaint\":0,\"fCrosshair\":0,\"fCrosshairPos\":0,\"fBorderSize\":2,\"fBorderMode\":0,\"fModified\":false,\"fGridx\":false,\"fGridy\":false,\"fAbsCoord\":false,\"fEditable\":true,\"fFixedAspectRatio\":false,\"fPrimitives\":{\"_typename\":\"TList\",\"name\":\"TList\",\"arr\":[{\"_typename\":\"TH1D\",\"fUniqueID\":0,\"fBits\":50332168,\"fName\":\"pileup\",\"fTitle\":\"\",\"fLineColor\":1,\"fLineStyle\":1,\"fLineWidth\":1,\"fFillColor\":0,\"fFillStyle\":1001,\"fMarkerColor\":1,\"fMarkerStyle\":21,\"fMarkerSize\":1,\"fNcells\":102,\"fXaxis\":{\"_typename\":\"TAxis\",\"fUniqueID\":0,\"fBits\":50333704,\"fName\":\"xaxis\",\"fTitle\":\"Number of pileup interactions\",\"fNdivisions\":510,\"fAxisColor\":1,\"fLabelColor\":1,\"fLabelFont\":42,\"fLabelOffset\":0.005,\"fLabelSize\":0.02,\"fTickLength\":0.03,\"fTitleOffset\":1.2,\"fTitleSize\":0.035,\"fTitleColor\":1,\"fTitleFont\":42,\"fNbins\":100,\"fXmin\":0,\"fXmax\":100,\"fXbins\":[],\"fFirst\":1,\"fLast\":60,\"fBits2\":0,\"fTimeDisplay\":false,\"fTimeFormat\":\"\",\"fLabels\":null,\"fModLabs\":null},\"fYaxis\":{\"_typename\":\"TAxis\",\"fUniqueID\":0,\"fBits\":50331656,\"fName\":\"yaxis\",\"fTitle\":\"A.U.\",\"fNdivisions\":510,\"fAxisColor\":1,\"fLabelColor\":1,\"fLabelFont\":42,\"fLabelOffset\":0.005,\"fLabelSize\":0.02,\"fTickLength\":0.03,\"fTitleOffset\":1.2,\"fTitleSize\":0.035,\"fTitleColor\":1,\"fTitleFont\":42,\"fNbins\":1,\"fXmin\":0,\"fXmax\":1,\"fXbins\":[],\"fFirst\":0,\"fLast\":0,\"fBits2\":0,\"fTimeDisplay\":false,\"fTimeFormat\":\"\",\"fLabels\":null,\"fModLabs\":null},\"fZaxis\":{\"_typename\":\"TAxis\",\"fUniqueID\":0,\"fBits\":50331648,\"fName\":\"zaxis\",\"fTitle\":\"\",\"fNdivisions\":510,\"fAxisColor\":1,\"fLabelColor\":1,\"fLabelFont\":42,\"fLabelOffset\":0.005,\"fLabelSize\":0.035,\"fTickLength\":0.03,\"fTitleOffset\":1,\"fTitleSize\":0.035,\"fTitleColor\":1,\"fTitleFont\":42,\"fNbins\":1,\"fXmin\":0,\"fXmax\":1,\"fXbins\":[],\"fFirst\":0,\"fLast\":0,\"fBits2\":0,\"fTimeDisplay\":false,\"fTimeFormat\":\"\",\"fLabels\":null,\"fModLabs\":null},\"fBarOffset\":0,\"fBarWidth\":1000,\"fEntries\":23214755,\"fTsumw\":35849255240.8392,\"fTsumw2\":859673300179621,\"fTsumwx\":830028625030.289,\"fTsumwx2\":20706404352184.2,\"fMaximum\":1,\"fMinimum\":0,\"fNormFactor\":0,\"fContour\":[],\"fSumw2\":[0,6.55962456742812e-13,5.59840358370139e-12,2.38838893272284e-11,3.96189733224738e-11,6.39261794201209e-11,9.67553944389977e-11,1.10408440998328e-10,1.50385102168199e-10,3.83377662335715e-10,8.16117892949221e-10,2.32279776132621e-9,5.98271603851257e-9,1.0841513309387e-8,1.62462492137654e-8,2.17250932210674e-8,2.8463579312695e-8,3.39742749838295e-8,3.73593920193473e-8,3.87754143646017e-8,3.87423669568102e-8,3.89468274179503e-8,4.00832293102043e-8,4.00186303029305e-8,3.82769940101884e-8,3.62796655029074e-8,3.41154544921598e-8,3.1392955434207e-8,2.84421325901457e-8,2.5573927100566e-8,2.27803374284553e-8,1.99456190107615e-8,1.70428952321818e-8,1.41851174077535e-8,1.15199712127948e-8,9.16470491372908e-9,7.17379226962406e-9,5.52340728719293e-9,4.15148527321004e-9,3.00971726655523e-9,2.07873270035512e-9,1.35355475206086e-9,8.24141146156346e-10,4.66216481045045e-10,2.43814095278187e-10,1.17414924629821e-10,5.18830343238656e-11,2.0954301561545e-11,7.69949412169233e-12,2.56091814932718e-12,7.67990310208997e-13,2.08123665063126e-13,5.2426762029656e-14,1.3945823423157e-14,5.4241677720622e-15,3.63025572916456e-15,3.15276688423983e-15,2.88827640538544e-15,2.64224011172543e-15,2.38922645240269e-15,2.13183964295018e-15,1.8764825064443e-15,1.62932961954248e-15,1.39555476660969e-15,1.17912790461679e-15,9.82776189190756e-16,8.08038207642119e-16,6.55385235300475e-16,5.24387943617974e-16,4.13907802974264e-16,3.22294357709944e-16,2.47572814218236e-16,1.87610451382161e-16,1.40254647780912e-16,1.03439323175072e-16,7.52599570448515e-17,5.40198753770705e-17,3.8252134188204e-17,2.67221358508183e-17,1.84162318065151e-17,1.25211723276798e-17,8.39854699322402e-18,5.55748675485694e-18,3.6280048981057e-18,2.33653533204691e-18,1.48453931812631e-18,9.3051982935254e-19,5.75405183247868e-19,3.51023087810455e-19,2.11256888519093e-19,1.25429249004779e-19,7.34681212741041e-20,4.2453217206734e-20,2.42009943366682e-20,1.36102496141971e-20,7.55107153287054e-21,4.13294874878362e-21,2.23161729794157e-21,1.18874034927607e-21,6.24685174081915e-22,3.23848307299457e-22,0],\"fOption\":\"\",\"fFunctions\":{\"_typename\":\"TList\",\"name\":\"TList\",\"arr\":[],\"opt\":[]},\"fBufferSize\":0,\"fBuffer\":[],\"fBinStatErrOpt\":0,\"fStatOverflows\":2,\"fArray\":[0,6.65630985223575e-6,2.32011221403422e-5,6.34869892519999e-5,8.554267819182e-5,1.22460136907932e-4,1.63818967521153e-4,1.90819586399954e-4,3.48562945900123e-4,9.47304701434735e-4,0.00211992654549864,0.00479691254534342,0.00981987360468523,0.0164977132813571,0.0240327222025883,0.0322146627593386,0.0408333971959672,0.048224958582485,0.0532613904956188,0.0561242807784684,0.0575441122458986,0.0583909309516463,0.0588400299846403,0.0582999808467145,0.0564981726777691,0.0537823644479465,0.0504835513863437,0.0467214342111956,0.042626151093786,0.0383754177185543,0.0340950851204069,0.0298468613507653,0.0256854160629329,0.0216952303307863,0.0179776337915715,0.0146194574656936,0.0116718308493569,0.00914654328400206,0.00702521301948042,0.00527387032699212,0.00385485091629661,0.00273201532744471,0.00187006358053023,0.00123217561191933,7.7941780426501e-4,4.72356112772993e-4,2.73852815400626e-4,1.51724822515443e-4,8.02800579247059e-5,4.05580790043305e-5,1.95717183049134e-5,9.0338696191001e-6,4.00261596275991e-6,1.71651484697463e-6,7.26302314722092e-7,3.161546566415e-7,1.52659981937885e-7,8.90392053324937e-8,6.40437009311053e-8,5.33578986855182e-8,4.77572768545609e-8,4.38851174985283e-8,4.05716273405997e-8,3.74348063930526e-8,3.43688040031898e-8,3.13616843794381e-8,2.84313268536146e-8,2.56028535615276e-8,2.29005953502662e-8,2.03452226489956e-8,1.79527901697625e-8,1.57345540059021e-8,1.36971456986299e-8,1.18429378462573e-8,1.01705224268493e-8,8.67525408599588e-9,7.34982336291058e-9,6.18483179082665e-9,5.169346128328e-9,4.29141387215711e-9,3.53852691596982e-9,2.89802469391843e-9,2.35743224663637e-9,1.90473224139562e-9,1.52857297375786e-9,1.21841672646649e-9,9.64634557593458e-10,7.58554667342608e-10,5.92472014392293e-10,4.59626901439108e-10,3.54159920102004e-10,2.71050034633101e-10,2.06041785099192e-10,1.55566687747457e-10,1.16662974478611e-10,8.68969017449445e-11,6.42880140367053e-11,4.72399968029377e-11,3.44781140620549e-11,2.49937026885157e-11,1.79957858205597e-11,0]},{\"_typename\":\"TH1F\",\"fUniqueID\":0,\"fBits\":50331656,\"fName\":\"pileup\",\"fTitle\":\"\",\"fLineColor\":632,\"fLineStyle\":1,\"fLineWidth\":1,\"fFillColor\":0,\"fFillStyle\":1001,\"fMarkerColor\":632,\"fMarkerStyle\":22,\"fMarkerSize\":1,\"fNcells\":72,\"fXaxis\":{\"_typename\":\"TAxis\",\"fUniqueID\":0,\"fBits\":50331648,\"fName\":\"xaxis\",\"fTitle\":\"\",\"fNdivisions\":510,\"fAxisColor\":1,\"fLabelColor\":1,\"fLabelFont\":42,\"fLabelOffset\":0.005,\"fLabelSize\":0.035,\"fTickLength\":0.03,\"fTitleOffset\":1,\"fTitleSize\":0.035,\"fTitleColor\":1,\"fTitleFont\":42,\"fNbins\":70,\"fXmin\":0,\"fXmax\":70,\"fXbins\":[],\"fFirst\":0,\"fLast\":0,\"fBits2\":0,\"fTimeDisplay\":false,\"fTimeFormat\":\"\",\"fLabels\":null,\"fModLabs\":null},\"fYaxis\":{\"_typename\":\"TAxis\",\"fUniqueID\":0,\"fBits\":50331648,\"fName\":\"yaxis\",\"fTitle\":\"\",\"fNdivisions\":510,\"fAxisColor\":1,\"fLabelColor\":1,\"fLabelFont\":42,\"fLabelOffset\":0.005,\"fLabelSize\":0.035,\"fTickLength\":0.03,\"fTitleOffset\":1,\"fTitleSize\":0.035,\"fTitleColor\":1,\"fTitleFont\":42,\"fNbins\":1,\"fXmin\":0,\"fXmax\":1,\"fXbins\":[],\"fFirst\":0,\"fLast\":0,\"fBits2\":0,\"fTimeDisplay\":false,\"fTimeFormat\":\"\",\"fLabels\":null,\"fModLabs\":null},\"fZaxis\":{\"_typename\":\"TAxis\",\"fUniqueID\":0,\"fBits\":50331648,\"fName\":\"zaxis\",\"fTitle\":\"\",\"fNdivisions\":510,\"fAxisColor\":1,\"fLabelColor\":1,\"fLabelFont\":42,\"fLabelOffset\":0.005,\"fLabelSize\":0.035,\"fTickLength\":0.03,\"fTitleOffset\":1,\"fTitleSize\":0.035,\"fTitleColor\":1,\"fTitleFont\":42,\"fNbins\":1,\"fXmin\":0,\"fXmax\":1,\"fXbins\":[],\"fFirst\":0,\"fLast\":0,\"fBits2\":0,\"fTimeDisplay\":false,\"fTimeFormat\":\"\",\"fLabels\":null,\"fModLabs\":null},\"fBarOffset\":0,\"fBarWidth\":1000,\"fEntries\":41950,\"fTsumw\":41949,\"fTsumw2\":41949,\"fTsumwx\":802975,\"fTsumwx2\":17615329,\"fMaximum\":-1111,\"fMinimum\":-1111,\"fNormFactor\":0,\"fContour\":[],\"fSumw2\":[0,0,0,4.54791613520038e-9,1.47807274394012e-8,3.06984339126025e-8,6.99242105787058e-8,1.33595036471511e-7,2.58094240672621e-7,3.6781271743433e-7,5.52571810426846e-7,7.02653042888458e-7,9.35733744817477e-7,1.06364388611999e-6,1.217136055683e-6,1.39734723254032e-6,1.38938837930371e-6,1.42861415596982e-6,1.47920972297392e-6,1.43202509307122e-6,1.33140244857991e-6,1.2336222516731e-6,1.1779102790169e-6,1.04317826351159e-6,9.07309268972475e-7,8.08960582548767e-7,6.83892888830757e-7,6.0828378308305e-7,5.12777544243842e-7,4.74688746611539e-7,4.22387711056735e-7,3.6269631178223e-7,3.09258297193626e-7,2.54683303571221e-7,2.02950757533317e-7,1.83053624441815e-7,1.52923680046113e-7,1.2336222516731e-7,9.83486864237081e-8,8.58419170519071e-8,7.2766658163206e-8,5.40065041055045e-8,5.85544202407048e-8,4.49106718351037e-8,2.95614548788024e-8,3.41093710140028e-8,1.64861959901014e-8,2.04656226084017e-8,1.02328113042008e-8,9.6643217873008e-9,9.09583227040075e-9,5.68489516900047e-9,6.25338468590052e-9,2.84244758450023e-9,3.97942661830033e-9,4.54791613520038e-9,5.68489516900047e-10,1.70546855070014e-9,1.70546855070014e-9,5.68489516900047e-10,1.70546855070014e-9,5.68489516900047e-10,0,1.70546855070014e-9,0,0,5.68489516900047e-10,0,0,0,0,5.68489516900047e-10],\"fOption\":\"\",\"fFunctions\":{\"_typename\":\"TList\",\"name\":\"TList\",\"arr\":[],\"opt\":[]},\"fBufferSize\":0,\"fBuffer\":[],\"fBinStatErrOpt\":0,\"fStatOverflows\":2,\"fArray\":[0,0,0,1.907441e-4,6.199185e-4,0.001287523,0.002932691,0.005603109,0.01082473,0.01542643,0.02317541,0.02946997,0.03924561,0.04461028,0.0510479,0.05860614,0.05827234,0.0599175,0.06203953,0.06006056,0.05584035,0.05173935,0.04940273,0.04375194,0.03805346,0.03392861,0.02868315,0.02551203,0.0215064,0.01990892,0.01771536,0.01521184,0.0129706,0.01068167,0.008511958,0.007677452,0.006413772,0.005173935,0.004124842,0.003600296,0.003051906,0.002265087,0.002455831,0.001883598,0.001239837,0.001430581,6.914475e-4,8.583486e-4,4.291743e-4,4.053313e-4,3.814883e-4,2.384302e-4,2.622732e-4,1.192151e-4,1.669011e-4,1.907441e-4,2.384302e-5,7.152905e-5,7.152905e-5,2.384302e-5,7.152905e-5,2.384302e-5,0,7.152905e-5,0,0,2.384302e-5,0,0,0,0,2.384302e-5]},{\"_typename\":\"TLegend\",\"fUniqueID\":0,\"fBits\":50331656,\"fLineColor\":1,\"fLineStyle\":1,\"fLineWidth\":1,\"fFillColor\":0,\"fFillStyle\":0,\"fX1\":0.63,\"fY1\":0.63,\"fX2\":0.97,\"fY2\":0.92,\"fX1NDC\":0.63,\"fY1NDC\":0.63,\"fX2NDC\":0.97,\"fY2NDC\":0.92,\"fBorderSize\":0,\"fInit\":1,\"fShadowColor\":1,\"fCornerRadius\":0,\"fOption\":\"brNDC\",\"fName\":\"TPave\",\"fTextAngle\":0,\"fTextSize\":0.035,\"fTextAlign\":12,\"fTextColor\":1,\"fTextFont\":42,\"fPrimitives\":{\"_typename\":\"TList\",\"name\":\"TList\",\"arr\":[{\"_typename\":\"TLegendEntry\",\"fUniqueID\":0,\"fBits\":50331656,\"fTextAngle\":0,\"fTextSize\":0,\"fTextAlign\":0,\"fTextColor\":0,\"fTextFont\":42,\"fLineColor\":1,\"fLineStyle\":1,\"fLineWidth\":1,\"fFillColor\":0,\"fFillStyle\":0,\"fMarkerColor\":1,\"fMarkerStyle\":21,\"fMarkerSize\":1,\"fObject\":{\"$ref\":2},\"fLabel\":\"Data\",\"fOption\":\"APL\"},{\"_typename\":\"TLegendEntry\",\"fUniqueID\":0,\"fBits\":50331656,\"fTextAngle\":0,\"fTextSize\":0,\"fTextAlign\":0,\"fTextColor\":0,\"fTextFont\":42,\"fLineColor\":632,\"fLineStyle\":1,\"fLineWidth\":1,\"fFillColor\":0,\"fFillStyle\":0,\"fMarkerColor\":632,\"fMarkerStyle\":22,\"fMarkerSize\":1,\"fObject\":{\"$ref\":7},\"fLabel\":\"Simulation\",\"fOption\":\"APL\"}],\"opt\":[\"APL\",\"APL\"]},\"fEntrySeparation\":0.1,\"fMargin\":0.25,\"fNColumns\":1,\"fColumnSeparation\":0}],\"opt\":[\"\",\"same\",\"same\"]},\"fExecs\":null,\"fName\":\"\",\"fTitle\":\"\",\"fNumPaletteColor\":0,\"fNextPaletteColor\":0,\"fDISPLAY\":\"$DISPLAY\",\"fDoubleBuffer\":0,\"fRetained\":true,\"fXsizeUser\":0,\"fYsizeUser\":0,\"fXsizeReal\":20,\"fYsizeReal\":20,\"fWindowTopX\":0,\"fWindowTopY\":0,\"fWindowWidth\":0,\"fWindowHeight\":0,\"fCw\":696,\"fCh\":672,\"fCatt\":{\"_typename\":\"TAttCanvas\",\"fXBetween\":2,\"fYBetween\":2,\"fTitleFromTop\":1.2,\"fXdate\":0.2,\"fYdate\":0.3,\"fAdate\":1},\"kMoveOpaque\":true,\"kResizeOpaque\":true,\"fHighLightColor\":2,\"fBatch\":true,\"kShowEventStatus\":false,\"kAutoExec\":true,\"kMenuBar\":true});\n",
       "       Core.draw(\"root_plot_9\", obj, \"\");\n",
       "     }\n",
       " );\n",
       "</script>\n"
      ],
      "text/plain": [
       "<IPython.core.display.HTML object>"
      ]
     },
     "metadata": {},
     "output_type": "display_data"
    }
   ],
   "source": [
    "c.Draw()"
   ]
  },
  {
   "cell_type": "code",
   "execution_count": null,
   "metadata": {},
   "outputs": [],
   "source": []
  },
  {
   "cell_type": "code",
   "execution_count": null,
   "metadata": {},
   "outputs": [],
   "source": []
  }
 ],
 "metadata": {
  "kernelspec": {
   "display_name": "Python 3",
   "language": "python",
   "name": "python3"
  },
  "language_info": {
   "codemirror_mode": {
    "name": "ipython",
    "version": 3
   },
   "file_extension": ".py",
   "mimetype": "text/x-python",
   "name": "python",
   "nbconvert_exporter": "python",
   "pygments_lexer": "ipython3",
   "version": "3.7.2"
  }
 },
 "nbformat": 4,
 "nbformat_minor": 2
}
